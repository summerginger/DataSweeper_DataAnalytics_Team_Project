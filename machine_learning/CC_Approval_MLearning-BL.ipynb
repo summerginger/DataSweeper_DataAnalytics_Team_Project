{
 "cells": [
  {
   "cell_type": "markdown",
   "id": "a8066504",
   "metadata": {},
   "source": [
    "## Import Dependencies & Librairies"
   ]
  },
  {
   "cell_type": "code",
   "execution_count": 1,
   "id": "ca6851a6",
   "metadata": {},
   "outputs": [],
   "source": [
    "# Import our dependencies\n",
    "import pandas as pd\n",
    "import numpy as np\n",
    "import matplotlib .pyplot as plt\n",
    "%matplotlib inline\n",
    "from pathlib import Path\n",
    "from collections import Counter\n",
    "\n",
    "from sklearn.preprocessing import StandardScaler\n",
    "from sklearn.model_selection import train_test_split\n",
    "from sklearn.metrics import confusion_matrix, accuracy_score, classification_report, balanced_accuracy_score\n",
    "from sklearn.linear_model import LogisticRegression\n",
    "from sklearn import tree\n",
    "from sklearn.ensemble import RandomForestClassifier\n",
    "from sklearn.ensemble import GradientBoostingClassifier\n",
    "from sklearn.svm import SVC\n",
    "from sklearn.metrics import ConfusionMatrixDisplay\n",
    "\n",
    "from imblearn.metrics import classification_report_imbalanced\n",
    "from imblearn.under_sampling import RandomUnderSampler\n",
    "from imblearn.metrics import classification_report_imbalanced\n",
    "from imblearn.under_sampling import ClusterCentroids\n",
    "from imblearn.combine import SMOTEENN\n",
    "\n",
    "\n",
    "from sklearn.tree import export_graphviz\n",
    "from six import StringIO\n",
    "from IPython.display import display, Image\n",
    "import pydotplus\n",
    "import graphviz\n",
    "import seaborn as sns"
   ]
  },
  {
   "cell_type": "code",
   "execution_count": 2,
   "id": "de6c7cc3",
   "metadata": {},
   "outputs": [],
   "source": [
    "import warnings\n",
    "warnings.filterwarnings('ignore')"
   ]
  },
  {
   "cell_type": "markdown",
   "id": "49678dea",
   "metadata": {},
   "source": [
    "## Import Datasets"
   ]
  },
  {
   "cell_type": "code",
   "execution_count": 3,
   "id": "5fe99426",
   "metadata": {},
   "outputs": [],
   "source": [
    "# Import dataset - credit_record.csv\n",
    "credit_record_df = pd.read_csv('Resources/credit_record.csv')\n",
    "# Import dataset - application_record.csv\n",
    "application_record_df = pd.read_csv('Resources/application_record.csv')"
   ]
  },
  {
   "cell_type": "markdown",
   "id": "cf0eab8d",
   "metadata": {},
   "source": [
    "## Datasets Demographics"
   ]
  },
  {
   "cell_type": "code",
   "execution_count": 4,
   "id": "b437a02a",
   "metadata": {},
   "outputs": [
    {
     "data": {
      "text/html": [
       "<div>\n",
       "<style scoped>\n",
       "    .dataframe tbody tr th:only-of-type {\n",
       "        vertical-align: middle;\n",
       "    }\n",
       "\n",
       "    .dataframe tbody tr th {\n",
       "        vertical-align: top;\n",
       "    }\n",
       "\n",
       "    .dataframe thead th {\n",
       "        text-align: right;\n",
       "    }\n",
       "</style>\n",
       "<table border=\"1\" class=\"dataframe\">\n",
       "  <thead>\n",
       "    <tr style=\"text-align: right;\">\n",
       "      <th></th>\n",
       "      <th>ID</th>\n",
       "      <th>MONTHS_BALANCE</th>\n",
       "      <th>STATUS</th>\n",
       "    </tr>\n",
       "  </thead>\n",
       "  <tbody>\n",
       "    <tr>\n",
       "      <th>0</th>\n",
       "      <td>5001711</td>\n",
       "      <td>0</td>\n",
       "      <td>X</td>\n",
       "    </tr>\n",
       "    <tr>\n",
       "      <th>1</th>\n",
       "      <td>5001711</td>\n",
       "      <td>-1</td>\n",
       "      <td>0</td>\n",
       "    </tr>\n",
       "    <tr>\n",
       "      <th>2</th>\n",
       "      <td>5001711</td>\n",
       "      <td>-2</td>\n",
       "      <td>0</td>\n",
       "    </tr>\n",
       "    <tr>\n",
       "      <th>3</th>\n",
       "      <td>5001711</td>\n",
       "      <td>-3</td>\n",
       "      <td>0</td>\n",
       "    </tr>\n",
       "    <tr>\n",
       "      <th>4</th>\n",
       "      <td>5001712</td>\n",
       "      <td>0</td>\n",
       "      <td>C</td>\n",
       "    </tr>\n",
       "  </tbody>\n",
       "</table>\n",
       "</div>"
      ],
      "text/plain": [
       "        ID  MONTHS_BALANCE STATUS\n",
       "0  5001711               0      X\n",
       "1  5001711              -1      0\n",
       "2  5001711              -2      0\n",
       "3  5001711              -3      0\n",
       "4  5001712               0      C"
      ]
     },
     "execution_count": 4,
     "metadata": {},
     "output_type": "execute_result"
    }
   ],
   "source": [
    "# Dataframes display\n",
    "credit_record_df.head(5)"
   ]
  },
  {
   "cell_type": "code",
   "execution_count": 5,
   "id": "e5412ede",
   "metadata": {},
   "outputs": [
    {
     "data": {
      "text/html": [
       "<div>\n",
       "<style scoped>\n",
       "    .dataframe tbody tr th:only-of-type {\n",
       "        vertical-align: middle;\n",
       "    }\n",
       "\n",
       "    .dataframe tbody tr th {\n",
       "        vertical-align: top;\n",
       "    }\n",
       "\n",
       "    .dataframe thead th {\n",
       "        text-align: right;\n",
       "    }\n",
       "</style>\n",
       "<table border=\"1\" class=\"dataframe\">\n",
       "  <thead>\n",
       "    <tr style=\"text-align: right;\">\n",
       "      <th></th>\n",
       "      <th>ID</th>\n",
       "      <th>CODE_GENDER</th>\n",
       "      <th>FLAG_OWN_CAR</th>\n",
       "      <th>FLAG_OWN_REALTY</th>\n",
       "      <th>CNT_CHILDREN</th>\n",
       "      <th>AMT_INCOME_TOTAL</th>\n",
       "      <th>NAME_INCOME_TYPE</th>\n",
       "      <th>NAME_EDUCATION_TYPE</th>\n",
       "      <th>NAME_FAMILY_STATUS</th>\n",
       "      <th>NAME_HOUSING_TYPE</th>\n",
       "      <th>DAYS_BIRTH</th>\n",
       "      <th>DAYS_EMPLOYED</th>\n",
       "      <th>FLAG_MOBIL</th>\n",
       "      <th>FLAG_WORK_PHONE</th>\n",
       "      <th>FLAG_PHONE</th>\n",
       "      <th>FLAG_EMAIL</th>\n",
       "      <th>OCCUPATION_TYPE</th>\n",
       "      <th>CNT_FAM_MEMBERS</th>\n",
       "    </tr>\n",
       "  </thead>\n",
       "  <tbody>\n",
       "    <tr>\n",
       "      <th>0</th>\n",
       "      <td>5008804</td>\n",
       "      <td>M</td>\n",
       "      <td>Y</td>\n",
       "      <td>Y</td>\n",
       "      <td>0</td>\n",
       "      <td>427500.0</td>\n",
       "      <td>Working</td>\n",
       "      <td>Higher education</td>\n",
       "      <td>Civil marriage</td>\n",
       "      <td>Rented apartment</td>\n",
       "      <td>-12005</td>\n",
       "      <td>-4542</td>\n",
       "      <td>1</td>\n",
       "      <td>1</td>\n",
       "      <td>0</td>\n",
       "      <td>0</td>\n",
       "      <td>NaN</td>\n",
       "      <td>2.0</td>\n",
       "    </tr>\n",
       "    <tr>\n",
       "      <th>1</th>\n",
       "      <td>5008805</td>\n",
       "      <td>M</td>\n",
       "      <td>Y</td>\n",
       "      <td>Y</td>\n",
       "      <td>0</td>\n",
       "      <td>427500.0</td>\n",
       "      <td>Working</td>\n",
       "      <td>Higher education</td>\n",
       "      <td>Civil marriage</td>\n",
       "      <td>Rented apartment</td>\n",
       "      <td>-12005</td>\n",
       "      <td>-4542</td>\n",
       "      <td>1</td>\n",
       "      <td>1</td>\n",
       "      <td>0</td>\n",
       "      <td>0</td>\n",
       "      <td>NaN</td>\n",
       "      <td>2.0</td>\n",
       "    </tr>\n",
       "    <tr>\n",
       "      <th>2</th>\n",
       "      <td>5008806</td>\n",
       "      <td>M</td>\n",
       "      <td>Y</td>\n",
       "      <td>Y</td>\n",
       "      <td>0</td>\n",
       "      <td>112500.0</td>\n",
       "      <td>Working</td>\n",
       "      <td>Secondary / secondary special</td>\n",
       "      <td>Married</td>\n",
       "      <td>House / apartment</td>\n",
       "      <td>-21474</td>\n",
       "      <td>-1134</td>\n",
       "      <td>1</td>\n",
       "      <td>0</td>\n",
       "      <td>0</td>\n",
       "      <td>0</td>\n",
       "      <td>Security staff</td>\n",
       "      <td>2.0</td>\n",
       "    </tr>\n",
       "    <tr>\n",
       "      <th>3</th>\n",
       "      <td>5008808</td>\n",
       "      <td>F</td>\n",
       "      <td>N</td>\n",
       "      <td>Y</td>\n",
       "      <td>0</td>\n",
       "      <td>270000.0</td>\n",
       "      <td>Commercial associate</td>\n",
       "      <td>Secondary / secondary special</td>\n",
       "      <td>Single / not married</td>\n",
       "      <td>House / apartment</td>\n",
       "      <td>-19110</td>\n",
       "      <td>-3051</td>\n",
       "      <td>1</td>\n",
       "      <td>0</td>\n",
       "      <td>1</td>\n",
       "      <td>1</td>\n",
       "      <td>Sales staff</td>\n",
       "      <td>1.0</td>\n",
       "    </tr>\n",
       "    <tr>\n",
       "      <th>4</th>\n",
       "      <td>5008809</td>\n",
       "      <td>F</td>\n",
       "      <td>N</td>\n",
       "      <td>Y</td>\n",
       "      <td>0</td>\n",
       "      <td>270000.0</td>\n",
       "      <td>Commercial associate</td>\n",
       "      <td>Secondary / secondary special</td>\n",
       "      <td>Single / not married</td>\n",
       "      <td>House / apartment</td>\n",
       "      <td>-19110</td>\n",
       "      <td>-3051</td>\n",
       "      <td>1</td>\n",
       "      <td>0</td>\n",
       "      <td>1</td>\n",
       "      <td>1</td>\n",
       "      <td>Sales staff</td>\n",
       "      <td>1.0</td>\n",
       "    </tr>\n",
       "  </tbody>\n",
       "</table>\n",
       "</div>"
      ],
      "text/plain": [
       "        ID CODE_GENDER FLAG_OWN_CAR FLAG_OWN_REALTY  CNT_CHILDREN  \\\n",
       "0  5008804           M            Y               Y             0   \n",
       "1  5008805           M            Y               Y             0   \n",
       "2  5008806           M            Y               Y             0   \n",
       "3  5008808           F            N               Y             0   \n",
       "4  5008809           F            N               Y             0   \n",
       "\n",
       "   AMT_INCOME_TOTAL      NAME_INCOME_TYPE            NAME_EDUCATION_TYPE  \\\n",
       "0          427500.0               Working               Higher education   \n",
       "1          427500.0               Working               Higher education   \n",
       "2          112500.0               Working  Secondary / secondary special   \n",
       "3          270000.0  Commercial associate  Secondary / secondary special   \n",
       "4          270000.0  Commercial associate  Secondary / secondary special   \n",
       "\n",
       "     NAME_FAMILY_STATUS  NAME_HOUSING_TYPE  DAYS_BIRTH  DAYS_EMPLOYED  \\\n",
       "0        Civil marriage   Rented apartment      -12005          -4542   \n",
       "1        Civil marriage   Rented apartment      -12005          -4542   \n",
       "2               Married  House / apartment      -21474          -1134   \n",
       "3  Single / not married  House / apartment      -19110          -3051   \n",
       "4  Single / not married  House / apartment      -19110          -3051   \n",
       "\n",
       "   FLAG_MOBIL  FLAG_WORK_PHONE  FLAG_PHONE  FLAG_EMAIL OCCUPATION_TYPE  \\\n",
       "0           1                1           0           0             NaN   \n",
       "1           1                1           0           0             NaN   \n",
       "2           1                0           0           0  Security staff   \n",
       "3           1                0           1           1     Sales staff   \n",
       "4           1                0           1           1     Sales staff   \n",
       "\n",
       "   CNT_FAM_MEMBERS  \n",
       "0              2.0  \n",
       "1              2.0  \n",
       "2              2.0  \n",
       "3              1.0  \n",
       "4              1.0  "
      ]
     },
     "execution_count": 5,
     "metadata": {},
     "output_type": "execute_result"
    }
   ],
   "source": [
    "# Dataframes display\n",
    "application_record_df.head(5)"
   ]
  },
  {
   "cell_type": "code",
   "execution_count": 6,
   "id": "cd9fb7fb",
   "metadata": {},
   "outputs": [
    {
     "name": "stdout",
     "output_type": "stream",
     "text": [
      "<class 'pandas.core.frame.DataFrame'>\n",
      "RangeIndex: 1048575 entries, 0 to 1048574\n",
      "Data columns (total 3 columns):\n",
      " #   Column          Non-Null Count    Dtype \n",
      "---  ------          --------------    ----- \n",
      " 0   ID              1048575 non-null  int64 \n",
      " 1   MONTHS_BALANCE  1048575 non-null  int64 \n",
      " 2   STATUS          1048575 non-null  object\n",
      "dtypes: int64(2), object(1)\n",
      "memory usage: 24.0+ MB\n"
     ]
    }
   ],
   "source": [
    "# Get the info of the Dataframe - credit_record_df\n",
    "credit_record_df.info()"
   ]
  },
  {
   "cell_type": "code",
   "execution_count": 7,
   "id": "376b82fc",
   "metadata": {},
   "outputs": [
    {
     "name": "stdout",
     "output_type": "stream",
     "text": [
      "<class 'pandas.core.frame.DataFrame'>\n",
      "RangeIndex: 438557 entries, 0 to 438556\n",
      "Data columns (total 18 columns):\n",
      " #   Column               Non-Null Count   Dtype  \n",
      "---  ------               --------------   -----  \n",
      " 0   ID                   438557 non-null  int64  \n",
      " 1   CODE_GENDER          438557 non-null  object \n",
      " 2   FLAG_OWN_CAR         438557 non-null  object \n",
      " 3   FLAG_OWN_REALTY      438557 non-null  object \n",
      " 4   CNT_CHILDREN         438557 non-null  int64  \n",
      " 5   AMT_INCOME_TOTAL     438557 non-null  float64\n",
      " 6   NAME_INCOME_TYPE     438557 non-null  object \n",
      " 7   NAME_EDUCATION_TYPE  438557 non-null  object \n",
      " 8   NAME_FAMILY_STATUS   438557 non-null  object \n",
      " 9   NAME_HOUSING_TYPE    438557 non-null  object \n",
      " 10  DAYS_BIRTH           438557 non-null  int64  \n",
      " 11  DAYS_EMPLOYED        438557 non-null  int64  \n",
      " 12  FLAG_MOBIL           438557 non-null  int64  \n",
      " 13  FLAG_WORK_PHONE      438557 non-null  int64  \n",
      " 14  FLAG_PHONE           438557 non-null  int64  \n",
      " 15  FLAG_EMAIL           438557 non-null  int64  \n",
      " 16  OCCUPATION_TYPE      304354 non-null  object \n",
      " 17  CNT_FAM_MEMBERS      438557 non-null  float64\n",
      "dtypes: float64(2), int64(8), object(8)\n",
      "memory usage: 60.2+ MB\n"
     ]
    }
   ],
   "source": [
    "# Get the info of the DataFrame - application_record_df\n",
    "application_record_df.info()"
   ]
  },
  {
   "cell_type": "markdown",
   "id": "2b49fd0f",
   "metadata": {},
   "source": [
    "### Get the unique counts of each variable from the two DataFrames"
   ]
  },
  {
   "cell_type": "code",
   "execution_count": 8,
   "id": "5bd01207",
   "metadata": {},
   "outputs": [
    {
     "data": {
      "text/plain": [
       "ID                45985\n",
       "MONTHS_BALANCE       61\n",
       "STATUS                8\n",
       "dtype: int64"
      ]
     },
     "execution_count": 8,
     "metadata": {},
     "output_type": "execute_result"
    }
   ],
   "source": [
    "credit_record_df.nunique()"
   ]
  },
  {
   "cell_type": "code",
   "execution_count": 9,
   "id": "2f4f6391",
   "metadata": {},
   "outputs": [
    {
     "data": {
      "text/plain": [
       "ID                     438510\n",
       "CODE_GENDER                 2\n",
       "FLAG_OWN_CAR                2\n",
       "FLAG_OWN_REALTY             2\n",
       "CNT_CHILDREN               12\n",
       "AMT_INCOME_TOTAL          866\n",
       "NAME_INCOME_TYPE            5\n",
       "NAME_EDUCATION_TYPE         5\n",
       "NAME_FAMILY_STATUS          5\n",
       "NAME_HOUSING_TYPE           6\n",
       "DAYS_BIRTH              16379\n",
       "DAYS_EMPLOYED            9406\n",
       "FLAG_MOBIL                  1\n",
       "FLAG_WORK_PHONE             2\n",
       "FLAG_PHONE                  2\n",
       "FLAG_EMAIL                  2\n",
       "OCCUPATION_TYPE            18\n",
       "CNT_FAM_MEMBERS            13\n",
       "dtype: int64"
      ]
     },
     "execution_count": 9,
     "metadata": {},
     "output_type": "execute_result"
    }
   ],
   "source": [
    "application_record_df.nunique()"
   ]
  },
  {
   "cell_type": "markdown",
   "id": "f8692ff5",
   "metadata": {},
   "source": [
    "# Cleaning \"credit_record_df\""
   ]
  },
  {
   "cell_type": "code",
   "execution_count": 10,
   "id": "37546d60",
   "metadata": {},
   "outputs": [
    {
     "data": {
      "text/plain": [
       "C    442031\n",
       "0    383120\n",
       "X    209230\n",
       "1     11090\n",
       "5      1693\n",
       "2       868\n",
       "3       320\n",
       "4       223\n",
       "Name: STATUS, dtype: int64"
      ]
     },
     "execution_count": 10,
     "metadata": {},
     "output_type": "execute_result"
    }
   ],
   "source": [
    "# Count how many entries for each STATUS\n",
    "credit_record_df['STATUS'].value_counts()"
   ]
  },
  {
   "cell_type": "code",
   "execution_count": 11,
   "id": "7aa1a6cc",
   "metadata": {},
   "outputs": [],
   "source": [
    "#Calculate the age of each MONTH_BALANCE & \n",
    "credit_record_df['Months_from_Today']= credit_record_df['MONTHS_BALANCE']* -1"
   ]
  },
  {
   "cell_type": "code",
   "execution_count": 12,
   "id": "cec41f18",
   "metadata": {},
   "outputs": [
    {
     "data": {
      "text/html": [
       "<div>\n",
       "<style scoped>\n",
       "    .dataframe tbody tr th:only-of-type {\n",
       "        vertical-align: middle;\n",
       "    }\n",
       "\n",
       "    .dataframe tbody tr th {\n",
       "        vertical-align: top;\n",
       "    }\n",
       "\n",
       "    .dataframe thead th {\n",
       "        text-align: right;\n",
       "    }\n",
       "</style>\n",
       "<table border=\"1\" class=\"dataframe\">\n",
       "  <thead>\n",
       "    <tr style=\"text-align: right;\">\n",
       "      <th></th>\n",
       "      <th>ID</th>\n",
       "      <th>MONTHS_BALANCE</th>\n",
       "      <th>STATUS</th>\n",
       "      <th>Months_from_Today</th>\n",
       "    </tr>\n",
       "  </thead>\n",
       "  <tbody>\n",
       "    <tr>\n",
       "      <th>0</th>\n",
       "      <td>5001711</td>\n",
       "      <td>0</td>\n",
       "      <td>X</td>\n",
       "      <td>0</td>\n",
       "    </tr>\n",
       "    <tr>\n",
       "      <th>1</th>\n",
       "      <td>5001711</td>\n",
       "      <td>-1</td>\n",
       "      <td>0</td>\n",
       "      <td>1</td>\n",
       "    </tr>\n",
       "    <tr>\n",
       "      <th>2</th>\n",
       "      <td>5001711</td>\n",
       "      <td>-2</td>\n",
       "      <td>0</td>\n",
       "      <td>2</td>\n",
       "    </tr>\n",
       "    <tr>\n",
       "      <th>3</th>\n",
       "      <td>5001711</td>\n",
       "      <td>-3</td>\n",
       "      <td>0</td>\n",
       "      <td>3</td>\n",
       "    </tr>\n",
       "    <tr>\n",
       "      <th>4</th>\n",
       "      <td>5001712</td>\n",
       "      <td>0</td>\n",
       "      <td>C</td>\n",
       "      <td>0</td>\n",
       "    </tr>\n",
       "    <tr>\n",
       "      <th>...</th>\n",
       "      <td>...</td>\n",
       "      <td>...</td>\n",
       "      <td>...</td>\n",
       "      <td>...</td>\n",
       "    </tr>\n",
       "    <tr>\n",
       "      <th>1048570</th>\n",
       "      <td>5150487</td>\n",
       "      <td>-25</td>\n",
       "      <td>C</td>\n",
       "      <td>25</td>\n",
       "    </tr>\n",
       "    <tr>\n",
       "      <th>1048571</th>\n",
       "      <td>5150487</td>\n",
       "      <td>-26</td>\n",
       "      <td>C</td>\n",
       "      <td>26</td>\n",
       "    </tr>\n",
       "    <tr>\n",
       "      <th>1048572</th>\n",
       "      <td>5150487</td>\n",
       "      <td>-27</td>\n",
       "      <td>C</td>\n",
       "      <td>27</td>\n",
       "    </tr>\n",
       "    <tr>\n",
       "      <th>1048573</th>\n",
       "      <td>5150487</td>\n",
       "      <td>-28</td>\n",
       "      <td>C</td>\n",
       "      <td>28</td>\n",
       "    </tr>\n",
       "    <tr>\n",
       "      <th>1048574</th>\n",
       "      <td>5150487</td>\n",
       "      <td>-29</td>\n",
       "      <td>C</td>\n",
       "      <td>29</td>\n",
       "    </tr>\n",
       "  </tbody>\n",
       "</table>\n",
       "<p>1048575 rows × 4 columns</p>\n",
       "</div>"
      ],
      "text/plain": [
       "              ID  MONTHS_BALANCE STATUS  Months_from_Today\n",
       "0        5001711               0      X                  0\n",
       "1        5001711              -1      0                  1\n",
       "2        5001711              -2      0                  2\n",
       "3        5001711              -3      0                  3\n",
       "4        5001712               0      C                  0\n",
       "...          ...             ...    ...                ...\n",
       "1048570  5150487             -25      C                 25\n",
       "1048571  5150487             -26      C                 26\n",
       "1048572  5150487             -27      C                 27\n",
       "1048573  5150487             -28      C                 28\n",
       "1048574  5150487             -29      C                 29\n",
       "\n",
       "[1048575 rows x 4 columns]"
      ]
     },
     "execution_count": 12,
     "metadata": {},
     "output_type": "execute_result"
    }
   ],
   "source": [
    "# Sort by ID and Months_from_Today\n",
    "credit_record_df = credit_record_df.sort_values(['ID','Months_from_Today'], ascending=True)\n",
    "credit_record_df"
   ]
  },
  {
   "cell_type": "markdown",
   "id": "91db1265",
   "metadata": {},
   "source": [
    "## Assumption for determining \"Good\" and \"Bad\" applicants¶"
   ]
  },
  {
   "cell_type": "markdown",
   "id": "23cfe6aa",
   "metadata": {},
   "source": [
    "### X and C from the original dataset represent applicants who have paid off the whole amount in the current month or who do not have any balance in the current month. Applicants with balances in subsequent months have status 0 to 5. First, replace X and C to be 0 and 0-5 to be 1. The main idea here is count the number of bad months each applicant has and if an applicant has 3 or more \"Bad\" months (three 1's) then the participant is \"Bad\" and is then rejected for a credit card.¶"
   ]
  },
  {
   "cell_type": "code",
   "execution_count": 13,
   "id": "b72ba230",
   "metadata": {},
   "outputs": [],
   "source": [
    "credit_record_df[\"STATUS\"].replace({\"X\":0, \"C\":0, \"0\":1, \"1\":1, \"2\":1, \"3\":1, \"4\":1, \"5\":1} , inplace= True )"
   ]
  },
  {
   "cell_type": "code",
   "execution_count": 14,
   "id": "5b23fef3",
   "metadata": {},
   "outputs": [
    {
     "data": {
      "text/html": [
       "<div>\n",
       "<style scoped>\n",
       "    .dataframe tbody tr th:only-of-type {\n",
       "        vertical-align: middle;\n",
       "    }\n",
       "\n",
       "    .dataframe tbody tr th {\n",
       "        vertical-align: top;\n",
       "    }\n",
       "\n",
       "    .dataframe thead th {\n",
       "        text-align: right;\n",
       "    }\n",
       "</style>\n",
       "<table border=\"1\" class=\"dataframe\">\n",
       "  <thead>\n",
       "    <tr style=\"text-align: right;\">\n",
       "      <th></th>\n",
       "      <th>ID</th>\n",
       "      <th>MONTHS_BALANCE</th>\n",
       "      <th>STATUS</th>\n",
       "      <th>Months_from_Today</th>\n",
       "    </tr>\n",
       "  </thead>\n",
       "  <tbody>\n",
       "    <tr>\n",
       "      <th>0</th>\n",
       "      <td>5001711</td>\n",
       "      <td>0</td>\n",
       "      <td>0</td>\n",
       "      <td>0</td>\n",
       "    </tr>\n",
       "    <tr>\n",
       "      <th>1</th>\n",
       "      <td>5001711</td>\n",
       "      <td>-1</td>\n",
       "      <td>1</td>\n",
       "      <td>1</td>\n",
       "    </tr>\n",
       "    <tr>\n",
       "      <th>2</th>\n",
       "      <td>5001711</td>\n",
       "      <td>-2</td>\n",
       "      <td>1</td>\n",
       "      <td>2</td>\n",
       "    </tr>\n",
       "    <tr>\n",
       "      <th>3</th>\n",
       "      <td>5001711</td>\n",
       "      <td>-3</td>\n",
       "      <td>1</td>\n",
       "      <td>3</td>\n",
       "    </tr>\n",
       "    <tr>\n",
       "      <th>4</th>\n",
       "      <td>5001712</td>\n",
       "      <td>0</td>\n",
       "      <td>0</td>\n",
       "      <td>0</td>\n",
       "    </tr>\n",
       "    <tr>\n",
       "      <th>...</th>\n",
       "      <td>...</td>\n",
       "      <td>...</td>\n",
       "      <td>...</td>\n",
       "      <td>...</td>\n",
       "    </tr>\n",
       "    <tr>\n",
       "      <th>1048570</th>\n",
       "      <td>5150487</td>\n",
       "      <td>-25</td>\n",
       "      <td>0</td>\n",
       "      <td>25</td>\n",
       "    </tr>\n",
       "    <tr>\n",
       "      <th>1048571</th>\n",
       "      <td>5150487</td>\n",
       "      <td>-26</td>\n",
       "      <td>0</td>\n",
       "      <td>26</td>\n",
       "    </tr>\n",
       "    <tr>\n",
       "      <th>1048572</th>\n",
       "      <td>5150487</td>\n",
       "      <td>-27</td>\n",
       "      <td>0</td>\n",
       "      <td>27</td>\n",
       "    </tr>\n",
       "    <tr>\n",
       "      <th>1048573</th>\n",
       "      <td>5150487</td>\n",
       "      <td>-28</td>\n",
       "      <td>0</td>\n",
       "      <td>28</td>\n",
       "    </tr>\n",
       "    <tr>\n",
       "      <th>1048574</th>\n",
       "      <td>5150487</td>\n",
       "      <td>-29</td>\n",
       "      <td>0</td>\n",
       "      <td>29</td>\n",
       "    </tr>\n",
       "  </tbody>\n",
       "</table>\n",
       "<p>1048575 rows × 4 columns</p>\n",
       "</div>"
      ],
      "text/plain": [
       "              ID  MONTHS_BALANCE  STATUS  Months_from_Today\n",
       "0        5001711               0       0                  0\n",
       "1        5001711              -1       1                  1\n",
       "2        5001711              -2       1                  2\n",
       "3        5001711              -3       1                  3\n",
       "4        5001712               0       0                  0\n",
       "...          ...             ...     ...                ...\n",
       "1048570  5150487             -25       0                 25\n",
       "1048571  5150487             -26       0                 26\n",
       "1048572  5150487             -27       0                 27\n",
       "1048573  5150487             -28       0                 28\n",
       "1048574  5150487             -29       0                 29\n",
       "\n",
       "[1048575 rows x 4 columns]"
      ]
     },
     "execution_count": 14,
     "metadata": {},
     "output_type": "execute_result"
    }
   ],
   "source": [
    "credit_record_df"
   ]
  },
  {
   "cell_type": "code",
   "execution_count": 15,
   "id": "011d87c6",
   "metadata": {},
   "outputs": [
    {
     "data": {
      "text/plain": [
       "ID\n",
       "5001711     3\n",
       "5001712    10\n",
       "5001713     0\n",
       "5001714     0\n",
       "5001715     0\n",
       "           ..\n",
       "5150482    12\n",
       "5150483     0\n",
       "5150484    12\n",
       "5150485     2\n",
       "5150487     0\n",
       "Name: STATUS, Length: 45985, dtype: int64"
      ]
     },
     "execution_count": 15,
     "metadata": {},
     "output_type": "execute_result"
    }
   ],
   "source": [
    "# Group by ID and sum the Status score as determined above\n",
    "credit_record_bad_months_df = credit_record_df.groupby([\"ID\"])[\"STATUS\"].sum()\n",
    "credit_record_bad_months_df"
   ]
  },
  {
   "cell_type": "code",
   "execution_count": 16,
   "id": "a58c4c02",
   "metadata": {},
   "outputs": [],
   "source": [
    "#Creating new status columns based on \"good\" or \"bad\" applicants as defined above\n",
    "status = credit_record_bad_months_df.apply(lambda x:0 if x>= 3 else 1)"
   ]
  },
  {
   "cell_type": "code",
   "execution_count": 17,
   "id": "eae203b5",
   "metadata": {},
   "outputs": [
    {
     "data": {
      "text/html": [
       "<div>\n",
       "<style scoped>\n",
       "    .dataframe tbody tr th:only-of-type {\n",
       "        vertical-align: middle;\n",
       "    }\n",
       "\n",
       "    .dataframe tbody tr th {\n",
       "        vertical-align: top;\n",
       "    }\n",
       "\n",
       "    .dataframe thead th {\n",
       "        text-align: right;\n",
       "    }\n",
       "</style>\n",
       "<table border=\"1\" class=\"dataframe\">\n",
       "  <thead>\n",
       "    <tr style=\"text-align: right;\">\n",
       "      <th></th>\n",
       "      <th>ID</th>\n",
       "      <th>MONTHS_BALANCE</th>\n",
       "      <th>STATUS_x</th>\n",
       "      <th>Months_from_Today</th>\n",
       "      <th>STATUS_y</th>\n",
       "    </tr>\n",
       "  </thead>\n",
       "  <tbody>\n",
       "    <tr>\n",
       "      <th>0</th>\n",
       "      <td>5001711</td>\n",
       "      <td>0</td>\n",
       "      <td>0</td>\n",
       "      <td>0</td>\n",
       "      <td>0</td>\n",
       "    </tr>\n",
       "    <tr>\n",
       "      <th>1</th>\n",
       "      <td>5001711</td>\n",
       "      <td>-1</td>\n",
       "      <td>1</td>\n",
       "      <td>1</td>\n",
       "      <td>0</td>\n",
       "    </tr>\n",
       "    <tr>\n",
       "      <th>2</th>\n",
       "      <td>5001711</td>\n",
       "      <td>-2</td>\n",
       "      <td>1</td>\n",
       "      <td>2</td>\n",
       "      <td>0</td>\n",
       "    </tr>\n",
       "    <tr>\n",
       "      <th>3</th>\n",
       "      <td>5001711</td>\n",
       "      <td>-3</td>\n",
       "      <td>1</td>\n",
       "      <td>3</td>\n",
       "      <td>0</td>\n",
       "    </tr>\n",
       "    <tr>\n",
       "      <th>4</th>\n",
       "      <td>5001712</td>\n",
       "      <td>0</td>\n",
       "      <td>0</td>\n",
       "      <td>0</td>\n",
       "      <td>0</td>\n",
       "    </tr>\n",
       "    <tr>\n",
       "      <th>...</th>\n",
       "      <td>...</td>\n",
       "      <td>...</td>\n",
       "      <td>...</td>\n",
       "      <td>...</td>\n",
       "      <td>...</td>\n",
       "    </tr>\n",
       "    <tr>\n",
       "      <th>1048570</th>\n",
       "      <td>5150487</td>\n",
       "      <td>-25</td>\n",
       "      <td>0</td>\n",
       "      <td>25</td>\n",
       "      <td>1</td>\n",
       "    </tr>\n",
       "    <tr>\n",
       "      <th>1048571</th>\n",
       "      <td>5150487</td>\n",
       "      <td>-26</td>\n",
       "      <td>0</td>\n",
       "      <td>26</td>\n",
       "      <td>1</td>\n",
       "    </tr>\n",
       "    <tr>\n",
       "      <th>1048572</th>\n",
       "      <td>5150487</td>\n",
       "      <td>-27</td>\n",
       "      <td>0</td>\n",
       "      <td>27</td>\n",
       "      <td>1</td>\n",
       "    </tr>\n",
       "    <tr>\n",
       "      <th>1048573</th>\n",
       "      <td>5150487</td>\n",
       "      <td>-28</td>\n",
       "      <td>0</td>\n",
       "      <td>28</td>\n",
       "      <td>1</td>\n",
       "    </tr>\n",
       "    <tr>\n",
       "      <th>1048574</th>\n",
       "      <td>5150487</td>\n",
       "      <td>-29</td>\n",
       "      <td>0</td>\n",
       "      <td>29</td>\n",
       "      <td>1</td>\n",
       "    </tr>\n",
       "  </tbody>\n",
       "</table>\n",
       "<p>1048575 rows × 5 columns</p>\n",
       "</div>"
      ],
      "text/plain": [
       "              ID  MONTHS_BALANCE  STATUS_x  Months_from_Today  STATUS_y\n",
       "0        5001711               0         0                  0         0\n",
       "1        5001711              -1         1                  1         0\n",
       "2        5001711              -2         1                  2         0\n",
       "3        5001711              -3         1                  3         0\n",
       "4        5001712               0         0                  0         0\n",
       "...          ...             ...       ...                ...       ...\n",
       "1048570  5150487             -25         0                 25         1\n",
       "1048571  5150487             -26         0                 26         1\n",
       "1048572  5150487             -27         0                 27         1\n",
       "1048573  5150487             -28         0                 28         1\n",
       "1048574  5150487             -29         0                 29         1\n",
       "\n",
       "[1048575 rows x 5 columns]"
      ]
     },
     "execution_count": 17,
     "metadata": {},
     "output_type": "execute_result"
    }
   ],
   "source": [
    "new_credit_record = credit_record_df.merge(status, how=\"left\", on=\"ID\")\n",
    "new_credit_record"
   ]
  },
  {
   "cell_type": "code",
   "execution_count": 18,
   "id": "29827963",
   "metadata": {},
   "outputs": [
    {
     "data": {
      "text/html": [
       "<div>\n",
       "<style scoped>\n",
       "    .dataframe tbody tr th:only-of-type {\n",
       "        vertical-align: middle;\n",
       "    }\n",
       "\n",
       "    .dataframe tbody tr th {\n",
       "        vertical-align: top;\n",
       "    }\n",
       "\n",
       "    .dataframe thead th {\n",
       "        text-align: right;\n",
       "    }\n",
       "</style>\n",
       "<table border=\"1\" class=\"dataframe\">\n",
       "  <thead>\n",
       "    <tr style=\"text-align: right;\">\n",
       "      <th></th>\n",
       "      <th>ID</th>\n",
       "      <th>MONTHS_BALANCE</th>\n",
       "      <th>Months_from_Today</th>\n",
       "      <th>STATUS_y</th>\n",
       "    </tr>\n",
       "  </thead>\n",
       "  <tbody>\n",
       "    <tr>\n",
       "      <th>0</th>\n",
       "      <td>5001711</td>\n",
       "      <td>0</td>\n",
       "      <td>0</td>\n",
       "      <td>0</td>\n",
       "    </tr>\n",
       "    <tr>\n",
       "      <th>1</th>\n",
       "      <td>5001711</td>\n",
       "      <td>-1</td>\n",
       "      <td>1</td>\n",
       "      <td>0</td>\n",
       "    </tr>\n",
       "    <tr>\n",
       "      <th>2</th>\n",
       "      <td>5001711</td>\n",
       "      <td>-2</td>\n",
       "      <td>2</td>\n",
       "      <td>0</td>\n",
       "    </tr>\n",
       "    <tr>\n",
       "      <th>3</th>\n",
       "      <td>5001711</td>\n",
       "      <td>-3</td>\n",
       "      <td>3</td>\n",
       "      <td>0</td>\n",
       "    </tr>\n",
       "    <tr>\n",
       "      <th>4</th>\n",
       "      <td>5001712</td>\n",
       "      <td>0</td>\n",
       "      <td>0</td>\n",
       "      <td>0</td>\n",
       "    </tr>\n",
       "    <tr>\n",
       "      <th>...</th>\n",
       "      <td>...</td>\n",
       "      <td>...</td>\n",
       "      <td>...</td>\n",
       "      <td>...</td>\n",
       "    </tr>\n",
       "    <tr>\n",
       "      <th>1048570</th>\n",
       "      <td>5150487</td>\n",
       "      <td>-25</td>\n",
       "      <td>25</td>\n",
       "      <td>1</td>\n",
       "    </tr>\n",
       "    <tr>\n",
       "      <th>1048571</th>\n",
       "      <td>5150487</td>\n",
       "      <td>-26</td>\n",
       "      <td>26</td>\n",
       "      <td>1</td>\n",
       "    </tr>\n",
       "    <tr>\n",
       "      <th>1048572</th>\n",
       "      <td>5150487</td>\n",
       "      <td>-27</td>\n",
       "      <td>27</td>\n",
       "      <td>1</td>\n",
       "    </tr>\n",
       "    <tr>\n",
       "      <th>1048573</th>\n",
       "      <td>5150487</td>\n",
       "      <td>-28</td>\n",
       "      <td>28</td>\n",
       "      <td>1</td>\n",
       "    </tr>\n",
       "    <tr>\n",
       "      <th>1048574</th>\n",
       "      <td>5150487</td>\n",
       "      <td>-29</td>\n",
       "      <td>29</td>\n",
       "      <td>1</td>\n",
       "    </tr>\n",
       "  </tbody>\n",
       "</table>\n",
       "<p>1048575 rows × 4 columns</p>\n",
       "</div>"
      ],
      "text/plain": [
       "              ID  MONTHS_BALANCE  Months_from_Today  STATUS_y\n",
       "0        5001711               0                  0         0\n",
       "1        5001711              -1                  1         0\n",
       "2        5001711              -2                  2         0\n",
       "3        5001711              -3                  3         0\n",
       "4        5001712               0                  0         0\n",
       "...          ...             ...                ...       ...\n",
       "1048570  5150487             -25                 25         1\n",
       "1048571  5150487             -26                 26         1\n",
       "1048572  5150487             -27                 27         1\n",
       "1048573  5150487             -28                 28         1\n",
       "1048574  5150487             -29                 29         1\n",
       "\n",
       "[1048575 rows x 4 columns]"
      ]
     },
     "execution_count": 18,
     "metadata": {},
     "output_type": "execute_result"
    }
   ],
   "source": [
    "#Group by ID\n",
    "new_credit_grouped = new_credit_record.drop([\"STATUS_x\"], axis=1)\n",
    "new_credit_grouped"
   ]
  },
  {
   "cell_type": "code",
   "execution_count": 19,
   "id": "466c47e6",
   "metadata": {},
   "outputs": [
    {
     "data": {
      "text/html": [
       "<div>\n",
       "<style scoped>\n",
       "    .dataframe tbody tr th:only-of-type {\n",
       "        vertical-align: middle;\n",
       "    }\n",
       "\n",
       "    .dataframe tbody tr th {\n",
       "        vertical-align: top;\n",
       "    }\n",
       "\n",
       "    .dataframe thead th {\n",
       "        text-align: right;\n",
       "    }\n",
       "</style>\n",
       "<table border=\"1\" class=\"dataframe\">\n",
       "  <thead>\n",
       "    <tr style=\"text-align: right;\">\n",
       "      <th></th>\n",
       "      <th>ID</th>\n",
       "      <th>MONTHS_BALANCE</th>\n",
       "      <th>Months_from_Today</th>\n",
       "      <th>STATUS_y</th>\n",
       "    </tr>\n",
       "  </thead>\n",
       "  <tbody>\n",
       "    <tr>\n",
       "      <th>0</th>\n",
       "      <td>5001711</td>\n",
       "      <td>0</td>\n",
       "      <td>0</td>\n",
       "      <td>0</td>\n",
       "    </tr>\n",
       "    <tr>\n",
       "      <th>1</th>\n",
       "      <td>5001712</td>\n",
       "      <td>0</td>\n",
       "      <td>0</td>\n",
       "      <td>0</td>\n",
       "    </tr>\n",
       "    <tr>\n",
       "      <th>2</th>\n",
       "      <td>5001713</td>\n",
       "      <td>0</td>\n",
       "      <td>0</td>\n",
       "      <td>1</td>\n",
       "    </tr>\n",
       "    <tr>\n",
       "      <th>3</th>\n",
       "      <td>5001714</td>\n",
       "      <td>0</td>\n",
       "      <td>0</td>\n",
       "      <td>1</td>\n",
       "    </tr>\n",
       "    <tr>\n",
       "      <th>4</th>\n",
       "      <td>5001715</td>\n",
       "      <td>0</td>\n",
       "      <td>0</td>\n",
       "      <td>1</td>\n",
       "    </tr>\n",
       "    <tr>\n",
       "      <th>...</th>\n",
       "      <td>...</td>\n",
       "      <td>...</td>\n",
       "      <td>...</td>\n",
       "      <td>...</td>\n",
       "    </tr>\n",
       "    <tr>\n",
       "      <th>45980</th>\n",
       "      <td>5150482</td>\n",
       "      <td>-11</td>\n",
       "      <td>11</td>\n",
       "      <td>0</td>\n",
       "    </tr>\n",
       "    <tr>\n",
       "      <th>45981</th>\n",
       "      <td>5150483</td>\n",
       "      <td>0</td>\n",
       "      <td>0</td>\n",
       "      <td>1</td>\n",
       "    </tr>\n",
       "    <tr>\n",
       "      <th>45982</th>\n",
       "      <td>5150484</td>\n",
       "      <td>0</td>\n",
       "      <td>0</td>\n",
       "      <td>0</td>\n",
       "    </tr>\n",
       "    <tr>\n",
       "      <th>45983</th>\n",
       "      <td>5150485</td>\n",
       "      <td>0</td>\n",
       "      <td>0</td>\n",
       "      <td>1</td>\n",
       "    </tr>\n",
       "    <tr>\n",
       "      <th>45984</th>\n",
       "      <td>5150487</td>\n",
       "      <td>0</td>\n",
       "      <td>0</td>\n",
       "      <td>1</td>\n",
       "    </tr>\n",
       "  </tbody>\n",
       "</table>\n",
       "<p>45985 rows × 4 columns</p>\n",
       "</div>"
      ],
      "text/plain": [
       "            ID  MONTHS_BALANCE  Months_from_Today  STATUS_y\n",
       "0      5001711               0                  0         0\n",
       "1      5001712               0                  0         0\n",
       "2      5001713               0                  0         1\n",
       "3      5001714               0                  0         1\n",
       "4      5001715               0                  0         1\n",
       "...        ...             ...                ...       ...\n",
       "45980  5150482             -11                 11         0\n",
       "45981  5150483               0                  0         1\n",
       "45982  5150484               0                  0         0\n",
       "45983  5150485               0                  0         1\n",
       "45984  5150487               0                  0         1\n",
       "\n",
       "[45985 rows x 4 columns]"
      ]
     },
     "execution_count": 19,
     "metadata": {},
     "output_type": "execute_result"
    }
   ],
   "source": [
    "new_credit = new_credit_grouped.groupby(\"ID\", as_index=False)\n",
    "new_credit = new_credit.first()\n",
    "new_credit"
   ]
  },
  {
   "cell_type": "markdown",
   "id": "8b918238",
   "metadata": {},
   "source": [
    "# Cleaning \"application_record_df\""
   ]
  },
  {
   "cell_type": "markdown",
   "id": "ef565540",
   "metadata": {},
   "source": [
    "## Removing duplicate ID's"
   ]
  },
  {
   "cell_type": "code",
   "execution_count": 20,
   "id": "5316ef8e",
   "metadata": {},
   "outputs": [
    {
     "data": {
      "text/plain": [
       "47"
      ]
     },
     "execution_count": 20,
     "metadata": {},
     "output_type": "execute_result"
    }
   ],
   "source": [
    "# Find number of duplicates in 'ID' column\n",
    "len(application_record_df['ID']) - len(application_record_df['ID'].unique())"
   ]
  },
  {
   "cell_type": "code",
   "execution_count": 21,
   "id": "7f92b377",
   "metadata": {},
   "outputs": [],
   "source": [
    "# Drop the duplicate entries from the 'ID' Column\n",
    "application_record_df = application_record_df.drop_duplicates('ID', keep='last')"
   ]
  },
  {
   "cell_type": "code",
   "execution_count": 22,
   "id": "72029307",
   "metadata": {},
   "outputs": [
    {
     "data": {
      "text/plain": [
       "(438510, 18)"
      ]
     },
     "execution_count": 22,
     "metadata": {},
     "output_type": "execute_result"
    }
   ],
   "source": [
    "application_record_df.shape"
   ]
  },
  {
   "cell_type": "markdown",
   "id": "cda8ec1d",
   "metadata": {},
   "source": [
    "## Finding the Null columns"
   ]
  },
  {
   "cell_type": "code",
   "execution_count": 23,
   "id": "97dc7a99",
   "metadata": {},
   "outputs": [
    {
     "data": {
      "text/plain": [
       "ID                   0\n",
       "MONTHS_BALANCE       0\n",
       "STATUS               0\n",
       "Months_from_Today    0\n",
       "dtype: int64"
      ]
     },
     "execution_count": 23,
     "metadata": {},
     "output_type": "execute_result"
    }
   ],
   "source": [
    "credit_record_df.isnull().sum()"
   ]
  },
  {
   "cell_type": "code",
   "execution_count": 24,
   "id": "94b0ab6c",
   "metadata": {},
   "outputs": [
    {
     "data": {
      "text/plain": [
       "ID                          0\n",
       "CODE_GENDER                 0\n",
       "FLAG_OWN_CAR                0\n",
       "FLAG_OWN_REALTY             0\n",
       "CNT_CHILDREN                0\n",
       "AMT_INCOME_TOTAL            0\n",
       "NAME_INCOME_TYPE            0\n",
       "NAME_EDUCATION_TYPE         0\n",
       "NAME_FAMILY_STATUS          0\n",
       "NAME_HOUSING_TYPE           0\n",
       "DAYS_BIRTH                  0\n",
       "DAYS_EMPLOYED               0\n",
       "FLAG_MOBIL                  0\n",
       "FLAG_WORK_PHONE             0\n",
       "FLAG_PHONE                  0\n",
       "FLAG_EMAIL                  0\n",
       "OCCUPATION_TYPE        134187\n",
       "CNT_FAM_MEMBERS             0\n",
       "dtype: int64"
      ]
     },
     "execution_count": 24,
     "metadata": {},
     "output_type": "execute_result"
    }
   ],
   "source": [
    "application_record_df.isnull().sum()"
   ]
  },
  {
   "cell_type": "code",
   "execution_count": 25,
   "id": "2ca8b64f",
   "metadata": {},
   "outputs": [
    {
     "data": {
      "text/html": [
       "<div>\n",
       "<style scoped>\n",
       "    .dataframe tbody tr th:only-of-type {\n",
       "        vertical-align: middle;\n",
       "    }\n",
       "\n",
       "    .dataframe tbody tr th {\n",
       "        vertical-align: top;\n",
       "    }\n",
       "\n",
       "    .dataframe thead th {\n",
       "        text-align: right;\n",
       "    }\n",
       "</style>\n",
       "<table border=\"1\" class=\"dataframe\">\n",
       "  <thead>\n",
       "    <tr style=\"text-align: right;\">\n",
       "      <th></th>\n",
       "      <th>ID</th>\n",
       "      <th>CODE_GENDER</th>\n",
       "      <th>FLAG_OWN_CAR</th>\n",
       "      <th>FLAG_OWN_REALTY</th>\n",
       "      <th>CNT_CHILDREN</th>\n",
       "      <th>AMT_INCOME_TOTAL</th>\n",
       "      <th>NAME_INCOME_TYPE</th>\n",
       "      <th>NAME_EDUCATION_TYPE</th>\n",
       "      <th>NAME_FAMILY_STATUS</th>\n",
       "      <th>NAME_HOUSING_TYPE</th>\n",
       "      <th>DAYS_BIRTH</th>\n",
       "      <th>DAYS_EMPLOYED</th>\n",
       "      <th>FLAG_MOBIL</th>\n",
       "      <th>FLAG_WORK_PHONE</th>\n",
       "      <th>FLAG_PHONE</th>\n",
       "      <th>FLAG_EMAIL</th>\n",
       "      <th>OCCUPATION_TYPE</th>\n",
       "      <th>CNT_FAM_MEMBERS</th>\n",
       "    </tr>\n",
       "  </thead>\n",
       "  <tbody>\n",
       "    <tr>\n",
       "      <th>0</th>\n",
       "      <td>5008804</td>\n",
       "      <td>M</td>\n",
       "      <td>Y</td>\n",
       "      <td>Y</td>\n",
       "      <td>0</td>\n",
       "      <td>427500.0</td>\n",
       "      <td>Working</td>\n",
       "      <td>Higher education</td>\n",
       "      <td>Civil marriage</td>\n",
       "      <td>Rented apartment</td>\n",
       "      <td>-12005</td>\n",
       "      <td>-4542</td>\n",
       "      <td>1</td>\n",
       "      <td>1</td>\n",
       "      <td>0</td>\n",
       "      <td>0</td>\n",
       "      <td>No Occupation Type</td>\n",
       "      <td>2.0</td>\n",
       "    </tr>\n",
       "    <tr>\n",
       "      <th>1</th>\n",
       "      <td>5008805</td>\n",
       "      <td>M</td>\n",
       "      <td>Y</td>\n",
       "      <td>Y</td>\n",
       "      <td>0</td>\n",
       "      <td>427500.0</td>\n",
       "      <td>Working</td>\n",
       "      <td>Higher education</td>\n",
       "      <td>Civil marriage</td>\n",
       "      <td>Rented apartment</td>\n",
       "      <td>-12005</td>\n",
       "      <td>-4542</td>\n",
       "      <td>1</td>\n",
       "      <td>1</td>\n",
       "      <td>0</td>\n",
       "      <td>0</td>\n",
       "      <td>No Occupation Type</td>\n",
       "      <td>2.0</td>\n",
       "    </tr>\n",
       "    <tr>\n",
       "      <th>2</th>\n",
       "      <td>5008806</td>\n",
       "      <td>M</td>\n",
       "      <td>Y</td>\n",
       "      <td>Y</td>\n",
       "      <td>0</td>\n",
       "      <td>112500.0</td>\n",
       "      <td>Working</td>\n",
       "      <td>Secondary / secondary special</td>\n",
       "      <td>Married</td>\n",
       "      <td>House / apartment</td>\n",
       "      <td>-21474</td>\n",
       "      <td>-1134</td>\n",
       "      <td>1</td>\n",
       "      <td>0</td>\n",
       "      <td>0</td>\n",
       "      <td>0</td>\n",
       "      <td>Security staff</td>\n",
       "      <td>2.0</td>\n",
       "    </tr>\n",
       "    <tr>\n",
       "      <th>3</th>\n",
       "      <td>5008808</td>\n",
       "      <td>F</td>\n",
       "      <td>N</td>\n",
       "      <td>Y</td>\n",
       "      <td>0</td>\n",
       "      <td>270000.0</td>\n",
       "      <td>Commercial associate</td>\n",
       "      <td>Secondary / secondary special</td>\n",
       "      <td>Single / not married</td>\n",
       "      <td>House / apartment</td>\n",
       "      <td>-19110</td>\n",
       "      <td>-3051</td>\n",
       "      <td>1</td>\n",
       "      <td>0</td>\n",
       "      <td>1</td>\n",
       "      <td>1</td>\n",
       "      <td>Sales staff</td>\n",
       "      <td>1.0</td>\n",
       "    </tr>\n",
       "    <tr>\n",
       "      <th>4</th>\n",
       "      <td>5008809</td>\n",
       "      <td>F</td>\n",
       "      <td>N</td>\n",
       "      <td>Y</td>\n",
       "      <td>0</td>\n",
       "      <td>270000.0</td>\n",
       "      <td>Commercial associate</td>\n",
       "      <td>Secondary / secondary special</td>\n",
       "      <td>Single / not married</td>\n",
       "      <td>House / apartment</td>\n",
       "      <td>-19110</td>\n",
       "      <td>-3051</td>\n",
       "      <td>1</td>\n",
       "      <td>0</td>\n",
       "      <td>1</td>\n",
       "      <td>1</td>\n",
       "      <td>Sales staff</td>\n",
       "      <td>1.0</td>\n",
       "    </tr>\n",
       "  </tbody>\n",
       "</table>\n",
       "</div>"
      ],
      "text/plain": [
       "        ID CODE_GENDER FLAG_OWN_CAR FLAG_OWN_REALTY  CNT_CHILDREN  \\\n",
       "0  5008804           M            Y               Y             0   \n",
       "1  5008805           M            Y               Y             0   \n",
       "2  5008806           M            Y               Y             0   \n",
       "3  5008808           F            N               Y             0   \n",
       "4  5008809           F            N               Y             0   \n",
       "\n",
       "   AMT_INCOME_TOTAL      NAME_INCOME_TYPE            NAME_EDUCATION_TYPE  \\\n",
       "0          427500.0               Working               Higher education   \n",
       "1          427500.0               Working               Higher education   \n",
       "2          112500.0               Working  Secondary / secondary special   \n",
       "3          270000.0  Commercial associate  Secondary / secondary special   \n",
       "4          270000.0  Commercial associate  Secondary / secondary special   \n",
       "\n",
       "     NAME_FAMILY_STATUS  NAME_HOUSING_TYPE  DAYS_BIRTH  DAYS_EMPLOYED  \\\n",
       "0        Civil marriage   Rented apartment      -12005          -4542   \n",
       "1        Civil marriage   Rented apartment      -12005          -4542   \n",
       "2               Married  House / apartment      -21474          -1134   \n",
       "3  Single / not married  House / apartment      -19110          -3051   \n",
       "4  Single / not married  House / apartment      -19110          -3051   \n",
       "\n",
       "   FLAG_MOBIL  FLAG_WORK_PHONE  FLAG_PHONE  FLAG_EMAIL     OCCUPATION_TYPE  \\\n",
       "0           1                1           0           0  No Occupation Type   \n",
       "1           1                1           0           0  No Occupation Type   \n",
       "2           1                0           0           0      Security staff   \n",
       "3           1                0           1           1         Sales staff   \n",
       "4           1                0           1           1         Sales staff   \n",
       "\n",
       "   CNT_FAM_MEMBERS  \n",
       "0              2.0  \n",
       "1              2.0  \n",
       "2              2.0  \n",
       "3              1.0  \n",
       "4              1.0  "
      ]
     },
     "execution_count": 25,
     "metadata": {},
     "output_type": "execute_result"
    }
   ],
   "source": [
    "# Replace nulls with \"No Occupation Type\"\n",
    "application_record_df[\"OCCUPATION_TYPE\"].fillna(\"No Occupation Type\", inplace = True)\n",
    "application_record_df.head()"
   ]
  },
  {
   "cell_type": "code",
   "execution_count": 26,
   "id": "41864b6a",
   "metadata": {},
   "outputs": [
    {
     "data": {
      "text/plain": [
       "F    294412\n",
       "M    144098\n",
       "Name: CODE_GENDER, dtype: int64"
      ]
     },
     "execution_count": 26,
     "metadata": {},
     "output_type": "execute_result"
    }
   ],
   "source": [
    "application_record_df['CODE_GENDER'].value_counts()"
   ]
  },
  {
   "cell_type": "code",
   "execution_count": 27,
   "id": "95b8ff18",
   "metadata": {},
   "outputs": [
    {
     "data": {
      "text/plain": [
       "ID                     0\n",
       "CODE_GENDER            0\n",
       "FLAG_OWN_CAR           0\n",
       "FLAG_OWN_REALTY        0\n",
       "CNT_CHILDREN           0\n",
       "AMT_INCOME_TOTAL       0\n",
       "NAME_INCOME_TYPE       0\n",
       "NAME_EDUCATION_TYPE    0\n",
       "NAME_FAMILY_STATUS     0\n",
       "NAME_HOUSING_TYPE      0\n",
       "DAYS_BIRTH             0\n",
       "DAYS_EMPLOYED          0\n",
       "FLAG_MOBIL             0\n",
       "FLAG_WORK_PHONE        0\n",
       "FLAG_PHONE             0\n",
       "FLAG_EMAIL             0\n",
       "OCCUPATION_TYPE        0\n",
       "CNT_FAM_MEMBERS        0\n",
       "dtype: int64"
      ]
     },
     "execution_count": 27,
     "metadata": {},
     "output_type": "execute_result"
    }
   ],
   "source": [
    "application_record_df.isnull().sum()"
   ]
  },
  {
   "cell_type": "markdown",
   "id": "59967974",
   "metadata": {},
   "source": [
    "## Convert string columns to numbers"
   ]
  },
  {
   "cell_type": "code",
   "execution_count": 28,
   "id": "dc04eea6",
   "metadata": {},
   "outputs": [],
   "source": [
    "#Convert string columns to numbers using get_dummies\n",
    "application_record_df = pd.get_dummies(application_record_df, columns=[\"CODE_GENDER\",\"FLAG_OWN_CAR\",\"FLAG_OWN_REALTY\",\n",
    "                                  \"NAME_INCOME_TYPE\",\"NAME_EDUCATION_TYPE\",\"NAME_FAMILY_STATUS\",\n",
    "                                  \"NAME_HOUSING_TYPE\",\"OCCUPATION_TYPE\"])"
   ]
  },
  {
   "cell_type": "code",
   "execution_count": 29,
   "id": "c85060c7",
   "metadata": {},
   "outputs": [
    {
     "data": {
      "text/html": [
       "<div>\n",
       "<style scoped>\n",
       "    .dataframe tbody tr th:only-of-type {\n",
       "        vertical-align: middle;\n",
       "    }\n",
       "\n",
       "    .dataframe tbody tr th {\n",
       "        vertical-align: top;\n",
       "    }\n",
       "\n",
       "    .dataframe thead th {\n",
       "        text-align: right;\n",
       "    }\n",
       "</style>\n",
       "<table border=\"1\" class=\"dataframe\">\n",
       "  <thead>\n",
       "    <tr style=\"text-align: right;\">\n",
       "      <th></th>\n",
       "      <th>ID</th>\n",
       "      <th>CNT_CHILDREN</th>\n",
       "      <th>AMT_INCOME_TOTAL</th>\n",
       "      <th>DAYS_BIRTH</th>\n",
       "      <th>DAYS_EMPLOYED</th>\n",
       "      <th>FLAG_MOBIL</th>\n",
       "      <th>FLAG_WORK_PHONE</th>\n",
       "      <th>FLAG_PHONE</th>\n",
       "      <th>FLAG_EMAIL</th>\n",
       "      <th>CNT_FAM_MEMBERS</th>\n",
       "      <th>...</th>\n",
       "      <th>OCCUPATION_TYPE_Low-skill Laborers</th>\n",
       "      <th>OCCUPATION_TYPE_Managers</th>\n",
       "      <th>OCCUPATION_TYPE_Medicine staff</th>\n",
       "      <th>OCCUPATION_TYPE_No Occupation Type</th>\n",
       "      <th>OCCUPATION_TYPE_Private service staff</th>\n",
       "      <th>OCCUPATION_TYPE_Realty agents</th>\n",
       "      <th>OCCUPATION_TYPE_Sales staff</th>\n",
       "      <th>OCCUPATION_TYPE_Secretaries</th>\n",
       "      <th>OCCUPATION_TYPE_Security staff</th>\n",
       "      <th>OCCUPATION_TYPE_Waiters/barmen staff</th>\n",
       "    </tr>\n",
       "  </thead>\n",
       "  <tbody>\n",
       "    <tr>\n",
       "      <th>0</th>\n",
       "      <td>5008804</td>\n",
       "      <td>0</td>\n",
       "      <td>427500.0</td>\n",
       "      <td>-12005</td>\n",
       "      <td>-4542</td>\n",
       "      <td>1</td>\n",
       "      <td>1</td>\n",
       "      <td>0</td>\n",
       "      <td>0</td>\n",
       "      <td>2.0</td>\n",
       "      <td>...</td>\n",
       "      <td>0</td>\n",
       "      <td>0</td>\n",
       "      <td>0</td>\n",
       "      <td>1</td>\n",
       "      <td>0</td>\n",
       "      <td>0</td>\n",
       "      <td>0</td>\n",
       "      <td>0</td>\n",
       "      <td>0</td>\n",
       "      <td>0</td>\n",
       "    </tr>\n",
       "    <tr>\n",
       "      <th>1</th>\n",
       "      <td>5008805</td>\n",
       "      <td>0</td>\n",
       "      <td>427500.0</td>\n",
       "      <td>-12005</td>\n",
       "      <td>-4542</td>\n",
       "      <td>1</td>\n",
       "      <td>1</td>\n",
       "      <td>0</td>\n",
       "      <td>0</td>\n",
       "      <td>2.0</td>\n",
       "      <td>...</td>\n",
       "      <td>0</td>\n",
       "      <td>0</td>\n",
       "      <td>0</td>\n",
       "      <td>1</td>\n",
       "      <td>0</td>\n",
       "      <td>0</td>\n",
       "      <td>0</td>\n",
       "      <td>0</td>\n",
       "      <td>0</td>\n",
       "      <td>0</td>\n",
       "    </tr>\n",
       "    <tr>\n",
       "      <th>2</th>\n",
       "      <td>5008806</td>\n",
       "      <td>0</td>\n",
       "      <td>112500.0</td>\n",
       "      <td>-21474</td>\n",
       "      <td>-1134</td>\n",
       "      <td>1</td>\n",
       "      <td>0</td>\n",
       "      <td>0</td>\n",
       "      <td>0</td>\n",
       "      <td>2.0</td>\n",
       "      <td>...</td>\n",
       "      <td>0</td>\n",
       "      <td>0</td>\n",
       "      <td>0</td>\n",
       "      <td>0</td>\n",
       "      <td>0</td>\n",
       "      <td>0</td>\n",
       "      <td>0</td>\n",
       "      <td>0</td>\n",
       "      <td>1</td>\n",
       "      <td>0</td>\n",
       "    </tr>\n",
       "    <tr>\n",
       "      <th>3</th>\n",
       "      <td>5008808</td>\n",
       "      <td>0</td>\n",
       "      <td>270000.0</td>\n",
       "      <td>-19110</td>\n",
       "      <td>-3051</td>\n",
       "      <td>1</td>\n",
       "      <td>0</td>\n",
       "      <td>1</td>\n",
       "      <td>1</td>\n",
       "      <td>1.0</td>\n",
       "      <td>...</td>\n",
       "      <td>0</td>\n",
       "      <td>0</td>\n",
       "      <td>0</td>\n",
       "      <td>0</td>\n",
       "      <td>0</td>\n",
       "      <td>0</td>\n",
       "      <td>1</td>\n",
       "      <td>0</td>\n",
       "      <td>0</td>\n",
       "      <td>0</td>\n",
       "    </tr>\n",
       "    <tr>\n",
       "      <th>4</th>\n",
       "      <td>5008809</td>\n",
       "      <td>0</td>\n",
       "      <td>270000.0</td>\n",
       "      <td>-19110</td>\n",
       "      <td>-3051</td>\n",
       "      <td>1</td>\n",
       "      <td>0</td>\n",
       "      <td>1</td>\n",
       "      <td>1</td>\n",
       "      <td>1.0</td>\n",
       "      <td>...</td>\n",
       "      <td>0</td>\n",
       "      <td>0</td>\n",
       "      <td>0</td>\n",
       "      <td>0</td>\n",
       "      <td>0</td>\n",
       "      <td>0</td>\n",
       "      <td>1</td>\n",
       "      <td>0</td>\n",
       "      <td>0</td>\n",
       "      <td>0</td>\n",
       "    </tr>\n",
       "  </tbody>\n",
       "</table>\n",
       "<p>5 rows × 56 columns</p>\n",
       "</div>"
      ],
      "text/plain": [
       "        ID  CNT_CHILDREN  AMT_INCOME_TOTAL  DAYS_BIRTH  DAYS_EMPLOYED  \\\n",
       "0  5008804             0          427500.0      -12005          -4542   \n",
       "1  5008805             0          427500.0      -12005          -4542   \n",
       "2  5008806             0          112500.0      -21474          -1134   \n",
       "3  5008808             0          270000.0      -19110          -3051   \n",
       "4  5008809             0          270000.0      -19110          -3051   \n",
       "\n",
       "   FLAG_MOBIL  FLAG_WORK_PHONE  FLAG_PHONE  FLAG_EMAIL  CNT_FAM_MEMBERS  ...  \\\n",
       "0           1                1           0           0              2.0  ...   \n",
       "1           1                1           0           0              2.0  ...   \n",
       "2           1                0           0           0              2.0  ...   \n",
       "3           1                0           1           1              1.0  ...   \n",
       "4           1                0           1           1              1.0  ...   \n",
       "\n",
       "   OCCUPATION_TYPE_Low-skill Laborers  OCCUPATION_TYPE_Managers  \\\n",
       "0                                   0                         0   \n",
       "1                                   0                         0   \n",
       "2                                   0                         0   \n",
       "3                                   0                         0   \n",
       "4                                   0                         0   \n",
       "\n",
       "   OCCUPATION_TYPE_Medicine staff  OCCUPATION_TYPE_No Occupation Type  \\\n",
       "0                               0                                   1   \n",
       "1                               0                                   1   \n",
       "2                               0                                   0   \n",
       "3                               0                                   0   \n",
       "4                               0                                   0   \n",
       "\n",
       "   OCCUPATION_TYPE_Private service staff  OCCUPATION_TYPE_Realty agents  \\\n",
       "0                                      0                              0   \n",
       "1                                      0                              0   \n",
       "2                                      0                              0   \n",
       "3                                      0                              0   \n",
       "4                                      0                              0   \n",
       "\n",
       "   OCCUPATION_TYPE_Sales staff  OCCUPATION_TYPE_Secretaries  \\\n",
       "0                            0                            0   \n",
       "1                            0                            0   \n",
       "2                            0                            0   \n",
       "3                            1                            0   \n",
       "4                            1                            0   \n",
       "\n",
       "   OCCUPATION_TYPE_Security staff  OCCUPATION_TYPE_Waiters/barmen staff  \n",
       "0                               0                                     0  \n",
       "1                               0                                     0  \n",
       "2                               1                                     0  \n",
       "3                               0                                     0  \n",
       "4                               0                                     0  \n",
       "\n",
       "[5 rows x 56 columns]"
      ]
     },
     "execution_count": 29,
     "metadata": {},
     "output_type": "execute_result"
    }
   ],
   "source": [
    "application_record_df.head()"
   ]
  },
  {
   "cell_type": "markdown",
   "id": "5c74d883",
   "metadata": {},
   "source": [
    "## Convert DAYS_BIRTH & DAYS_EMPLOYED into years"
   ]
  },
  {
   "cell_type": "code",
   "execution_count": 30,
   "id": "f74967b1",
   "metadata": {},
   "outputs": [],
   "source": [
    "application_record_df['AGE'] = round(application_record_df['DAYS_BIRTH'] / -365, 2)"
   ]
  },
  {
   "cell_type": "code",
   "execution_count": 31,
   "id": "c35d12e9",
   "metadata": {},
   "outputs": [],
   "source": [
    "application_record_df['EMPLOYMENT_PERIOD'] = round(application_record_df['DAYS_EMPLOYED'] / -365, 2)"
   ]
  },
  {
   "cell_type": "code",
   "execution_count": 32,
   "id": "15af9006",
   "metadata": {},
   "outputs": [
    {
     "data": {
      "text/html": [
       "<div>\n",
       "<style scoped>\n",
       "    .dataframe tbody tr th:only-of-type {\n",
       "        vertical-align: middle;\n",
       "    }\n",
       "\n",
       "    .dataframe tbody tr th {\n",
       "        vertical-align: top;\n",
       "    }\n",
       "\n",
       "    .dataframe thead th {\n",
       "        text-align: right;\n",
       "    }\n",
       "</style>\n",
       "<table border=\"1\" class=\"dataframe\">\n",
       "  <thead>\n",
       "    <tr style=\"text-align: right;\">\n",
       "      <th></th>\n",
       "      <th>ID</th>\n",
       "      <th>CNT_CHILDREN</th>\n",
       "      <th>AMT_INCOME_TOTAL</th>\n",
       "      <th>DAYS_BIRTH</th>\n",
       "      <th>DAYS_EMPLOYED</th>\n",
       "      <th>FLAG_MOBIL</th>\n",
       "      <th>FLAG_WORK_PHONE</th>\n",
       "      <th>FLAG_PHONE</th>\n",
       "      <th>FLAG_EMAIL</th>\n",
       "      <th>CNT_FAM_MEMBERS</th>\n",
       "      <th>...</th>\n",
       "      <th>OCCUPATION_TYPE_Medicine staff</th>\n",
       "      <th>OCCUPATION_TYPE_No Occupation Type</th>\n",
       "      <th>OCCUPATION_TYPE_Private service staff</th>\n",
       "      <th>OCCUPATION_TYPE_Realty agents</th>\n",
       "      <th>OCCUPATION_TYPE_Sales staff</th>\n",
       "      <th>OCCUPATION_TYPE_Secretaries</th>\n",
       "      <th>OCCUPATION_TYPE_Security staff</th>\n",
       "      <th>OCCUPATION_TYPE_Waiters/barmen staff</th>\n",
       "      <th>AGE</th>\n",
       "      <th>EMPLOYMENT_PERIOD</th>\n",
       "    </tr>\n",
       "  </thead>\n",
       "  <tbody>\n",
       "    <tr>\n",
       "      <th>0</th>\n",
       "      <td>5008804</td>\n",
       "      <td>0</td>\n",
       "      <td>427500.0</td>\n",
       "      <td>-12005</td>\n",
       "      <td>-4542</td>\n",
       "      <td>1</td>\n",
       "      <td>1</td>\n",
       "      <td>0</td>\n",
       "      <td>0</td>\n",
       "      <td>2.0</td>\n",
       "      <td>...</td>\n",
       "      <td>0</td>\n",
       "      <td>1</td>\n",
       "      <td>0</td>\n",
       "      <td>0</td>\n",
       "      <td>0</td>\n",
       "      <td>0</td>\n",
       "      <td>0</td>\n",
       "      <td>0</td>\n",
       "      <td>32.89</td>\n",
       "      <td>12.44</td>\n",
       "    </tr>\n",
       "    <tr>\n",
       "      <th>1</th>\n",
       "      <td>5008805</td>\n",
       "      <td>0</td>\n",
       "      <td>427500.0</td>\n",
       "      <td>-12005</td>\n",
       "      <td>-4542</td>\n",
       "      <td>1</td>\n",
       "      <td>1</td>\n",
       "      <td>0</td>\n",
       "      <td>0</td>\n",
       "      <td>2.0</td>\n",
       "      <td>...</td>\n",
       "      <td>0</td>\n",
       "      <td>1</td>\n",
       "      <td>0</td>\n",
       "      <td>0</td>\n",
       "      <td>0</td>\n",
       "      <td>0</td>\n",
       "      <td>0</td>\n",
       "      <td>0</td>\n",
       "      <td>32.89</td>\n",
       "      <td>12.44</td>\n",
       "    </tr>\n",
       "    <tr>\n",
       "      <th>2</th>\n",
       "      <td>5008806</td>\n",
       "      <td>0</td>\n",
       "      <td>112500.0</td>\n",
       "      <td>-21474</td>\n",
       "      <td>-1134</td>\n",
       "      <td>1</td>\n",
       "      <td>0</td>\n",
       "      <td>0</td>\n",
       "      <td>0</td>\n",
       "      <td>2.0</td>\n",
       "      <td>...</td>\n",
       "      <td>0</td>\n",
       "      <td>0</td>\n",
       "      <td>0</td>\n",
       "      <td>0</td>\n",
       "      <td>0</td>\n",
       "      <td>0</td>\n",
       "      <td>1</td>\n",
       "      <td>0</td>\n",
       "      <td>58.83</td>\n",
       "      <td>3.11</td>\n",
       "    </tr>\n",
       "    <tr>\n",
       "      <th>3</th>\n",
       "      <td>5008808</td>\n",
       "      <td>0</td>\n",
       "      <td>270000.0</td>\n",
       "      <td>-19110</td>\n",
       "      <td>-3051</td>\n",
       "      <td>1</td>\n",
       "      <td>0</td>\n",
       "      <td>1</td>\n",
       "      <td>1</td>\n",
       "      <td>1.0</td>\n",
       "      <td>...</td>\n",
       "      <td>0</td>\n",
       "      <td>0</td>\n",
       "      <td>0</td>\n",
       "      <td>0</td>\n",
       "      <td>1</td>\n",
       "      <td>0</td>\n",
       "      <td>0</td>\n",
       "      <td>0</td>\n",
       "      <td>52.36</td>\n",
       "      <td>8.36</td>\n",
       "    </tr>\n",
       "    <tr>\n",
       "      <th>4</th>\n",
       "      <td>5008809</td>\n",
       "      <td>0</td>\n",
       "      <td>270000.0</td>\n",
       "      <td>-19110</td>\n",
       "      <td>-3051</td>\n",
       "      <td>1</td>\n",
       "      <td>0</td>\n",
       "      <td>1</td>\n",
       "      <td>1</td>\n",
       "      <td>1.0</td>\n",
       "      <td>...</td>\n",
       "      <td>0</td>\n",
       "      <td>0</td>\n",
       "      <td>0</td>\n",
       "      <td>0</td>\n",
       "      <td>1</td>\n",
       "      <td>0</td>\n",
       "      <td>0</td>\n",
       "      <td>0</td>\n",
       "      <td>52.36</td>\n",
       "      <td>8.36</td>\n",
       "    </tr>\n",
       "  </tbody>\n",
       "</table>\n",
       "<p>5 rows × 58 columns</p>\n",
       "</div>"
      ],
      "text/plain": [
       "        ID  CNT_CHILDREN  AMT_INCOME_TOTAL  DAYS_BIRTH  DAYS_EMPLOYED  \\\n",
       "0  5008804             0          427500.0      -12005          -4542   \n",
       "1  5008805             0          427500.0      -12005          -4542   \n",
       "2  5008806             0          112500.0      -21474          -1134   \n",
       "3  5008808             0          270000.0      -19110          -3051   \n",
       "4  5008809             0          270000.0      -19110          -3051   \n",
       "\n",
       "   FLAG_MOBIL  FLAG_WORK_PHONE  FLAG_PHONE  FLAG_EMAIL  CNT_FAM_MEMBERS  ...  \\\n",
       "0           1                1           0           0              2.0  ...   \n",
       "1           1                1           0           0              2.0  ...   \n",
       "2           1                0           0           0              2.0  ...   \n",
       "3           1                0           1           1              1.0  ...   \n",
       "4           1                0           1           1              1.0  ...   \n",
       "\n",
       "   OCCUPATION_TYPE_Medicine staff  OCCUPATION_TYPE_No Occupation Type  \\\n",
       "0                               0                                   1   \n",
       "1                               0                                   1   \n",
       "2                               0                                   0   \n",
       "3                               0                                   0   \n",
       "4                               0                                   0   \n",
       "\n",
       "   OCCUPATION_TYPE_Private service staff  OCCUPATION_TYPE_Realty agents  \\\n",
       "0                                      0                              0   \n",
       "1                                      0                              0   \n",
       "2                                      0                              0   \n",
       "3                                      0                              0   \n",
       "4                                      0                              0   \n",
       "\n",
       "   OCCUPATION_TYPE_Sales staff  OCCUPATION_TYPE_Secretaries  \\\n",
       "0                            0                            0   \n",
       "1                            0                            0   \n",
       "2                            0                            0   \n",
       "3                            1                            0   \n",
       "4                            1                            0   \n",
       "\n",
       "   OCCUPATION_TYPE_Security staff  OCCUPATION_TYPE_Waiters/barmen staff  \\\n",
       "0                               0                                     0   \n",
       "1                               0                                     0   \n",
       "2                               1                                     0   \n",
       "3                               0                                     0   \n",
       "4                               0                                     0   \n",
       "\n",
       "     AGE  EMPLOYMENT_PERIOD  \n",
       "0  32.89              12.44  \n",
       "1  32.89              12.44  \n",
       "2  58.83               3.11  \n",
       "3  52.36               8.36  \n",
       "4  52.36               8.36  \n",
       "\n",
       "[5 rows x 58 columns]"
      ]
     },
     "execution_count": 32,
     "metadata": {},
     "output_type": "execute_result"
    }
   ],
   "source": [
    "application_record_df.head(5)"
   ]
  },
  {
   "cell_type": "markdown",
   "id": "bec6df5a",
   "metadata": {},
   "source": [
    "## Create bins for continous variable categories column 'AMT_INCOME_TOTAL' only for visualization"
   ]
  },
  {
   "cell_type": "code",
   "execution_count": 33,
   "id": "eeed4c57",
   "metadata": {},
   "outputs": [
    {
     "data": {
      "text/plain": [
       "26100.0"
      ]
     },
     "execution_count": 33,
     "metadata": {},
     "output_type": "execute_result"
    }
   ],
   "source": [
    "application_record_df.AMT_INCOME_TOTAL.min()"
   ]
  },
  {
   "cell_type": "code",
   "execution_count": 34,
   "id": "8717c17e",
   "metadata": {},
   "outputs": [
    {
     "data": {
      "text/plain": [
       "6750000.0"
      ]
     },
     "execution_count": 34,
     "metadata": {},
     "output_type": "execute_result"
    }
   ],
   "source": [
    "application_record_df.AMT_INCOME_TOTAL.max()"
   ]
  },
  {
   "cell_type": "code",
   "execution_count": 35,
   "id": "4ee09462",
   "metadata": {},
   "outputs": [],
   "source": [
    "application_record_income_bins = application_record_df"
   ]
  },
  {
   "cell_type": "code",
   "execution_count": 36,
   "id": "2d4faa32",
   "metadata": {},
   "outputs": [],
   "source": [
    "# Creating bins for income amount to be used for some visualizations\n",
    "\n",
    "bins = [0,25000,50000,75000,100000,125000,150000,175000,200000,225000,250000,275000,300000,325000,350000,375000,400000,425000,450000,475000,500000,10000000000]\n",
    "slot = ['0-25000', '25000-50000','50000-75000','75000,100000','100000-125000', '125000-150000', '150000-175000','175000-200000',\n",
    "       '200000-225000','225000-250000','250000-275000','275000-300000','300000-325000','325000-350000','350000-375000',\n",
    "       '375000-400000','400000-425000','425000-450000','450000-475000','475000-500000','500000 and above']\n",
    "\n",
    "application_record_income_bins['AMT_INCOME_RANGE']=pd.cut(application_record_income_bins['AMT_INCOME_TOTAL'],bins,labels=slot)"
   ]
  },
  {
   "cell_type": "code",
   "execution_count": 37,
   "id": "a5bbef9f",
   "metadata": {
    "scrolled": true
   },
   "outputs": [],
   "source": [
    "# Scale the Annual Income - this field is much larger than other values in the dataset. Divide by 100000 to rescale those data points\n",
    "application_record_df['AMT_INCOME_TOTAL'] = application_record_df['AMT_INCOME_TOTAL'] / 100000"
   ]
  },
  {
   "cell_type": "markdown",
   "id": "3037efd3",
   "metadata": {},
   "source": [
    "## Remove unnecessary columns from application_record"
   ]
  },
  {
   "cell_type": "code",
   "execution_count": 38,
   "id": "a9171bbc",
   "metadata": {},
   "outputs": [],
   "source": [
    "# Remove the columns that are not needed from the application_record_df\n",
    "\n",
    "Columns_to_remove = ['DAYS_BIRTH', 'DAYS_EMPLOYED','FLAG_MOBIL','FLAG_WORK_PHONE','FLAG_PHONE','FLAG_EMAIL']\n",
    "\n",
    "application_record_df.drop(labels=Columns_to_remove,axis=1,inplace=True)"
   ]
  },
  {
   "cell_type": "code",
   "execution_count": 39,
   "id": "48dcb215",
   "metadata": {},
   "outputs": [
    {
     "data": {
      "text/html": [
       "<div>\n",
       "<style scoped>\n",
       "    .dataframe tbody tr th:only-of-type {\n",
       "        vertical-align: middle;\n",
       "    }\n",
       "\n",
       "    .dataframe tbody tr th {\n",
       "        vertical-align: top;\n",
       "    }\n",
       "\n",
       "    .dataframe thead th {\n",
       "        text-align: right;\n",
       "    }\n",
       "</style>\n",
       "<table border=\"1\" class=\"dataframe\">\n",
       "  <thead>\n",
       "    <tr style=\"text-align: right;\">\n",
       "      <th></th>\n",
       "      <th>ID</th>\n",
       "      <th>CNT_CHILDREN</th>\n",
       "      <th>AMT_INCOME_TOTAL</th>\n",
       "      <th>CNT_FAM_MEMBERS</th>\n",
       "      <th>CODE_GENDER_F</th>\n",
       "      <th>CODE_GENDER_M</th>\n",
       "      <th>FLAG_OWN_CAR_N</th>\n",
       "      <th>FLAG_OWN_CAR_Y</th>\n",
       "      <th>FLAG_OWN_REALTY_N</th>\n",
       "      <th>FLAG_OWN_REALTY_Y</th>\n",
       "      <th>...</th>\n",
       "      <th>OCCUPATION_TYPE_No Occupation Type</th>\n",
       "      <th>OCCUPATION_TYPE_Private service staff</th>\n",
       "      <th>OCCUPATION_TYPE_Realty agents</th>\n",
       "      <th>OCCUPATION_TYPE_Sales staff</th>\n",
       "      <th>OCCUPATION_TYPE_Secretaries</th>\n",
       "      <th>OCCUPATION_TYPE_Security staff</th>\n",
       "      <th>OCCUPATION_TYPE_Waiters/barmen staff</th>\n",
       "      <th>AGE</th>\n",
       "      <th>EMPLOYMENT_PERIOD</th>\n",
       "      <th>AMT_INCOME_RANGE</th>\n",
       "    </tr>\n",
       "  </thead>\n",
       "  <tbody>\n",
       "    <tr>\n",
       "      <th>0</th>\n",
       "      <td>5008804</td>\n",
       "      <td>0</td>\n",
       "      <td>4.275</td>\n",
       "      <td>2.0</td>\n",
       "      <td>0</td>\n",
       "      <td>1</td>\n",
       "      <td>0</td>\n",
       "      <td>1</td>\n",
       "      <td>0</td>\n",
       "      <td>1</td>\n",
       "      <td>...</td>\n",
       "      <td>1</td>\n",
       "      <td>0</td>\n",
       "      <td>0</td>\n",
       "      <td>0</td>\n",
       "      <td>0</td>\n",
       "      <td>0</td>\n",
       "      <td>0</td>\n",
       "      <td>32.89</td>\n",
       "      <td>12.44</td>\n",
       "      <td>425000-450000</td>\n",
       "    </tr>\n",
       "    <tr>\n",
       "      <th>1</th>\n",
       "      <td>5008805</td>\n",
       "      <td>0</td>\n",
       "      <td>4.275</td>\n",
       "      <td>2.0</td>\n",
       "      <td>0</td>\n",
       "      <td>1</td>\n",
       "      <td>0</td>\n",
       "      <td>1</td>\n",
       "      <td>0</td>\n",
       "      <td>1</td>\n",
       "      <td>...</td>\n",
       "      <td>1</td>\n",
       "      <td>0</td>\n",
       "      <td>0</td>\n",
       "      <td>0</td>\n",
       "      <td>0</td>\n",
       "      <td>0</td>\n",
       "      <td>0</td>\n",
       "      <td>32.89</td>\n",
       "      <td>12.44</td>\n",
       "      <td>425000-450000</td>\n",
       "    </tr>\n",
       "    <tr>\n",
       "      <th>2</th>\n",
       "      <td>5008806</td>\n",
       "      <td>0</td>\n",
       "      <td>1.125</td>\n",
       "      <td>2.0</td>\n",
       "      <td>0</td>\n",
       "      <td>1</td>\n",
       "      <td>0</td>\n",
       "      <td>1</td>\n",
       "      <td>0</td>\n",
       "      <td>1</td>\n",
       "      <td>...</td>\n",
       "      <td>0</td>\n",
       "      <td>0</td>\n",
       "      <td>0</td>\n",
       "      <td>0</td>\n",
       "      <td>0</td>\n",
       "      <td>1</td>\n",
       "      <td>0</td>\n",
       "      <td>58.83</td>\n",
       "      <td>3.11</td>\n",
       "      <td>100000-125000</td>\n",
       "    </tr>\n",
       "    <tr>\n",
       "      <th>3</th>\n",
       "      <td>5008808</td>\n",
       "      <td>0</td>\n",
       "      <td>2.700</td>\n",
       "      <td>1.0</td>\n",
       "      <td>1</td>\n",
       "      <td>0</td>\n",
       "      <td>1</td>\n",
       "      <td>0</td>\n",
       "      <td>0</td>\n",
       "      <td>1</td>\n",
       "      <td>...</td>\n",
       "      <td>0</td>\n",
       "      <td>0</td>\n",
       "      <td>0</td>\n",
       "      <td>1</td>\n",
       "      <td>0</td>\n",
       "      <td>0</td>\n",
       "      <td>0</td>\n",
       "      <td>52.36</td>\n",
       "      <td>8.36</td>\n",
       "      <td>250000-275000</td>\n",
       "    </tr>\n",
       "    <tr>\n",
       "      <th>4</th>\n",
       "      <td>5008809</td>\n",
       "      <td>0</td>\n",
       "      <td>2.700</td>\n",
       "      <td>1.0</td>\n",
       "      <td>1</td>\n",
       "      <td>0</td>\n",
       "      <td>1</td>\n",
       "      <td>0</td>\n",
       "      <td>0</td>\n",
       "      <td>1</td>\n",
       "      <td>...</td>\n",
       "      <td>0</td>\n",
       "      <td>0</td>\n",
       "      <td>0</td>\n",
       "      <td>1</td>\n",
       "      <td>0</td>\n",
       "      <td>0</td>\n",
       "      <td>0</td>\n",
       "      <td>52.36</td>\n",
       "      <td>8.36</td>\n",
       "      <td>250000-275000</td>\n",
       "    </tr>\n",
       "  </tbody>\n",
       "</table>\n",
       "<p>5 rows × 53 columns</p>\n",
       "</div>"
      ],
      "text/plain": [
       "        ID  CNT_CHILDREN  AMT_INCOME_TOTAL  CNT_FAM_MEMBERS  CODE_GENDER_F  \\\n",
       "0  5008804             0             4.275              2.0              0   \n",
       "1  5008805             0             4.275              2.0              0   \n",
       "2  5008806             0             1.125              2.0              0   \n",
       "3  5008808             0             2.700              1.0              1   \n",
       "4  5008809             0             2.700              1.0              1   \n",
       "\n",
       "   CODE_GENDER_M  FLAG_OWN_CAR_N  FLAG_OWN_CAR_Y  FLAG_OWN_REALTY_N  \\\n",
       "0              1               0               1                  0   \n",
       "1              1               0               1                  0   \n",
       "2              1               0               1                  0   \n",
       "3              0               1               0                  0   \n",
       "4              0               1               0                  0   \n",
       "\n",
       "   FLAG_OWN_REALTY_Y  ...  OCCUPATION_TYPE_No Occupation Type  \\\n",
       "0                  1  ...                                   1   \n",
       "1                  1  ...                                   1   \n",
       "2                  1  ...                                   0   \n",
       "3                  1  ...                                   0   \n",
       "4                  1  ...                                   0   \n",
       "\n",
       "   OCCUPATION_TYPE_Private service staff  OCCUPATION_TYPE_Realty agents  \\\n",
       "0                                      0                              0   \n",
       "1                                      0                              0   \n",
       "2                                      0                              0   \n",
       "3                                      0                              0   \n",
       "4                                      0                              0   \n",
       "\n",
       "   OCCUPATION_TYPE_Sales staff  OCCUPATION_TYPE_Secretaries  \\\n",
       "0                            0                            0   \n",
       "1                            0                            0   \n",
       "2                            0                            0   \n",
       "3                            1                            0   \n",
       "4                            1                            0   \n",
       "\n",
       "   OCCUPATION_TYPE_Security staff  OCCUPATION_TYPE_Waiters/barmen staff  \\\n",
       "0                               0                                     0   \n",
       "1                               0                                     0   \n",
       "2                               1                                     0   \n",
       "3                               0                                     0   \n",
       "4                               0                                     0   \n",
       "\n",
       "     AGE  EMPLOYMENT_PERIOD  AMT_INCOME_RANGE  \n",
       "0  32.89              12.44     425000-450000  \n",
       "1  32.89              12.44     425000-450000  \n",
       "2  58.83               3.11     100000-125000  \n",
       "3  52.36               8.36     250000-275000  \n",
       "4  52.36               8.36     250000-275000  \n",
       "\n",
       "[5 rows x 53 columns]"
      ]
     },
     "execution_count": 39,
     "metadata": {},
     "output_type": "execute_result"
    }
   ],
   "source": [
    "application_record_df.head(5)"
   ]
  },
  {
   "cell_type": "code",
   "execution_count": 40,
   "id": "f180d91c",
   "metadata": {},
   "outputs": [
    {
     "name": "stdout",
     "output_type": "stream",
     "text": [
      "<class 'pandas.core.frame.DataFrame'>\n",
      "Int64Index: 438510 entries, 0 to 438556\n",
      "Data columns (total 53 columns):\n",
      " #   Column                                             Non-Null Count   Dtype   \n",
      "---  ------                                             --------------   -----   \n",
      " 0   ID                                                 438510 non-null  int64   \n",
      " 1   CNT_CHILDREN                                       438510 non-null  int64   \n",
      " 2   AMT_INCOME_TOTAL                                   438510 non-null  float64 \n",
      " 3   CNT_FAM_MEMBERS                                    438510 non-null  float64 \n",
      " 4   CODE_GENDER_F                                      438510 non-null  uint8   \n",
      " 5   CODE_GENDER_M                                      438510 non-null  uint8   \n",
      " 6   FLAG_OWN_CAR_N                                     438510 non-null  uint8   \n",
      " 7   FLAG_OWN_CAR_Y                                     438510 non-null  uint8   \n",
      " 8   FLAG_OWN_REALTY_N                                  438510 non-null  uint8   \n",
      " 9   FLAG_OWN_REALTY_Y                                  438510 non-null  uint8   \n",
      " 10  NAME_INCOME_TYPE_Commercial associate              438510 non-null  uint8   \n",
      " 11  NAME_INCOME_TYPE_Pensioner                         438510 non-null  uint8   \n",
      " 12  NAME_INCOME_TYPE_State servant                     438510 non-null  uint8   \n",
      " 13  NAME_INCOME_TYPE_Student                           438510 non-null  uint8   \n",
      " 14  NAME_INCOME_TYPE_Working                           438510 non-null  uint8   \n",
      " 15  NAME_EDUCATION_TYPE_Academic degree                438510 non-null  uint8   \n",
      " 16  NAME_EDUCATION_TYPE_Higher education               438510 non-null  uint8   \n",
      " 17  NAME_EDUCATION_TYPE_Incomplete higher              438510 non-null  uint8   \n",
      " 18  NAME_EDUCATION_TYPE_Lower secondary                438510 non-null  uint8   \n",
      " 19  NAME_EDUCATION_TYPE_Secondary / secondary special  438510 non-null  uint8   \n",
      " 20  NAME_FAMILY_STATUS_Civil marriage                  438510 non-null  uint8   \n",
      " 21  NAME_FAMILY_STATUS_Married                         438510 non-null  uint8   \n",
      " 22  NAME_FAMILY_STATUS_Separated                       438510 non-null  uint8   \n",
      " 23  NAME_FAMILY_STATUS_Single / not married            438510 non-null  uint8   \n",
      " 24  NAME_FAMILY_STATUS_Widow                           438510 non-null  uint8   \n",
      " 25  NAME_HOUSING_TYPE_Co-op apartment                  438510 non-null  uint8   \n",
      " 26  NAME_HOUSING_TYPE_House / apartment                438510 non-null  uint8   \n",
      " 27  NAME_HOUSING_TYPE_Municipal apartment              438510 non-null  uint8   \n",
      " 28  NAME_HOUSING_TYPE_Office apartment                 438510 non-null  uint8   \n",
      " 29  NAME_HOUSING_TYPE_Rented apartment                 438510 non-null  uint8   \n",
      " 30  NAME_HOUSING_TYPE_With parents                     438510 non-null  uint8   \n",
      " 31  OCCUPATION_TYPE_Accountants                        438510 non-null  uint8   \n",
      " 32  OCCUPATION_TYPE_Cleaning staff                     438510 non-null  uint8   \n",
      " 33  OCCUPATION_TYPE_Cooking staff                      438510 non-null  uint8   \n",
      " 34  OCCUPATION_TYPE_Core staff                         438510 non-null  uint8   \n",
      " 35  OCCUPATION_TYPE_Drivers                            438510 non-null  uint8   \n",
      " 36  OCCUPATION_TYPE_HR staff                           438510 non-null  uint8   \n",
      " 37  OCCUPATION_TYPE_High skill tech staff              438510 non-null  uint8   \n",
      " 38  OCCUPATION_TYPE_IT staff                           438510 non-null  uint8   \n",
      " 39  OCCUPATION_TYPE_Laborers                           438510 non-null  uint8   \n",
      " 40  OCCUPATION_TYPE_Low-skill Laborers                 438510 non-null  uint8   \n",
      " 41  OCCUPATION_TYPE_Managers                           438510 non-null  uint8   \n",
      " 42  OCCUPATION_TYPE_Medicine staff                     438510 non-null  uint8   \n",
      " 43  OCCUPATION_TYPE_No Occupation Type                 438510 non-null  uint8   \n",
      " 44  OCCUPATION_TYPE_Private service staff              438510 non-null  uint8   \n",
      " 45  OCCUPATION_TYPE_Realty agents                      438510 non-null  uint8   \n",
      " 46  OCCUPATION_TYPE_Sales staff                        438510 non-null  uint8   \n",
      " 47  OCCUPATION_TYPE_Secretaries                        438510 non-null  uint8   \n",
      " 48  OCCUPATION_TYPE_Security staff                     438510 non-null  uint8   \n",
      " 49  OCCUPATION_TYPE_Waiters/barmen staff               438510 non-null  uint8   \n",
      " 50  AGE                                                438510 non-null  float64 \n",
      " 51  EMPLOYMENT_PERIOD                                  438510 non-null  float64 \n",
      " 52  AMT_INCOME_RANGE                                   438510 non-null  category\n",
      "dtypes: category(1), float64(4), int64(2), uint8(46)\n",
      "memory usage: 43.1 MB\n"
     ]
    }
   ],
   "source": [
    "application_record_df.info()"
   ]
  },
  {
   "cell_type": "markdown",
   "id": "9fe2f120",
   "metadata": {},
   "source": [
    "### Join the new_credit_df to the application_record_df to use for graphs keeping income bins"
   ]
  },
  {
   "cell_type": "code",
   "execution_count": 41,
   "id": "6fc6ad56",
   "metadata": {
    "scrolled": true
   },
   "outputs": [
    {
     "data": {
      "text/html": [
       "<div>\n",
       "<style scoped>\n",
       "    .dataframe tbody tr th:only-of-type {\n",
       "        vertical-align: middle;\n",
       "    }\n",
       "\n",
       "    .dataframe tbody tr th {\n",
       "        vertical-align: top;\n",
       "    }\n",
       "\n",
       "    .dataframe thead th {\n",
       "        text-align: right;\n",
       "    }\n",
       "</style>\n",
       "<table border=\"1\" class=\"dataframe\">\n",
       "  <thead>\n",
       "    <tr style=\"text-align: right;\">\n",
       "      <th></th>\n",
       "      <th>CNT_CHILDREN</th>\n",
       "      <th>AMT_INCOME_TOTAL</th>\n",
       "      <th>CNT_FAM_MEMBERS</th>\n",
       "      <th>CODE_GENDER_F</th>\n",
       "      <th>CODE_GENDER_M</th>\n",
       "      <th>FLAG_OWN_CAR_N</th>\n",
       "      <th>FLAG_OWN_CAR_Y</th>\n",
       "      <th>FLAG_OWN_REALTY_N</th>\n",
       "      <th>FLAG_OWN_REALTY_Y</th>\n",
       "      <th>NAME_INCOME_TYPE_Commercial associate</th>\n",
       "      <th>...</th>\n",
       "      <th>OCCUPATION_TYPE_Private service staff</th>\n",
       "      <th>OCCUPATION_TYPE_Realty agents</th>\n",
       "      <th>OCCUPATION_TYPE_Sales staff</th>\n",
       "      <th>OCCUPATION_TYPE_Secretaries</th>\n",
       "      <th>OCCUPATION_TYPE_Security staff</th>\n",
       "      <th>OCCUPATION_TYPE_Waiters/barmen staff</th>\n",
       "      <th>AGE</th>\n",
       "      <th>EMPLOYMENT_PERIOD</th>\n",
       "      <th>AMT_INCOME_RANGE</th>\n",
       "      <th>STATUS_y</th>\n",
       "    </tr>\n",
       "  </thead>\n",
       "  <tbody>\n",
       "    <tr>\n",
       "      <th>0</th>\n",
       "      <td>0</td>\n",
       "      <td>4.275</td>\n",
       "      <td>2.0</td>\n",
       "      <td>0</td>\n",
       "      <td>1</td>\n",
       "      <td>0</td>\n",
       "      <td>1</td>\n",
       "      <td>0</td>\n",
       "      <td>1</td>\n",
       "      <td>0</td>\n",
       "      <td>...</td>\n",
       "      <td>0</td>\n",
       "      <td>0</td>\n",
       "      <td>0</td>\n",
       "      <td>0</td>\n",
       "      <td>0</td>\n",
       "      <td>0</td>\n",
       "      <td>32.89</td>\n",
       "      <td>12.44</td>\n",
       "      <td>425000-450000</td>\n",
       "      <td>1</td>\n",
       "    </tr>\n",
       "    <tr>\n",
       "      <th>1</th>\n",
       "      <td>0</td>\n",
       "      <td>4.275</td>\n",
       "      <td>2.0</td>\n",
       "      <td>0</td>\n",
       "      <td>1</td>\n",
       "      <td>0</td>\n",
       "      <td>1</td>\n",
       "      <td>0</td>\n",
       "      <td>1</td>\n",
       "      <td>0</td>\n",
       "      <td>...</td>\n",
       "      <td>0</td>\n",
       "      <td>0</td>\n",
       "      <td>0</td>\n",
       "      <td>0</td>\n",
       "      <td>0</td>\n",
       "      <td>0</td>\n",
       "      <td>32.89</td>\n",
       "      <td>12.44</td>\n",
       "      <td>425000-450000</td>\n",
       "      <td>1</td>\n",
       "    </tr>\n",
       "    <tr>\n",
       "      <th>2</th>\n",
       "      <td>0</td>\n",
       "      <td>1.125</td>\n",
       "      <td>2.0</td>\n",
       "      <td>0</td>\n",
       "      <td>1</td>\n",
       "      <td>0</td>\n",
       "      <td>1</td>\n",
       "      <td>0</td>\n",
       "      <td>1</td>\n",
       "      <td>0</td>\n",
       "      <td>...</td>\n",
       "      <td>0</td>\n",
       "      <td>0</td>\n",
       "      <td>0</td>\n",
       "      <td>0</td>\n",
       "      <td>1</td>\n",
       "      <td>0</td>\n",
       "      <td>58.83</td>\n",
       "      <td>3.11</td>\n",
       "      <td>100000-125000</td>\n",
       "      <td>0</td>\n",
       "    </tr>\n",
       "    <tr>\n",
       "      <th>3</th>\n",
       "      <td>0</td>\n",
       "      <td>2.700</td>\n",
       "      <td>1.0</td>\n",
       "      <td>1</td>\n",
       "      <td>0</td>\n",
       "      <td>1</td>\n",
       "      <td>0</td>\n",
       "      <td>0</td>\n",
       "      <td>1</td>\n",
       "      <td>1</td>\n",
       "      <td>...</td>\n",
       "      <td>0</td>\n",
       "      <td>0</td>\n",
       "      <td>1</td>\n",
       "      <td>0</td>\n",
       "      <td>0</td>\n",
       "      <td>0</td>\n",
       "      <td>52.36</td>\n",
       "      <td>8.36</td>\n",
       "      <td>250000-275000</td>\n",
       "      <td>1</td>\n",
       "    </tr>\n",
       "    <tr>\n",
       "      <th>4</th>\n",
       "      <td>0</td>\n",
       "      <td>2.700</td>\n",
       "      <td>1.0</td>\n",
       "      <td>1</td>\n",
       "      <td>0</td>\n",
       "      <td>1</td>\n",
       "      <td>0</td>\n",
       "      <td>0</td>\n",
       "      <td>1</td>\n",
       "      <td>1</td>\n",
       "      <td>...</td>\n",
       "      <td>0</td>\n",
       "      <td>0</td>\n",
       "      <td>1</td>\n",
       "      <td>0</td>\n",
       "      <td>0</td>\n",
       "      <td>0</td>\n",
       "      <td>52.36</td>\n",
       "      <td>8.36</td>\n",
       "      <td>250000-275000</td>\n",
       "      <td>1</td>\n",
       "    </tr>\n",
       "    <tr>\n",
       "      <th>...</th>\n",
       "      <td>...</td>\n",
       "      <td>...</td>\n",
       "      <td>...</td>\n",
       "      <td>...</td>\n",
       "      <td>...</td>\n",
       "      <td>...</td>\n",
       "      <td>...</td>\n",
       "      <td>...</td>\n",
       "      <td>...</td>\n",
       "      <td>...</td>\n",
       "      <td>...</td>\n",
       "      <td>...</td>\n",
       "      <td>...</td>\n",
       "      <td>...</td>\n",
       "      <td>...</td>\n",
       "      <td>...</td>\n",
       "      <td>...</td>\n",
       "      <td>...</td>\n",
       "      <td>...</td>\n",
       "      <td>...</td>\n",
       "      <td>...</td>\n",
       "    </tr>\n",
       "    <tr>\n",
       "      <th>434808</th>\n",
       "      <td>0</td>\n",
       "      <td>3.150</td>\n",
       "      <td>2.0</td>\n",
       "      <td>0</td>\n",
       "      <td>1</td>\n",
       "      <td>0</td>\n",
       "      <td>1</td>\n",
       "      <td>0</td>\n",
       "      <td>1</td>\n",
       "      <td>0</td>\n",
       "      <td>...</td>\n",
       "      <td>0</td>\n",
       "      <td>0</td>\n",
       "      <td>0</td>\n",
       "      <td>0</td>\n",
       "      <td>0</td>\n",
       "      <td>0</td>\n",
       "      <td>47.53</td>\n",
       "      <td>6.63</td>\n",
       "      <td>300000-325000</td>\n",
       "      <td>0</td>\n",
       "    </tr>\n",
       "    <tr>\n",
       "      <th>434809</th>\n",
       "      <td>0</td>\n",
       "      <td>1.575</td>\n",
       "      <td>2.0</td>\n",
       "      <td>1</td>\n",
       "      <td>0</td>\n",
       "      <td>1</td>\n",
       "      <td>0</td>\n",
       "      <td>0</td>\n",
       "      <td>1</td>\n",
       "      <td>1</td>\n",
       "      <td>...</td>\n",
       "      <td>0</td>\n",
       "      <td>0</td>\n",
       "      <td>0</td>\n",
       "      <td>0</td>\n",
       "      <td>0</td>\n",
       "      <td>0</td>\n",
       "      <td>33.94</td>\n",
       "      <td>3.63</td>\n",
       "      <td>150000-175000</td>\n",
       "      <td>0</td>\n",
       "    </tr>\n",
       "    <tr>\n",
       "      <th>434810</th>\n",
       "      <td>0</td>\n",
       "      <td>1.575</td>\n",
       "      <td>2.0</td>\n",
       "      <td>1</td>\n",
       "      <td>0</td>\n",
       "      <td>1</td>\n",
       "      <td>0</td>\n",
       "      <td>0</td>\n",
       "      <td>1</td>\n",
       "      <td>0</td>\n",
       "      <td>...</td>\n",
       "      <td>0</td>\n",
       "      <td>0</td>\n",
       "      <td>0</td>\n",
       "      <td>0</td>\n",
       "      <td>0</td>\n",
       "      <td>0</td>\n",
       "      <td>33.94</td>\n",
       "      <td>3.63</td>\n",
       "      <td>150000-175000</td>\n",
       "      <td>0</td>\n",
       "    </tr>\n",
       "    <tr>\n",
       "      <th>434811</th>\n",
       "      <td>0</td>\n",
       "      <td>2.835</td>\n",
       "      <td>2.0</td>\n",
       "      <td>1</td>\n",
       "      <td>0</td>\n",
       "      <td>1</td>\n",
       "      <td>0</td>\n",
       "      <td>0</td>\n",
       "      <td>1</td>\n",
       "      <td>0</td>\n",
       "      <td>...</td>\n",
       "      <td>0</td>\n",
       "      <td>0</td>\n",
       "      <td>1</td>\n",
       "      <td>0</td>\n",
       "      <td>0</td>\n",
       "      <td>0</td>\n",
       "      <td>49.20</td>\n",
       "      <td>1.79</td>\n",
       "      <td>275000-300000</td>\n",
       "      <td>0</td>\n",
       "    </tr>\n",
       "    <tr>\n",
       "      <th>434812</th>\n",
       "      <td>0</td>\n",
       "      <td>1.125</td>\n",
       "      <td>1.0</td>\n",
       "      <td>0</td>\n",
       "      <td>1</td>\n",
       "      <td>1</td>\n",
       "      <td>0</td>\n",
       "      <td>0</td>\n",
       "      <td>1</td>\n",
       "      <td>0</td>\n",
       "      <td>...</td>\n",
       "      <td>0</td>\n",
       "      <td>0</td>\n",
       "      <td>0</td>\n",
       "      <td>0</td>\n",
       "      <td>0</td>\n",
       "      <td>0</td>\n",
       "      <td>25.17</td>\n",
       "      <td>3.27</td>\n",
       "      <td>100000-125000</td>\n",
       "      <td>0</td>\n",
       "    </tr>\n",
       "  </tbody>\n",
       "</table>\n",
       "<p>36457 rows × 53 columns</p>\n",
       "</div>"
      ],
      "text/plain": [
       "        CNT_CHILDREN  AMT_INCOME_TOTAL  CNT_FAM_MEMBERS  CODE_GENDER_F  \\\n",
       "0                  0             4.275              2.0              0   \n",
       "1                  0             4.275              2.0              0   \n",
       "2                  0             1.125              2.0              0   \n",
       "3                  0             2.700              1.0              1   \n",
       "4                  0             2.700              1.0              1   \n",
       "...              ...               ...              ...            ...   \n",
       "434808             0             3.150              2.0              0   \n",
       "434809             0             1.575              2.0              1   \n",
       "434810             0             1.575              2.0              1   \n",
       "434811             0             2.835              2.0              1   \n",
       "434812             0             1.125              1.0              0   \n",
       "\n",
       "        CODE_GENDER_M  FLAG_OWN_CAR_N  FLAG_OWN_CAR_Y  FLAG_OWN_REALTY_N  \\\n",
       "0                   1               0               1                  0   \n",
       "1                   1               0               1                  0   \n",
       "2                   1               0               1                  0   \n",
       "3                   0               1               0                  0   \n",
       "4                   0               1               0                  0   \n",
       "...               ...             ...             ...                ...   \n",
       "434808              1               0               1                  0   \n",
       "434809              0               1               0                  0   \n",
       "434810              0               1               0                  0   \n",
       "434811              0               1               0                  0   \n",
       "434812              1               1               0                  0   \n",
       "\n",
       "        FLAG_OWN_REALTY_Y  NAME_INCOME_TYPE_Commercial associate  ...  \\\n",
       "0                       1                                      0  ...   \n",
       "1                       1                                      0  ...   \n",
       "2                       1                                      0  ...   \n",
       "3                       1                                      1  ...   \n",
       "4                       1                                      1  ...   \n",
       "...                   ...                                    ...  ...   \n",
       "434808                  1                                      0  ...   \n",
       "434809                  1                                      1  ...   \n",
       "434810                  1                                      0  ...   \n",
       "434811                  1                                      0  ...   \n",
       "434812                  1                                      0  ...   \n",
       "\n",
       "        OCCUPATION_TYPE_Private service staff  OCCUPATION_TYPE_Realty agents  \\\n",
       "0                                           0                              0   \n",
       "1                                           0                              0   \n",
       "2                                           0                              0   \n",
       "3                                           0                              0   \n",
       "4                                           0                              0   \n",
       "...                                       ...                            ...   \n",
       "434808                                      0                              0   \n",
       "434809                                      0                              0   \n",
       "434810                                      0                              0   \n",
       "434811                                      0                              0   \n",
       "434812                                      0                              0   \n",
       "\n",
       "        OCCUPATION_TYPE_Sales staff  OCCUPATION_TYPE_Secretaries  \\\n",
       "0                                 0                            0   \n",
       "1                                 0                            0   \n",
       "2                                 0                            0   \n",
       "3                                 1                            0   \n",
       "4                                 1                            0   \n",
       "...                             ...                          ...   \n",
       "434808                            0                            0   \n",
       "434809                            0                            0   \n",
       "434810                            0                            0   \n",
       "434811                            1                            0   \n",
       "434812                            0                            0   \n",
       "\n",
       "        OCCUPATION_TYPE_Security staff  OCCUPATION_TYPE_Waiters/barmen staff  \\\n",
       "0                                    0                                     0   \n",
       "1                                    0                                     0   \n",
       "2                                    1                                     0   \n",
       "3                                    0                                     0   \n",
       "4                                    0                                     0   \n",
       "...                                ...                                   ...   \n",
       "434808                               0                                     0   \n",
       "434809                               0                                     0   \n",
       "434810                               0                                     0   \n",
       "434811                               0                                     0   \n",
       "434812                               0                                     0   \n",
       "\n",
       "          AGE  EMPLOYMENT_PERIOD  AMT_INCOME_RANGE  STATUS_y  \n",
       "0       32.89              12.44     425000-450000         1  \n",
       "1       32.89              12.44     425000-450000         1  \n",
       "2       58.83               3.11     100000-125000         0  \n",
       "3       52.36               8.36     250000-275000         1  \n",
       "4       52.36               8.36     250000-275000         1  \n",
       "...       ...                ...               ...       ...  \n",
       "434808  47.53               6.63     300000-325000         0  \n",
       "434809  33.94               3.63     150000-175000         0  \n",
       "434810  33.94               3.63     150000-175000         0  \n",
       "434811  49.20               1.79     275000-300000         0  \n",
       "434812  25.17               3.27     100000-125000         0  \n",
       "\n",
       "[36457 rows x 53 columns]"
      ]
     },
     "execution_count": 41,
     "metadata": {},
     "output_type": "execute_result"
    }
   ],
   "source": [
    "applications_bins_df = application_record_df.join(new_credit.set_index('ID'), on='ID', how='inner')\n",
    "applications_bins_df.drop(['MONTHS_BALANCE'], axis=1, inplace=True)\n",
    "applications_bins_df.drop(['Months_from_Today'], axis=1, inplace=True)\n",
    "applications_bins_df.drop(['ID'], axis=1, inplace=True)\n",
    "applications_bins_df"
   ]
  },
  {
   "cell_type": "code",
   "execution_count": 42,
   "id": "507929cc",
   "metadata": {
    "scrolled": true
   },
   "outputs": [],
   "source": [
    "CSR2_df = pd.DataFrame(applications_bins_df['AMT_INCOME_RANGE'].value_counts())\n",
    "CSR2_df = CSR2_df.reset_index()\n"
   ]
  },
  {
   "cell_type": "code",
   "execution_count": 43,
   "id": "420a9643",
   "metadata": {},
   "outputs": [
    {
     "name": "stdout",
     "output_type": "stream",
     "text": [
      "<class 'pandas.core.frame.DataFrame'>\n",
      "RangeIndex: 21 entries, 0 to 20\n",
      "Data columns (total 2 columns):\n",
      " #   Column        Non-Null Count  Dtype   \n",
      "---  ------        --------------  -----   \n",
      " 0   Salary_Range  21 non-null     category\n",
      " 1   Applicants    21 non-null     int64   \n",
      "dtypes: category(1), int64(1)\n",
      "memory usage: 1.0 KB\n"
     ]
    }
   ],
   "source": [
    "CSR2_df.rename(columns = {'index':'Salary_Range', 'AMT_INCOME_RANGE':'Applicants'}, inplace = True)\n",
    "CSR2_df.info()"
   ]
  },
  {
   "cell_type": "code",
   "execution_count": 44,
   "id": "70e2cfd0",
   "metadata": {},
   "outputs": [],
   "source": [
    "CSR2_df['Salary_Range'] = CSR2_df.Salary_Range.astype(str)"
   ]
  },
  {
   "cell_type": "code",
   "execution_count": 45,
   "id": "f9955011",
   "metadata": {},
   "outputs": [
    {
     "name": "stdout",
     "output_type": "stream",
     "text": [
      "<class 'pandas.core.frame.DataFrame'>\n",
      "RangeIndex: 21 entries, 0 to 20\n",
      "Data columns (total 2 columns):\n",
      " #   Column        Non-Null Count  Dtype \n",
      "---  ------        --------------  ----- \n",
      " 0   Salary_Range  21 non-null     object\n",
      " 1   Applicants    21 non-null     int64 \n",
      "dtypes: int64(1), object(1)\n",
      "memory usage: 464.0+ bytes\n"
     ]
    }
   ],
   "source": [
    "CSR2_df.info()"
   ]
  },
  {
   "cell_type": "code",
   "execution_count": 46,
   "id": "b4617b30",
   "metadata": {},
   "outputs": [
    {
     "data": {
      "text/html": [
       "<div>\n",
       "<style scoped>\n",
       "    .dataframe tbody tr th:only-of-type {\n",
       "        vertical-align: middle;\n",
       "    }\n",
       "\n",
       "    .dataframe tbody tr th {\n",
       "        vertical-align: top;\n",
       "    }\n",
       "\n",
       "    .dataframe thead th {\n",
       "        text-align: right;\n",
       "    }\n",
       "</style>\n",
       "<table border=\"1\" class=\"dataframe\">\n",
       "  <thead>\n",
       "    <tr style=\"text-align: right;\">\n",
       "      <th></th>\n",
       "      <th>Salary_Range</th>\n",
       "      <th>Applicants</th>\n",
       "    </tr>\n",
       "  </thead>\n",
       "  <tbody>\n",
       "    <tr>\n",
       "      <th>20</th>\n",
       "      <td>0-25000</td>\n",
       "      <td>0</td>\n",
       "    </tr>\n",
       "    <tr>\n",
       "      <th>19</th>\n",
       "      <td>450000-475000</td>\n",
       "      <td>34</td>\n",
       "    </tr>\n",
       "    <tr>\n",
       "      <th>18</th>\n",
       "      <td>475000-500000</td>\n",
       "      <td>47</td>\n",
       "    </tr>\n",
       "    <tr>\n",
       "      <th>17</th>\n",
       "      <td>375000-400000</td>\n",
       "      <td>239</td>\n",
       "    </tr>\n",
       "    <tr>\n",
       "      <th>16</th>\n",
       "      <td>400000-425000</td>\n",
       "      <td>296</td>\n",
       "    </tr>\n",
       "    <tr>\n",
       "      <th>15</th>\n",
       "      <td>25000-50000</td>\n",
       "      <td>321</td>\n",
       "    </tr>\n",
       "    <tr>\n",
       "      <th>14</th>\n",
       "      <td>325000-350000</td>\n",
       "      <td>342</td>\n",
       "    </tr>\n",
       "    <tr>\n",
       "      <th>13</th>\n",
       "      <td>425000-450000</td>\n",
       "      <td>457</td>\n",
       "    </tr>\n",
       "    <tr>\n",
       "      <th>12</th>\n",
       "      <td>500000 and above</td>\n",
       "      <td>471</td>\n",
       "    </tr>\n",
       "    <tr>\n",
       "      <th>11</th>\n",
       "      <td>275000-300000</td>\n",
       "      <td>730</td>\n",
       "    </tr>\n",
       "    <tr>\n",
       "      <th>10</th>\n",
       "      <td>350000-375000</td>\n",
       "      <td>785</td>\n",
       "    </tr>\n",
       "    <tr>\n",
       "      <th>9</th>\n",
       "      <td>300000-325000</td>\n",
       "      <td>1158</td>\n",
       "    </tr>\n",
       "    <tr>\n",
       "      <th>8</th>\n",
       "      <td>225000-250000</td>\n",
       "      <td>1166</td>\n",
       "    </tr>\n",
       "    <tr>\n",
       "      <th>7</th>\n",
       "      <td>50000-75000</td>\n",
       "      <td>1442</td>\n",
       "    </tr>\n",
       "    <tr>\n",
       "      <th>6</th>\n",
       "      <td>250000-275000</td>\n",
       "      <td>2044</td>\n",
       "    </tr>\n",
       "    <tr>\n",
       "      <th>5</th>\n",
       "      <td>75000,100000</td>\n",
       "      <td>3323</td>\n",
       "    </tr>\n",
       "    <tr>\n",
       "      <th>4</th>\n",
       "      <td>175000-200000</td>\n",
       "      <td>3740</td>\n",
       "    </tr>\n",
       "    <tr>\n",
       "      <th>3</th>\n",
       "      <td>150000-175000</td>\n",
       "      <td>3921</td>\n",
       "    </tr>\n",
       "    <tr>\n",
       "      <th>2</th>\n",
       "      <td>100000-125000</td>\n",
       "      <td>4338</td>\n",
       "    </tr>\n",
       "    <tr>\n",
       "      <th>1</th>\n",
       "      <td>200000-225000</td>\n",
       "      <td>5705</td>\n",
       "    </tr>\n",
       "    <tr>\n",
       "      <th>0</th>\n",
       "      <td>125000-150000</td>\n",
       "      <td>5898</td>\n",
       "    </tr>\n",
       "  </tbody>\n",
       "</table>\n",
       "</div>"
      ],
      "text/plain": [
       "        Salary_Range  Applicants\n",
       "20           0-25000           0\n",
       "19     450000-475000          34\n",
       "18     475000-500000          47\n",
       "17     375000-400000         239\n",
       "16     400000-425000         296\n",
       "15       25000-50000         321\n",
       "14     325000-350000         342\n",
       "13     425000-450000         457\n",
       "12  500000 and above         471\n",
       "11     275000-300000         730\n",
       "10     350000-375000         785\n",
       "9      300000-325000        1158\n",
       "8      225000-250000        1166\n",
       "7        50000-75000        1442\n",
       "6      250000-275000        2044\n",
       "5       75000,100000        3323\n",
       "4      175000-200000        3740\n",
       "3      150000-175000        3921\n",
       "2      100000-125000        4338\n",
       "1      200000-225000        5705\n",
       "0      125000-150000        5898"
      ]
     },
     "execution_count": 46,
     "metadata": {},
     "output_type": "execute_result"
    }
   ],
   "source": [
    "CSR2_df.sort_values('Applicants',inplace=True)\n",
    "CSR2_df"
   ]
  },
  {
   "cell_type": "code",
   "execution_count": 47,
   "id": "d68e242b",
   "metadata": {},
   "outputs": [
    {
     "data": {
      "text/plain": [
       "36457"
      ]
     },
     "execution_count": 47,
     "metadata": {},
     "output_type": "execute_result"
    }
   ],
   "source": [
    "CSR2_df['Applicants'].sum()"
   ]
  },
  {
   "cell_type": "code",
   "execution_count": 48,
   "id": "5cf20e1f",
   "metadata": {},
   "outputs": [
    {
     "data": {
      "image/png": "[encoded data removed]",
      "text/plain": [
       "<Figure size 1440x720 with 1 Axes>"
      ]
     },
     "metadata": {
      "needs_background": "light"
     },
     "output_type": "display_data"
    }
   ],
   "source": [
    "\n",
    "x = CSR2_df['Salary_Range']\n",
    "y = CSR2_df['Applicants']\n",
    "\n",
    "plt.rcParams[\"figure.figsize\"] = (20,10)\n",
    "plt.title('Applicants Salary Range', fontsize = 15)\n",
    "plt.xlabel(\"Salary Range\", fontsize = 15)\n",
    "plt.ylabel(\"No. of Applicants\", fontsize = 15)\n",
    "plt.xticks(rotation=45)\n",
    "plt.bar(x,y, width= 0.4)\n",
    "plt.savefig('ApplicantSalaryRange.png', bbox_inches='tight') \n",
    "\n"
   ]
  },
  {
   "cell_type": "code",
   "execution_count": null,
   "id": "9528710a",
   "metadata": {},
   "outputs": [],
   "source": []
  },
  {
   "cell_type": "markdown",
   "id": "212a19db",
   "metadata": {},
   "source": [
    "### Join the new_credit_df to the application_record_df to use for Machine Learning Models"
   ]
  },
  {
   "cell_type": "code",
   "execution_count": 49,
   "id": "dac928c6",
   "metadata": {},
   "outputs": [
    {
     "data": {
      "text/html": [
       "<div>\n",
       "<style scoped>\n",
       "    .dataframe tbody tr th:only-of-type {\n",
       "        vertical-align: middle;\n",
       "    }\n",
       "\n",
       "    .dataframe tbody tr th {\n",
       "        vertical-align: top;\n",
       "    }\n",
       "\n",
       "    .dataframe thead th {\n",
       "        text-align: right;\n",
       "    }\n",
       "</style>\n",
       "<table border=\"1\" class=\"dataframe\">\n",
       "  <thead>\n",
       "    <tr style=\"text-align: right;\">\n",
       "      <th></th>\n",
       "      <th>CNT_CHILDREN</th>\n",
       "      <th>AMT_INCOME_TOTAL</th>\n",
       "      <th>CNT_FAM_MEMBERS</th>\n",
       "      <th>CODE_GENDER_F</th>\n",
       "      <th>CODE_GENDER_M</th>\n",
       "      <th>FLAG_OWN_CAR_N</th>\n",
       "      <th>FLAG_OWN_CAR_Y</th>\n",
       "      <th>FLAG_OWN_REALTY_N</th>\n",
       "      <th>FLAG_OWN_REALTY_Y</th>\n",
       "      <th>NAME_INCOME_TYPE_Commercial associate</th>\n",
       "      <th>...</th>\n",
       "      <th>OCCUPATION_TYPE_No Occupation Type</th>\n",
       "      <th>OCCUPATION_TYPE_Private service staff</th>\n",
       "      <th>OCCUPATION_TYPE_Realty agents</th>\n",
       "      <th>OCCUPATION_TYPE_Sales staff</th>\n",
       "      <th>OCCUPATION_TYPE_Secretaries</th>\n",
       "      <th>OCCUPATION_TYPE_Security staff</th>\n",
       "      <th>OCCUPATION_TYPE_Waiters/barmen staff</th>\n",
       "      <th>AGE</th>\n",
       "      <th>EMPLOYMENT_PERIOD</th>\n",
       "      <th>STATUS_y</th>\n",
       "    </tr>\n",
       "  </thead>\n",
       "  <tbody>\n",
       "    <tr>\n",
       "      <th>0</th>\n",
       "      <td>0</td>\n",
       "      <td>4.275</td>\n",
       "      <td>2.0</td>\n",
       "      <td>0</td>\n",
       "      <td>1</td>\n",
       "      <td>0</td>\n",
       "      <td>1</td>\n",
       "      <td>0</td>\n",
       "      <td>1</td>\n",
       "      <td>0</td>\n",
       "      <td>...</td>\n",
       "      <td>1</td>\n",
       "      <td>0</td>\n",
       "      <td>0</td>\n",
       "      <td>0</td>\n",
       "      <td>0</td>\n",
       "      <td>0</td>\n",
       "      <td>0</td>\n",
       "      <td>32.89</td>\n",
       "      <td>12.44</td>\n",
       "      <td>1</td>\n",
       "    </tr>\n",
       "    <tr>\n",
       "      <th>1</th>\n",
       "      <td>0</td>\n",
       "      <td>4.275</td>\n",
       "      <td>2.0</td>\n",
       "      <td>0</td>\n",
       "      <td>1</td>\n",
       "      <td>0</td>\n",
       "      <td>1</td>\n",
       "      <td>0</td>\n",
       "      <td>1</td>\n",
       "      <td>0</td>\n",
       "      <td>...</td>\n",
       "      <td>1</td>\n",
       "      <td>0</td>\n",
       "      <td>0</td>\n",
       "      <td>0</td>\n",
       "      <td>0</td>\n",
       "      <td>0</td>\n",
       "      <td>0</td>\n",
       "      <td>32.89</td>\n",
       "      <td>12.44</td>\n",
       "      <td>1</td>\n",
       "    </tr>\n",
       "    <tr>\n",
       "      <th>2</th>\n",
       "      <td>0</td>\n",
       "      <td>1.125</td>\n",
       "      <td>2.0</td>\n",
       "      <td>0</td>\n",
       "      <td>1</td>\n",
       "      <td>0</td>\n",
       "      <td>1</td>\n",
       "      <td>0</td>\n",
       "      <td>1</td>\n",
       "      <td>0</td>\n",
       "      <td>...</td>\n",
       "      <td>0</td>\n",
       "      <td>0</td>\n",
       "      <td>0</td>\n",
       "      <td>0</td>\n",
       "      <td>0</td>\n",
       "      <td>1</td>\n",
       "      <td>0</td>\n",
       "      <td>58.83</td>\n",
       "      <td>3.11</td>\n",
       "      <td>0</td>\n",
       "    </tr>\n",
       "    <tr>\n",
       "      <th>3</th>\n",
       "      <td>0</td>\n",
       "      <td>2.700</td>\n",
       "      <td>1.0</td>\n",
       "      <td>1</td>\n",
       "      <td>0</td>\n",
       "      <td>1</td>\n",
       "      <td>0</td>\n",
       "      <td>0</td>\n",
       "      <td>1</td>\n",
       "      <td>1</td>\n",
       "      <td>...</td>\n",
       "      <td>0</td>\n",
       "      <td>0</td>\n",
       "      <td>0</td>\n",
       "      <td>1</td>\n",
       "      <td>0</td>\n",
       "      <td>0</td>\n",
       "      <td>0</td>\n",
       "      <td>52.36</td>\n",
       "      <td>8.36</td>\n",
       "      <td>1</td>\n",
       "    </tr>\n",
       "    <tr>\n",
       "      <th>4</th>\n",
       "      <td>0</td>\n",
       "      <td>2.700</td>\n",
       "      <td>1.0</td>\n",
       "      <td>1</td>\n",
       "      <td>0</td>\n",
       "      <td>1</td>\n",
       "      <td>0</td>\n",
       "      <td>0</td>\n",
       "      <td>1</td>\n",
       "      <td>1</td>\n",
       "      <td>...</td>\n",
       "      <td>0</td>\n",
       "      <td>0</td>\n",
       "      <td>0</td>\n",
       "      <td>1</td>\n",
       "      <td>0</td>\n",
       "      <td>0</td>\n",
       "      <td>0</td>\n",
       "      <td>52.36</td>\n",
       "      <td>8.36</td>\n",
       "      <td>1</td>\n",
       "    </tr>\n",
       "    <tr>\n",
       "      <th>...</th>\n",
       "      <td>...</td>\n",
       "      <td>...</td>\n",
       "      <td>...</td>\n",
       "      <td>...</td>\n",
       "      <td>...</td>\n",
       "      <td>...</td>\n",
       "      <td>...</td>\n",
       "      <td>...</td>\n",
       "      <td>...</td>\n",
       "      <td>...</td>\n",
       "      <td>...</td>\n",
       "      <td>...</td>\n",
       "      <td>...</td>\n",
       "      <td>...</td>\n",
       "      <td>...</td>\n",
       "      <td>...</td>\n",
       "      <td>...</td>\n",
       "      <td>...</td>\n",
       "      <td>...</td>\n",
       "      <td>...</td>\n",
       "      <td>...</td>\n",
       "    </tr>\n",
       "    <tr>\n",
       "      <th>434808</th>\n",
       "      <td>0</td>\n",
       "      <td>3.150</td>\n",
       "      <td>2.0</td>\n",
       "      <td>0</td>\n",
       "      <td>1</td>\n",
       "      <td>0</td>\n",
       "      <td>1</td>\n",
       "      <td>0</td>\n",
       "      <td>1</td>\n",
       "      <td>0</td>\n",
       "      <td>...</td>\n",
       "      <td>0</td>\n",
       "      <td>0</td>\n",
       "      <td>0</td>\n",
       "      <td>0</td>\n",
       "      <td>0</td>\n",
       "      <td>0</td>\n",
       "      <td>0</td>\n",
       "      <td>47.53</td>\n",
       "      <td>6.63</td>\n",
       "      <td>0</td>\n",
       "    </tr>\n",
       "    <tr>\n",
       "      <th>434809</th>\n",
       "      <td>0</td>\n",
       "      <td>1.575</td>\n",
       "      <td>2.0</td>\n",
       "      <td>1</td>\n",
       "      <td>0</td>\n",
       "      <td>1</td>\n",
       "      <td>0</td>\n",
       "      <td>0</td>\n",
       "      <td>1</td>\n",
       "      <td>1</td>\n",
       "      <td>...</td>\n",
       "      <td>0</td>\n",
       "      <td>0</td>\n",
       "      <td>0</td>\n",
       "      <td>0</td>\n",
       "      <td>0</td>\n",
       "      <td>0</td>\n",
       "      <td>0</td>\n",
       "      <td>33.94</td>\n",
       "      <td>3.63</td>\n",
       "      <td>0</td>\n",
       "    </tr>\n",
       "    <tr>\n",
       "      <th>434810</th>\n",
       "      <td>0</td>\n",
       "      <td>1.575</td>\n",
       "      <td>2.0</td>\n",
       "      <td>1</td>\n",
       "      <td>0</td>\n",
       "      <td>1</td>\n",
       "      <td>0</td>\n",
       "      <td>0</td>\n",
       "      <td>1</td>\n",
       "      <td>0</td>\n",
       "      <td>...</td>\n",
       "      <td>0</td>\n",
       "      <td>0</td>\n",
       "      <td>0</td>\n",
       "      <td>0</td>\n",
       "      <td>0</td>\n",
       "      <td>0</td>\n",
       "      <td>0</td>\n",
       "      <td>33.94</td>\n",
       "      <td>3.63</td>\n",
       "      <td>0</td>\n",
       "    </tr>\n",
       "    <tr>\n",
       "      <th>434811</th>\n",
       "      <td>0</td>\n",
       "      <td>2.835</td>\n",
       "      <td>2.0</td>\n",
       "      <td>1</td>\n",
       "      <td>0</td>\n",
       "      <td>1</td>\n",
       "      <td>0</td>\n",
       "      <td>0</td>\n",
       "      <td>1</td>\n",
       "      <td>0</td>\n",
       "      <td>...</td>\n",
       "      <td>0</td>\n",
       "      <td>0</td>\n",
       "      <td>0</td>\n",
       "      <td>1</td>\n",
       "      <td>0</td>\n",
       "      <td>0</td>\n",
       "      <td>0</td>\n",
       "      <td>49.20</td>\n",
       "      <td>1.79</td>\n",
       "      <td>0</td>\n",
       "    </tr>\n",
       "    <tr>\n",
       "      <th>434812</th>\n",
       "      <td>0</td>\n",
       "      <td>1.125</td>\n",
       "      <td>1.0</td>\n",
       "      <td>0</td>\n",
       "      <td>1</td>\n",
       "      <td>1</td>\n",
       "      <td>0</td>\n",
       "      <td>0</td>\n",
       "      <td>1</td>\n",
       "      <td>0</td>\n",
       "      <td>...</td>\n",
       "      <td>0</td>\n",
       "      <td>0</td>\n",
       "      <td>0</td>\n",
       "      <td>0</td>\n",
       "      <td>0</td>\n",
       "      <td>0</td>\n",
       "      <td>0</td>\n",
       "      <td>25.17</td>\n",
       "      <td>3.27</td>\n",
       "      <td>0</td>\n",
       "    </tr>\n",
       "  </tbody>\n",
       "</table>\n",
       "<p>36457 rows × 52 columns</p>\n",
       "</div>"
      ],
      "text/plain": [
       "        CNT_CHILDREN  AMT_INCOME_TOTAL  CNT_FAM_MEMBERS  CODE_GENDER_F  \\\n",
       "0                  0             4.275              2.0              0   \n",
       "1                  0             4.275              2.0              0   \n",
       "2                  0             1.125              2.0              0   \n",
       "3                  0             2.700              1.0              1   \n",
       "4                  0             2.700              1.0              1   \n",
       "...              ...               ...              ...            ...   \n",
       "434808             0             3.150              2.0              0   \n",
       "434809             0             1.575              2.0              1   \n",
       "434810             0             1.575              2.0              1   \n",
       "434811             0             2.835              2.0              1   \n",
       "434812             0             1.125              1.0              0   \n",
       "\n",
       "        CODE_GENDER_M  FLAG_OWN_CAR_N  FLAG_OWN_CAR_Y  FLAG_OWN_REALTY_N  \\\n",
       "0                   1               0               1                  0   \n",
       "1                   1               0               1                  0   \n",
       "2                   1               0               1                  0   \n",
       "3                   0               1               0                  0   \n",
       "4                   0               1               0                  0   \n",
       "...               ...             ...             ...                ...   \n",
       "434808              1               0               1                  0   \n",
       "434809              0               1               0                  0   \n",
       "434810              0               1               0                  0   \n",
       "434811              0               1               0                  0   \n",
       "434812              1               1               0                  0   \n",
       "\n",
       "        FLAG_OWN_REALTY_Y  NAME_INCOME_TYPE_Commercial associate  ...  \\\n",
       "0                       1                                      0  ...   \n",
       "1                       1                                      0  ...   \n",
       "2                       1                                      0  ...   \n",
       "3                       1                                      1  ...   \n",
       "4                       1                                      1  ...   \n",
       "...                   ...                                    ...  ...   \n",
       "434808                  1                                      0  ...   \n",
       "434809                  1                                      1  ...   \n",
       "434810                  1                                      0  ...   \n",
       "434811                  1                                      0  ...   \n",
       "434812                  1                                      0  ...   \n",
       "\n",
       "        OCCUPATION_TYPE_No Occupation Type  \\\n",
       "0                                        1   \n",
       "1                                        1   \n",
       "2                                        0   \n",
       "3                                        0   \n",
       "4                                        0   \n",
       "...                                    ...   \n",
       "434808                                   0   \n",
       "434809                                   0   \n",
       "434810                                   0   \n",
       "434811                                   0   \n",
       "434812                                   0   \n",
       "\n",
       "        OCCUPATION_TYPE_Private service staff  OCCUPATION_TYPE_Realty agents  \\\n",
       "0                                           0                              0   \n",
       "1                                           0                              0   \n",
       "2                                           0                              0   \n",
       "3                                           0                              0   \n",
       "4                                           0                              0   \n",
       "...                                       ...                            ...   \n",
       "434808                                      0                              0   \n",
       "434809                                      0                              0   \n",
       "434810                                      0                              0   \n",
       "434811                                      0                              0   \n",
       "434812                                      0                              0   \n",
       "\n",
       "        OCCUPATION_TYPE_Sales staff  OCCUPATION_TYPE_Secretaries  \\\n",
       "0                                 0                            0   \n",
       "1                                 0                            0   \n",
       "2                                 0                            0   \n",
       "3                                 1                            0   \n",
       "4                                 1                            0   \n",
       "...                             ...                          ...   \n",
       "434808                            0                            0   \n",
       "434809                            0                            0   \n",
       "434810                            0                            0   \n",
       "434811                            1                            0   \n",
       "434812                            0                            0   \n",
       "\n",
       "        OCCUPATION_TYPE_Security staff  OCCUPATION_TYPE_Waiters/barmen staff  \\\n",
       "0                                    0                                     0   \n",
       "1                                    0                                     0   \n",
       "2                                    1                                     0   \n",
       "3                                    0                                     0   \n",
       "4                                    0                                     0   \n",
       "...                                ...                                   ...   \n",
       "434808                               0                                     0   \n",
       "434809                               0                                     0   \n",
       "434810                               0                                     0   \n",
       "434811                               0                                     0   \n",
       "434812                               0                                     0   \n",
       "\n",
       "          AGE  EMPLOYMENT_PERIOD  STATUS_y  \n",
       "0       32.89              12.44         1  \n",
       "1       32.89              12.44         1  \n",
       "2       58.83               3.11         0  \n",
       "3       52.36               8.36         1  \n",
       "4       52.36               8.36         1  \n",
       "...       ...                ...       ...  \n",
       "434808  47.53               6.63         0  \n",
       "434809  33.94               3.63         0  \n",
       "434810  33.94               3.63         0  \n",
       "434811  49.20               1.79         0  \n",
       "434812  25.17               3.27         0  \n",
       "\n",
       "[36457 rows x 52 columns]"
      ]
     },
     "execution_count": 49,
     "metadata": {},
     "output_type": "execute_result"
    }
   ],
   "source": [
    "credit_application_df = application_record_df.join(new_credit.set_index('ID'), on='ID', how='inner')\n",
    "credit_application_df.drop(['MONTHS_BALANCE'], axis=1, inplace=True)\n",
    "credit_application_df.drop(['Months_from_Today'], axis=1, inplace=True)\n",
    "credit_application_df.drop(['ID'], axis=1, inplace=True)\n",
    "credit_application_df.drop(['AMT_INCOME_RANGE'], axis=1, inplace=True)\n",
    "credit_application_df"
   ]
  },
  {
   "cell_type": "markdown",
   "id": "3f384dd9",
   "metadata": {},
   "source": [
    "## Plots of Dataset demographics"
   ]
  },
  {
   "cell_type": "code",
   "execution_count": 50,
   "id": "e706e8ab",
   "metadata": {},
   "outputs": [],
   "source": [
    "# Copy credit_application_df to a new DataFrame for univariate analysis\n",
    "application_results = pd.DataFrame(credit_application_df).copy()"
   ]
  },
  {
   "cell_type": "markdown",
   "id": "da48a1bb",
   "metadata": {},
   "source": [
    "### Distribution of \"Male\" vs \"Female\" applicants"
   ]
  },
  {
   "cell_type": "code",
   "execution_count": 51,
   "id": "f9269a56",
   "metadata": {},
   "outputs": [
    {
     "data": {
      "text/plain": [
       "Female    24430\n",
       "Male      12027\n",
       "Name: GENDER, dtype: int64"
      ]
     },
     "execution_count": 51,
     "metadata": {},
     "output_type": "execute_result"
    }
   ],
   "source": [
    "application_results.rename(columns = {'CODE_GENDER_M':'GENDER'}, inplace = True)\n",
    "\n",
    "application_results[\"GENDER\"].replace({1:\"Male\", 0:\"Female\"} , inplace= True )\n",
    "application_results['GENDER'].value_counts()"
   ]
  },
  {
   "cell_type": "code",
   "execution_count": 52,
   "id": "214febaf",
   "metadata": {},
   "outputs": [
    {
     "data": {
      "image/png": "[encoded data removed]",
      "text/plain": [
       "<Figure size 1080x720 with 1 Axes>"
      ]
     },
     "metadata": {},
     "output_type": "display_data"
    }
   ],
   "source": [
    "plt.figure(figsize=(15,10))\n",
    "    \n",
    "plt.subplot(2, 2, 1)\n",
    "gender_df = pd.DataFrame(application_results['GENDER'].value_counts())\n",
    "colors = [\"yellow\",\"lightgreen\"]\n",
    "plt.title('Gender Distribution', fontsize = 15)\n",
    "plt.pie(gender_df['GENDER'].values, labels = gender_df.index.values, autopct='%1.2f%%', colors=colors, shadow=False, startangle=30)\n",
    "plt.axis('equal')    \n",
    "plt.savefig('GenderDistribution.png', dpi=100, bbox_inches='tight')\n",
    "plt.show()\n"
   ]
  },
  {
   "cell_type": "markdown",
   "id": "f574512c",
   "metadata": {},
   "source": [
    "## Distribution of Realty Ownership"
   ]
  },
  {
   "cell_type": "code",
   "execution_count": 53,
   "id": "2039867c",
   "metadata": {},
   "outputs": [
    {
     "data": {
      "text/plain": [
       "OWNERS        24506\n",
       "NON_OWNERS    11951\n",
       "Name: OWN_REALTY, dtype: int64"
      ]
     },
     "execution_count": 53,
     "metadata": {},
     "output_type": "execute_result"
    }
   ],
   "source": [
    "application_results.rename(columns = {'FLAG_OWN_REALTY_Y':'OWN_REALTY'}, inplace = True)\n",
    "\n",
    "application_results[\"OWN_REALTY\"].replace({1:\"OWNERS\", 0:\"NON_OWNERS\"} , inplace= True )\n",
    "application_results['OWN_REALTY'].value_counts()"
   ]
  },
  {
   "cell_type": "code",
   "execution_count": 54,
   "id": "b8833c01",
   "metadata": {},
   "outputs": [
    {
     "data": {
      "image/png": "[encoded data removed]",
      "text/plain": [
       "<Figure size 1080x720 with 1 Axes>"
      ]
     },
     "metadata": {},
     "output_type": "display_data"
    }
   ],
   "source": [
    "plt.figure(figsize=(15,10))\n",
    "    \n",
    "plt.subplot(2, 2, 1)\n",
    "realty_ownership = pd.DataFrame(application_results['OWN_REALTY'].value_counts())\n",
    "colors = [\"lightskyblue\",\"silver\"]\n",
    "plt.title('Realty Ownership', fontsize = 15)\n",
    "plt.pie(realty_ownership['OWN_REALTY'].values, labels = realty_ownership.index.values, autopct='%1.2f%%', colors=colors, shadow=False, startangle=30)\n",
    "plt.axis('equal')  \n",
    "plt.savefig('RealtyOwnership.png', dpi=100, bbox_inches='tight')\n",
    "plt.show()"
   ]
  },
  {
   "cell_type": "markdown",
   "id": "45578bae",
   "metadata": {},
   "source": [
    "### Distribution of Income Type"
   ]
  },
  {
   "cell_type": "code",
   "execution_count": 55,
   "id": "8e3e1203",
   "metadata": {},
   "outputs": [
    {
     "data": {
      "text/html": [
       "<div>\n",
       "<style scoped>\n",
       "    .dataframe tbody tr th:only-of-type {\n",
       "        vertical-align: middle;\n",
       "    }\n",
       "\n",
       "    .dataframe tbody tr th {\n",
       "        vertical-align: top;\n",
       "    }\n",
       "\n",
       "    .dataframe thead th {\n",
       "        text-align: right;\n",
       "    }\n",
       "</style>\n",
       "<table border=\"1\" class=\"dataframe\">\n",
       "  <thead>\n",
       "    <tr style=\"text-align: right;\">\n",
       "      <th></th>\n",
       "      <th>CNT_CHILDREN</th>\n",
       "      <th>AMT_INCOME_TOTAL</th>\n",
       "      <th>CNT_FAM_MEMBERS</th>\n",
       "      <th>CODE_GENDER_F</th>\n",
       "      <th>GENDER</th>\n",
       "      <th>FLAG_OWN_CAR_N</th>\n",
       "      <th>FLAG_OWN_CAR_Y</th>\n",
       "      <th>FLAG_OWN_REALTY_N</th>\n",
       "      <th>OWN_REALTY</th>\n",
       "      <th>CommAssociate</th>\n",
       "      <th>...</th>\n",
       "      <th>OCCUPATION_TYPE_No Occupation Type</th>\n",
       "      <th>OCCUPATION_TYPE_Private service staff</th>\n",
       "      <th>OCCUPATION_TYPE_Realty agents</th>\n",
       "      <th>OCCUPATION_TYPE_Sales staff</th>\n",
       "      <th>OCCUPATION_TYPE_Secretaries</th>\n",
       "      <th>OCCUPATION_TYPE_Security staff</th>\n",
       "      <th>OCCUPATION_TYPE_Waiters/barmen staff</th>\n",
       "      <th>AGE</th>\n",
       "      <th>EMPLOYMENT_PERIOD</th>\n",
       "      <th>STATUS_y</th>\n",
       "    </tr>\n",
       "  </thead>\n",
       "  <tbody>\n",
       "    <tr>\n",
       "      <th>0</th>\n",
       "      <td>0</td>\n",
       "      <td>4.275</td>\n",
       "      <td>2.0</td>\n",
       "      <td>0</td>\n",
       "      <td>Male</td>\n",
       "      <td>0</td>\n",
       "      <td>1</td>\n",
       "      <td>0</td>\n",
       "      <td>OWNERS</td>\n",
       "      <td>0</td>\n",
       "      <td>...</td>\n",
       "      <td>1</td>\n",
       "      <td>0</td>\n",
       "      <td>0</td>\n",
       "      <td>0</td>\n",
       "      <td>0</td>\n",
       "      <td>0</td>\n",
       "      <td>0</td>\n",
       "      <td>32.89</td>\n",
       "      <td>12.44</td>\n",
       "      <td>1</td>\n",
       "    </tr>\n",
       "    <tr>\n",
       "      <th>1</th>\n",
       "      <td>0</td>\n",
       "      <td>4.275</td>\n",
       "      <td>2.0</td>\n",
       "      <td>0</td>\n",
       "      <td>Male</td>\n",
       "      <td>0</td>\n",
       "      <td>1</td>\n",
       "      <td>0</td>\n",
       "      <td>OWNERS</td>\n",
       "      <td>0</td>\n",
       "      <td>...</td>\n",
       "      <td>1</td>\n",
       "      <td>0</td>\n",
       "      <td>0</td>\n",
       "      <td>0</td>\n",
       "      <td>0</td>\n",
       "      <td>0</td>\n",
       "      <td>0</td>\n",
       "      <td>32.89</td>\n",
       "      <td>12.44</td>\n",
       "      <td>1</td>\n",
       "    </tr>\n",
       "    <tr>\n",
       "      <th>2</th>\n",
       "      <td>0</td>\n",
       "      <td>1.125</td>\n",
       "      <td>2.0</td>\n",
       "      <td>0</td>\n",
       "      <td>Male</td>\n",
       "      <td>0</td>\n",
       "      <td>1</td>\n",
       "      <td>0</td>\n",
       "      <td>OWNERS</td>\n",
       "      <td>0</td>\n",
       "      <td>...</td>\n",
       "      <td>0</td>\n",
       "      <td>0</td>\n",
       "      <td>0</td>\n",
       "      <td>0</td>\n",
       "      <td>0</td>\n",
       "      <td>1</td>\n",
       "      <td>0</td>\n",
       "      <td>58.83</td>\n",
       "      <td>3.11</td>\n",
       "      <td>0</td>\n",
       "    </tr>\n",
       "    <tr>\n",
       "      <th>3</th>\n",
       "      <td>0</td>\n",
       "      <td>2.700</td>\n",
       "      <td>1.0</td>\n",
       "      <td>1</td>\n",
       "      <td>Female</td>\n",
       "      <td>1</td>\n",
       "      <td>0</td>\n",
       "      <td>0</td>\n",
       "      <td>OWNERS</td>\n",
       "      <td>1</td>\n",
       "      <td>...</td>\n",
       "      <td>0</td>\n",
       "      <td>0</td>\n",
       "      <td>0</td>\n",
       "      <td>1</td>\n",
       "      <td>0</td>\n",
       "      <td>0</td>\n",
       "      <td>0</td>\n",
       "      <td>52.36</td>\n",
       "      <td>8.36</td>\n",
       "      <td>1</td>\n",
       "    </tr>\n",
       "    <tr>\n",
       "      <th>4</th>\n",
       "      <td>0</td>\n",
       "      <td>2.700</td>\n",
       "      <td>1.0</td>\n",
       "      <td>1</td>\n",
       "      <td>Female</td>\n",
       "      <td>1</td>\n",
       "      <td>0</td>\n",
       "      <td>0</td>\n",
       "      <td>OWNERS</td>\n",
       "      <td>1</td>\n",
       "      <td>...</td>\n",
       "      <td>0</td>\n",
       "      <td>0</td>\n",
       "      <td>0</td>\n",
       "      <td>1</td>\n",
       "      <td>0</td>\n",
       "      <td>0</td>\n",
       "      <td>0</td>\n",
       "      <td>52.36</td>\n",
       "      <td>8.36</td>\n",
       "      <td>1</td>\n",
       "    </tr>\n",
       "  </tbody>\n",
       "</table>\n",
       "<p>5 rows × 52 columns</p>\n",
       "</div>"
      ],
      "text/plain": [
       "   CNT_CHILDREN  AMT_INCOME_TOTAL  CNT_FAM_MEMBERS  CODE_GENDER_F  GENDER  \\\n",
       "0             0             4.275              2.0              0    Male   \n",
       "1             0             4.275              2.0              0    Male   \n",
       "2             0             1.125              2.0              0    Male   \n",
       "3             0             2.700              1.0              1  Female   \n",
       "4             0             2.700              1.0              1  Female   \n",
       "\n",
       "   FLAG_OWN_CAR_N  FLAG_OWN_CAR_Y  FLAG_OWN_REALTY_N OWN_REALTY  \\\n",
       "0               0               1                  0     OWNERS   \n",
       "1               0               1                  0     OWNERS   \n",
       "2               0               1                  0     OWNERS   \n",
       "3               1               0                  0     OWNERS   \n",
       "4               1               0                  0     OWNERS   \n",
       "\n",
       "   CommAssociate  ...  OCCUPATION_TYPE_No Occupation Type  \\\n",
       "0              0  ...                                   1   \n",
       "1              0  ...                                   1   \n",
       "2              0  ...                                   0   \n",
       "3              1  ...                                   0   \n",
       "4              1  ...                                   0   \n",
       "\n",
       "   OCCUPATION_TYPE_Private service staff  OCCUPATION_TYPE_Realty agents  \\\n",
       "0                                      0                              0   \n",
       "1                                      0                              0   \n",
       "2                                      0                              0   \n",
       "3                                      0                              0   \n",
       "4                                      0                              0   \n",
       "\n",
       "   OCCUPATION_TYPE_Sales staff  OCCUPATION_TYPE_Secretaries  \\\n",
       "0                            0                            0   \n",
       "1                            0                            0   \n",
       "2                            0                            0   \n",
       "3                            1                            0   \n",
       "4                            1                            0   \n",
       "\n",
       "   OCCUPATION_TYPE_Security staff  OCCUPATION_TYPE_Waiters/barmen staff  \\\n",
       "0                               0                                     0   \n",
       "1                               0                                     0   \n",
       "2                               1                                     0   \n",
       "3                               0                                     0   \n",
       "4                               0                                     0   \n",
       "\n",
       "     AGE  EMPLOYMENT_PERIOD  STATUS_y  \n",
       "0  32.89              12.44         1  \n",
       "1  32.89              12.44         1  \n",
       "2  58.83               3.11         0  \n",
       "3  52.36               8.36         1  \n",
       "4  52.36               8.36         1  \n",
       "\n",
       "[5 rows x 52 columns]"
      ]
     },
     "execution_count": 55,
     "metadata": {},
     "output_type": "execute_result"
    }
   ],
   "source": [
    "# Renaming Income Type and Education Type columns\n",
    "application_results.rename(columns = {'NAME_INCOME_TYPE_Commercial associate':'CommAssociate', 'NAME_INCOME_TYPE_Pensioner':'Pensioner', 'NAME_INCOME_TYPE_State servant':'StateServant','NAME_INCOME_TYPE_Student':'Student', 'NAME_INCOME_TYPE_Working':'Working', 'NAME_EDUCATION_TYPE_Higher education':'HigherEducation','NAME_EDUCATION_TYPE_Incomplete higher':'IncompleteHigher', 'NAME_EDUCATION_TYPE_Lower secondary':'LowerSecondary', 'NAME_EDUCATION_TYPE_Secondary / secondary special':'SecondarySpecial'}, inplace = True)\n",
    "application_results.head()"
   ]
  },
  {
   "cell_type": "code",
   "execution_count": 56,
   "id": "9bb7e0a0",
   "metadata": {},
   "outputs": [
    {
     "data": {
      "text/plain": [
       "(8490, 6152, 2985, 11, 18819)"
      ]
     },
     "execution_count": 56,
     "metadata": {},
     "output_type": "execute_result"
    }
   ],
   "source": [
    "CA = application_results[application_results['CommAssociate']==1].count()['CommAssociate']\n",
    "P = application_results[application_results['Pensioner']==1].count()['Pensioner']\n",
    "SS = application_results[application_results['StateServant']==1].count()['StateServant']\n",
    "STU = application_results[application_results['Student']==1].count()['Student']\n",
    "W = application_results[application_results['Working']==1].count()['Working']\n",
    "CA, P, SS, STU, W"
   ]
  },
  {
   "cell_type": "code",
   "execution_count": 57,
   "id": "502af6e3",
   "metadata": {},
   "outputs": [
    {
     "data": {
      "image/png": "[encoded data removed]",
      "text/plain": [
       "<Figure size 720x360 with 1 Axes>"
      ]
     },
     "metadata": {
      "needs_background": "light"
     },
     "output_type": "display_data"
    }
   ],
   "source": [
    "x = np.array([\"Comm Assoc.\", \"Pensioner\", \"State Servant\", \"Student\", \"Working\"])\n",
    "y = np.array([CA,P,SS,STU,W])\n",
    "plt.rcParams[\"figure.figsize\"] = (10,5)\n",
    "colors = [\"Red\",\"Aqua\",\"Yellow\", \"Green\", \"Salmon\"]\n",
    "plt.title('Applicants Income Type', fontsize = 15)\n",
    "plt.xlabel(\"Classification\")\n",
    "plt.ylabel(\"Population Size\")\n",
    "\n",
    "plt.bar(x,y, width=0.5, color = colors)\n",
    "plt.savefig('ApplicantsIncomeType.png', dpi=100, bbox_inches='tight')\n",
    "plt.show()"
   ]
  },
  {
   "cell_type": "markdown",
   "id": "e963eafa",
   "metadata": {},
   "source": [
    "## Distribution of Occupation Type"
   ]
  },
  {
   "cell_type": "code",
   "execution_count": 58,
   "id": "707f7745",
   "metadata": {},
   "outputs": [],
   "source": [
    "# Renaming Income Type and Education Type columns\n",
    "application_results.rename(columns = {'OCCUPATION_TYPE_Accountants': 'Accountants',\n",
    "                                      'OCCUPATION_TYPE_Cleaning staff': 'Cleaners',\n",
    "                                      'OCCUPATION_TYPE_Cooking staff': 'Cooks',\n",
    "                                      'OCCUPATION_TYPE_Core staff': 'Core',\n",
    "                                      'OCCUPATION_TYPE_Drivers': 'Drivers',\n",
    "                                      'OCCUPATION_TYPE_HR staff': 'HR',\n",
    "                                      'OCCUPATION_TYPE_High skill tech staff': 'Tech',\n",
    "                                      'OCCUPATION_TYPE_IT staff': 'IT',\n",
    "                                      'OCCUPATION_TYPE_Laborers': 'Laborers',\n",
    "                                      'OCCUPATION_TYPE_Low-skill Laborers': 'LSLaborers',\n",
    "                                      'OCCUPATION_TYPE_Managers': 'Managers',\n",
    "                                      'OCCUPATION_TYPE_Medicine staff': 'Medical',\n",
    "                                      'OCCUPATION_TYPE_No Occupation Type': 'None',\n",
    "                                      'OCCUPATION_TYPE_Private service staff': 'Pvt_Service',\n",
    "                                      'OCCUPATION_TYPE_Realty agents': 'Realtors',\n",
    "                                      'OCCUPATION_TYPE_Sales staff': 'Sales',\n",
    "                                      'OCCUPATION_TYPE_Secretaries': 'Secretaries',\n",
    "                                      'OCCUPATION_TYPE_Security staff': 'Security',\n",
    "                                      'OCCUPATION_TYPE_Waiters/barmen staff': 'Waiters_Barmen' }, inplace = True) \n",
    "                                  \n"
   ]
  },
  {
   "cell_type": "code",
   "execution_count": 59,
   "id": "fbea2ec6",
   "metadata": {},
   "outputs": [],
   "source": [
    "#Assign short names to columns\n",
    "ACC = application_results[application_results['Accountants']==1].count()['Accountants']\n",
    "CL = application_results[application_results['Cleaners']==1].count()['Cleaners']\n",
    "CK = application_results[application_results['Cooks']==1].count()['Cooks']\n",
    "CE = application_results[application_results['Core']==1].count()['Core']\n",
    "DRV = application_results[application_results['Drivers']==1].count()['Drivers']\n",
    "HR = application_results[application_results['HR']==1].count()['HR']\n",
    "TC = application_results[application_results['Tech']==1].count()['Tech']\n",
    "IT = application_results[application_results['IT']==1].count()['IT']\n",
    "LBR = application_results[application_results['Laborers']==1].count()['Laborers']\n",
    "LSL = application_results[application_results['LSLaborers']==1].count()['LSLaborers']\n",
    "MGR = application_results[application_results['Managers']==1].count()['Managers']\n",
    "MED = application_results[application_results['Medical']==1].count()['Medical']\n",
    "PS = application_results[application_results['Pvt_Service']==1].count()['Pvt_Service']\n",
    "R = application_results[application_results['Realtors']==1].count()['Realtors']\n",
    "S = application_results[application_results['Sales']==1].count()['Sales']\n",
    "SEC = application_results[application_results['Secretaries']==1].count()['Secretaries']\n",
    "SY = application_results[application_results['Security']==1].count()['Security']\n",
    "WB = application_results[application_results['Waiters_Barmen']==1].count()['Waiters_Barmen']\n",
    "N = application_results[application_results['None']==1].count()['None']\n"
   ]
  },
  {
   "cell_type": "code",
   "execution_count": 60,
   "id": "b2c98a1a",
   "metadata": {},
   "outputs": [],
   "source": [
    "#Creating a DataFrame for Occupation Type\n",
    "x = ['Accountants', 'Cleaners', 'Cooks', 'Core', 'Drivers','HR','Tech','IT','Laborers','LSLaborers', 'Managers', 'Medical', 'Pvt_Service', 'Realtors','Sales','Secretaries','Security','Waiters/Barmen','None']\n",
    "y = [ACC, CL, CK, CE, DRV, HR, TC, IT, LBR, LSL, MGR, MED, PS, R, S, SEC, SY, WB, N]\n",
    "occupation = pd.DataFrame(list(zip(x, y)))\n",
    "occupation.sort_values(by=[1], inplace=True)"
   ]
  },
  {
   "cell_type": "code",
   "execution_count": 61,
   "id": "ec9fb7b6",
   "metadata": {},
   "outputs": [
    {
     "data": {
      "image/png": "[encoded data removed]",
      "text/plain": [
       "<Figure size 576x360 with 1 Axes>"
      ]
     },
     "metadata": {
      "needs_background": "light"
     },
     "output_type": "display_data"
    }
   ],
   "source": [
    "# Graph of Occupation type\n",
    "occupation.plot.bar(x=0,y=1, title=\"Applicants Occupation\", legend=None, figsize=(8,5))\n",
    "plt.xlabel(\"Occupation\")\n",
    "plt.ylabel(\"Number of Applicants\")\n",
    "plt.savefig('ApplicantsOccupation.png', dpi=100, bbox_inches='tight')\n",
    "plt.show(block=True)   \n"
   ]
  },
  {
   "cell_type": "markdown",
   "id": "0a22b8fa",
   "metadata": {},
   "source": [
    "## Make up of \"Good applicants\""
   ]
  },
  {
   "cell_type": "code",
   "execution_count": 62,
   "id": "a22e8173",
   "metadata": {},
   "outputs": [
    {
     "data": {
      "text/html": [
       "<div>\n",
       "<style scoped>\n",
       "    .dataframe tbody tr th:only-of-type {\n",
       "        vertical-align: middle;\n",
       "    }\n",
       "\n",
       "    .dataframe tbody tr th {\n",
       "        vertical-align: top;\n",
       "    }\n",
       "\n",
       "    .dataframe thead th {\n",
       "        text-align: right;\n",
       "    }\n",
       "</style>\n",
       "<table border=\"1\" class=\"dataframe\">\n",
       "  <thead>\n",
       "    <tr style=\"text-align: right;\">\n",
       "      <th></th>\n",
       "      <th>CNT_CHILDREN</th>\n",
       "      <th>AMT_INCOME_TOTAL</th>\n",
       "      <th>CNT_FAM_MEMBERS</th>\n",
       "      <th>CODE_GENDER_F</th>\n",
       "      <th>GENDER</th>\n",
       "      <th>FLAG_OWN_CAR_N</th>\n",
       "      <th>FLAG_OWN_CAR_Y</th>\n",
       "      <th>FLAG_OWN_REALTY_N</th>\n",
       "      <th>OWN_REALTY</th>\n",
       "      <th>CommAssociate</th>\n",
       "      <th>...</th>\n",
       "      <th>None</th>\n",
       "      <th>Pvt_Service</th>\n",
       "      <th>Realtors</th>\n",
       "      <th>Sales</th>\n",
       "      <th>Secretaries</th>\n",
       "      <th>Security</th>\n",
       "      <th>Waiters_Barmen</th>\n",
       "      <th>AGE</th>\n",
       "      <th>EMPLOYMENT_PERIOD</th>\n",
       "      <th>STATUS_y</th>\n",
       "    </tr>\n",
       "  </thead>\n",
       "  <tbody>\n",
       "    <tr>\n",
       "      <th>0</th>\n",
       "      <td>0</td>\n",
       "      <td>4.275</td>\n",
       "      <td>2.0</td>\n",
       "      <td>0</td>\n",
       "      <td>Male</td>\n",
       "      <td>0</td>\n",
       "      <td>1</td>\n",
       "      <td>0</td>\n",
       "      <td>OWNERS</td>\n",
       "      <td>0</td>\n",
       "      <td>...</td>\n",
       "      <td>1</td>\n",
       "      <td>0</td>\n",
       "      <td>0</td>\n",
       "      <td>0</td>\n",
       "      <td>0</td>\n",
       "      <td>0</td>\n",
       "      <td>0</td>\n",
       "      <td>32.89</td>\n",
       "      <td>12.44</td>\n",
       "      <td>1</td>\n",
       "    </tr>\n",
       "    <tr>\n",
       "      <th>1</th>\n",
       "      <td>0</td>\n",
       "      <td>4.275</td>\n",
       "      <td>2.0</td>\n",
       "      <td>0</td>\n",
       "      <td>Male</td>\n",
       "      <td>0</td>\n",
       "      <td>1</td>\n",
       "      <td>0</td>\n",
       "      <td>OWNERS</td>\n",
       "      <td>0</td>\n",
       "      <td>...</td>\n",
       "      <td>1</td>\n",
       "      <td>0</td>\n",
       "      <td>0</td>\n",
       "      <td>0</td>\n",
       "      <td>0</td>\n",
       "      <td>0</td>\n",
       "      <td>0</td>\n",
       "      <td>32.89</td>\n",
       "      <td>12.44</td>\n",
       "      <td>1</td>\n",
       "    </tr>\n",
       "    <tr>\n",
       "      <th>3</th>\n",
       "      <td>0</td>\n",
       "      <td>2.700</td>\n",
       "      <td>1.0</td>\n",
       "      <td>1</td>\n",
       "      <td>Female</td>\n",
       "      <td>1</td>\n",
       "      <td>0</td>\n",
       "      <td>0</td>\n",
       "      <td>OWNERS</td>\n",
       "      <td>1</td>\n",
       "      <td>...</td>\n",
       "      <td>0</td>\n",
       "      <td>0</td>\n",
       "      <td>0</td>\n",
       "      <td>1</td>\n",
       "      <td>0</td>\n",
       "      <td>0</td>\n",
       "      <td>0</td>\n",
       "      <td>52.36</td>\n",
       "      <td>8.36</td>\n",
       "      <td>1</td>\n",
       "    </tr>\n",
       "    <tr>\n",
       "      <th>4</th>\n",
       "      <td>0</td>\n",
       "      <td>2.700</td>\n",
       "      <td>1.0</td>\n",
       "      <td>1</td>\n",
       "      <td>Female</td>\n",
       "      <td>1</td>\n",
       "      <td>0</td>\n",
       "      <td>0</td>\n",
       "      <td>OWNERS</td>\n",
       "      <td>1</td>\n",
       "      <td>...</td>\n",
       "      <td>0</td>\n",
       "      <td>0</td>\n",
       "      <td>0</td>\n",
       "      <td>1</td>\n",
       "      <td>0</td>\n",
       "      <td>0</td>\n",
       "      <td>0</td>\n",
       "      <td>52.36</td>\n",
       "      <td>8.36</td>\n",
       "      <td>1</td>\n",
       "    </tr>\n",
       "    <tr>\n",
       "      <th>13</th>\n",
       "      <td>0</td>\n",
       "      <td>1.350</td>\n",
       "      <td>2.0</td>\n",
       "      <td>0</td>\n",
       "      <td>Male</td>\n",
       "      <td>0</td>\n",
       "      <td>1</td>\n",
       "      <td>0</td>\n",
       "      <td>OWNERS</td>\n",
       "      <td>1</td>\n",
       "      <td>...</td>\n",
       "      <td>0</td>\n",
       "      <td>0</td>\n",
       "      <td>0</td>\n",
       "      <td>0</td>\n",
       "      <td>0</td>\n",
       "      <td>0</td>\n",
       "      <td>0</td>\n",
       "      <td>48.71</td>\n",
       "      <td>3.27</td>\n",
       "      <td>1</td>\n",
       "    </tr>\n",
       "    <tr>\n",
       "      <th>...</th>\n",
       "      <td>...</td>\n",
       "      <td>...</td>\n",
       "      <td>...</td>\n",
       "      <td>...</td>\n",
       "      <td>...</td>\n",
       "      <td>...</td>\n",
       "      <td>...</td>\n",
       "      <td>...</td>\n",
       "      <td>...</td>\n",
       "      <td>...</td>\n",
       "      <td>...</td>\n",
       "      <td>...</td>\n",
       "      <td>...</td>\n",
       "      <td>...</td>\n",
       "      <td>...</td>\n",
       "      <td>...</td>\n",
       "      <td>...</td>\n",
       "      <td>...</td>\n",
       "      <td>...</td>\n",
       "      <td>...</td>\n",
       "      <td>...</td>\n",
       "    </tr>\n",
       "    <tr>\n",
       "      <th>49532</th>\n",
       "      <td>1</td>\n",
       "      <td>1.125</td>\n",
       "      <td>3.0</td>\n",
       "      <td>1</td>\n",
       "      <td>Female</td>\n",
       "      <td>0</td>\n",
       "      <td>1</td>\n",
       "      <td>0</td>\n",
       "      <td>OWNERS</td>\n",
       "      <td>0</td>\n",
       "      <td>...</td>\n",
       "      <td>0</td>\n",
       "      <td>0</td>\n",
       "      <td>0</td>\n",
       "      <td>0</td>\n",
       "      <td>0</td>\n",
       "      <td>0</td>\n",
       "      <td>0</td>\n",
       "      <td>39.00</td>\n",
       "      <td>0.85</td>\n",
       "      <td>1</td>\n",
       "    </tr>\n",
       "    <tr>\n",
       "      <th>49536</th>\n",
       "      <td>1</td>\n",
       "      <td>1.125</td>\n",
       "      <td>3.0</td>\n",
       "      <td>1</td>\n",
       "      <td>Female</td>\n",
       "      <td>0</td>\n",
       "      <td>1</td>\n",
       "      <td>0</td>\n",
       "      <td>OWNERS</td>\n",
       "      <td>0</td>\n",
       "      <td>...</td>\n",
       "      <td>0</td>\n",
       "      <td>0</td>\n",
       "      <td>0</td>\n",
       "      <td>0</td>\n",
       "      <td>0</td>\n",
       "      <td>0</td>\n",
       "      <td>0</td>\n",
       "      <td>39.00</td>\n",
       "      <td>0.85</td>\n",
       "      <td>1</td>\n",
       "    </tr>\n",
       "    <tr>\n",
       "      <th>49539</th>\n",
       "      <td>0</td>\n",
       "      <td>0.900</td>\n",
       "      <td>2.0</td>\n",
       "      <td>1</td>\n",
       "      <td>Female</td>\n",
       "      <td>1</td>\n",
       "      <td>0</td>\n",
       "      <td>1</td>\n",
       "      <td>NON_OWNERS</td>\n",
       "      <td>0</td>\n",
       "      <td>...</td>\n",
       "      <td>1</td>\n",
       "      <td>0</td>\n",
       "      <td>0</td>\n",
       "      <td>0</td>\n",
       "      <td>0</td>\n",
       "      <td>0</td>\n",
       "      <td>0</td>\n",
       "      <td>34.01</td>\n",
       "      <td>0.35</td>\n",
       "      <td>1</td>\n",
       "    </tr>\n",
       "    <tr>\n",
       "      <th>434498</th>\n",
       "      <td>2</td>\n",
       "      <td>1.125</td>\n",
       "      <td>4.0</td>\n",
       "      <td>1</td>\n",
       "      <td>Female</td>\n",
       "      <td>1</td>\n",
       "      <td>0</td>\n",
       "      <td>0</td>\n",
       "      <td>OWNERS</td>\n",
       "      <td>1</td>\n",
       "      <td>...</td>\n",
       "      <td>0</td>\n",
       "      <td>0</td>\n",
       "      <td>0</td>\n",
       "      <td>1</td>\n",
       "      <td>0</td>\n",
       "      <td>0</td>\n",
       "      <td>0</td>\n",
       "      <td>33.25</td>\n",
       "      <td>2.53</td>\n",
       "      <td>1</td>\n",
       "    </tr>\n",
       "    <tr>\n",
       "      <th>434652</th>\n",
       "      <td>0</td>\n",
       "      <td>0.675</td>\n",
       "      <td>2.0</td>\n",
       "      <td>1</td>\n",
       "      <td>Female</td>\n",
       "      <td>1</td>\n",
       "      <td>0</td>\n",
       "      <td>0</td>\n",
       "      <td>OWNERS</td>\n",
       "      <td>0</td>\n",
       "      <td>...</td>\n",
       "      <td>0</td>\n",
       "      <td>0</td>\n",
       "      <td>0</td>\n",
       "      <td>0</td>\n",
       "      <td>0</td>\n",
       "      <td>0</td>\n",
       "      <td>0</td>\n",
       "      <td>40.25</td>\n",
       "      <td>1.38</td>\n",
       "      <td>1</td>\n",
       "    </tr>\n",
       "  </tbody>\n",
       "</table>\n",
       "<p>8344 rows × 52 columns</p>\n",
       "</div>"
      ],
      "text/plain": [
       "        CNT_CHILDREN  AMT_INCOME_TOTAL  CNT_FAM_MEMBERS  CODE_GENDER_F  \\\n",
       "0                  0             4.275              2.0              0   \n",
       "1                  0             4.275              2.0              0   \n",
       "3                  0             2.700              1.0              1   \n",
       "4                  0             2.700              1.0              1   \n",
       "13                 0             1.350              2.0              0   \n",
       "...              ...               ...              ...            ...   \n",
       "49532              1             1.125              3.0              1   \n",
       "49536              1             1.125              3.0              1   \n",
       "49539              0             0.900              2.0              1   \n",
       "434498             2             1.125              4.0              1   \n",
       "434652             0             0.675              2.0              1   \n",
       "\n",
       "        GENDER  FLAG_OWN_CAR_N  FLAG_OWN_CAR_Y  FLAG_OWN_REALTY_N  OWN_REALTY  \\\n",
       "0         Male               0               1                  0      OWNERS   \n",
       "1         Male               0               1                  0      OWNERS   \n",
       "3       Female               1               0                  0      OWNERS   \n",
       "4       Female               1               0                  0      OWNERS   \n",
       "13        Male               0               1                  0      OWNERS   \n",
       "...        ...             ...             ...                ...         ...   \n",
       "49532   Female               0               1                  0      OWNERS   \n",
       "49536   Female               0               1                  0      OWNERS   \n",
       "49539   Female               1               0                  1  NON_OWNERS   \n",
       "434498  Female               1               0                  0      OWNERS   \n",
       "434652  Female               1               0                  0      OWNERS   \n",
       "\n",
       "        CommAssociate  ...  None  Pvt_Service  Realtors  Sales  Secretaries  \\\n",
       "0                   0  ...     1            0         0      0            0   \n",
       "1                   0  ...     1            0         0      0            0   \n",
       "3                   1  ...     0            0         0      1            0   \n",
       "4                   1  ...     0            0         0      1            0   \n",
       "13                  1  ...     0            0         0      0            0   \n",
       "...               ...  ...   ...          ...       ...    ...          ...   \n",
       "49532               0  ...     0            0         0      0            0   \n",
       "49536               0  ...     0            0         0      0            0   \n",
       "49539               0  ...     1            0         0      0            0   \n",
       "434498              1  ...     0            0         0      1            0   \n",
       "434652              0  ...     0            0         0      0            0   \n",
       "\n",
       "        Security  Waiters_Barmen    AGE  EMPLOYMENT_PERIOD  STATUS_y  \n",
       "0              0               0  32.89              12.44         1  \n",
       "1              0               0  32.89              12.44         1  \n",
       "3              0               0  52.36               8.36         1  \n",
       "4              0               0  52.36               8.36         1  \n",
       "13             0               0  48.71               3.27         1  \n",
       "...          ...             ...    ...                ...       ...  \n",
       "49532          0               0  39.00               0.85         1  \n",
       "49536          0               0  39.00               0.85         1  \n",
       "49539          0               0  34.01               0.35         1  \n",
       "434498         0               0  33.25               2.53         1  \n",
       "434652         0               0  40.25               1.38         1  \n",
       "\n",
       "[8344 rows x 52 columns]"
      ]
     },
     "execution_count": 62,
     "metadata": {},
     "output_type": "execute_result"
    }
   ],
   "source": [
    "good_applicants = application_results[application_results[\"STATUS_y\"] == 1]\n",
    "good_applicants"
   ]
  },
  {
   "cell_type": "code",
   "execution_count": 63,
   "id": "1bec5162",
   "metadata": {},
   "outputs": [
    {
     "name": "stdout",
     "output_type": "stream",
     "text": [
      "<class 'pandas.core.frame.DataFrame'>\n",
      "Int64Index: 8344 entries, 0 to 434652\n",
      "Data columns (total 52 columns):\n",
      " #   Column                                   Non-Null Count  Dtype  \n",
      "---  ------                                   --------------  -----  \n",
      " 0   CNT_CHILDREN                             8344 non-null   int64  \n",
      " 1   AMT_INCOME_TOTAL                         8344 non-null   float64\n",
      " 2   CNT_FAM_MEMBERS                          8344 non-null   float64\n",
      " 3   CODE_GENDER_F                            8344 non-null   uint8  \n",
      " 4   GENDER                                   8344 non-null   object \n",
      " 5   FLAG_OWN_CAR_N                           8344 non-null   uint8  \n",
      " 6   FLAG_OWN_CAR_Y                           8344 non-null   uint8  \n",
      " 7   FLAG_OWN_REALTY_N                        8344 non-null   uint8  \n",
      " 8   OWN_REALTY                               8344 non-null   object \n",
      " 9   CommAssociate                            8344 non-null   uint8  \n",
      " 10  Pensioner                                8344 non-null   uint8  \n",
      " 11  StateServant                             8344 non-null   uint8  \n",
      " 12  Student                                  8344 non-null   uint8  \n",
      " 13  Working                                  8344 non-null   uint8  \n",
      " 14  NAME_EDUCATION_TYPE_Academic degree      8344 non-null   uint8  \n",
      " 15  HigherEducation                          8344 non-null   uint8  \n",
      " 16  IncompleteHigher                         8344 non-null   uint8  \n",
      " 17  LowerSecondary                           8344 non-null   uint8  \n",
      " 18  SecondarySpecial                         8344 non-null   uint8  \n",
      " 19  NAME_FAMILY_STATUS_Civil marriage        8344 non-null   uint8  \n",
      " 20  NAME_FAMILY_STATUS_Married               8344 non-null   uint8  \n",
      " 21  NAME_FAMILY_STATUS_Separated             8344 non-null   uint8  \n",
      " 22  NAME_FAMILY_STATUS_Single / not married  8344 non-null   uint8  \n",
      " 23  NAME_FAMILY_STATUS_Widow                 8344 non-null   uint8  \n",
      " 24  NAME_HOUSING_TYPE_Co-op apartment        8344 non-null   uint8  \n",
      " 25  NAME_HOUSING_TYPE_House / apartment      8344 non-null   uint8  \n",
      " 26  NAME_HOUSING_TYPE_Municipal apartment    8344 non-null   uint8  \n",
      " 27  NAME_HOUSING_TYPE_Office apartment       8344 non-null   uint8  \n",
      " 28  NAME_HOUSING_TYPE_Rented apartment       8344 non-null   uint8  \n",
      " 29  NAME_HOUSING_TYPE_With parents           8344 non-null   uint8  \n",
      " 30  Accountants                              8344 non-null   uint8  \n",
      " 31  Cleaners                                 8344 non-null   uint8  \n",
      " 32  Cooks                                    8344 non-null   uint8  \n",
      " 33  Core                                     8344 non-null   uint8  \n",
      " 34  Drivers                                  8344 non-null   uint8  \n",
      " 35  HR                                       8344 non-null   uint8  \n",
      " 36  Tech                                     8344 non-null   uint8  \n",
      " 37  IT                                       8344 non-null   uint8  \n",
      " 38  Laborers                                 8344 non-null   uint8  \n",
      " 39  LSLaborers                               8344 non-null   uint8  \n",
      " 40  Managers                                 8344 non-null   uint8  \n",
      " 41  Medical                                  8344 non-null   uint8  \n",
      " 42  None                                     8344 non-null   uint8  \n",
      " 43  Pvt_Service                              8344 non-null   uint8  \n",
      " 44  Realtors                                 8344 non-null   uint8  \n",
      " 45  Sales                                    8344 non-null   uint8  \n",
      " 46  Secretaries                              8344 non-null   uint8  \n",
      " 47  Security                                 8344 non-null   uint8  \n",
      " 48  Waiters_Barmen                           8344 non-null   uint8  \n",
      " 49  AGE                                      8344 non-null   float64\n",
      " 50  EMPLOYMENT_PERIOD                        8344 non-null   float64\n",
      " 51  STATUS_y                                 8344 non-null   int64  \n",
      "dtypes: float64(4), int64(2), object(2), uint8(44)\n",
      "memory usage: 945.2+ KB\n"
     ]
    }
   ],
   "source": [
    "good_applicants.info()"
   ]
  },
  {
   "cell_type": "markdown",
   "id": "b68ceecd",
   "metadata": {},
   "source": [
    "### \"Good\" Applicants Gender Distribution"
   ]
  },
  {
   "cell_type": "code",
   "execution_count": 64,
   "id": "a5605db3",
   "metadata": {},
   "outputs": [
    {
     "data": {
      "text/plain": [
       "Female    5575\n",
       "Male      2769\n",
       "Name: GENDER, dtype: int64"
      ]
     },
     "execution_count": 64,
     "metadata": {},
     "output_type": "execute_result"
    }
   ],
   "source": [
    "good_applicants.rename(columns = {'CODE_GENDER_M':'GENDER'}, inplace = True)\n",
    "\n",
    "good_applicants[\"GENDER\"].replace({1:\"Male\", 0:\"Female\"} , inplace= True )\n",
    "good_applicants['GENDER'].value_counts()"
   ]
  },
  {
   "cell_type": "code",
   "execution_count": 65,
   "id": "7f2f1ef3",
   "metadata": {},
   "outputs": [
    {
     "data": {
      "image/png": "[encoded data removed]",
      "text/plain": [
       "<Figure size 1080x720 with 1 Axes>"
      ]
     },
     "metadata": {},
     "output_type": "display_data"
    }
   ],
   "source": [
    "plt.figure(figsize=(15,10))\n",
    "    \n",
    "plt.subplot(2, 2, 1)\n",
    "ggender_df = pd.DataFrame(good_applicants['GENDER'].value_counts())\n",
    "colors = [\"aqua\",\"lightsalmon\"]\n",
    "plt.title('Good Applicants Gender Distribution', fontsize = 15)\n",
    "plt.pie(ggender_df['GENDER'].values, labels = ggender_df.index.values, autopct='%1.2f%%', colors=colors, shadow=False, startangle=30)\n",
    "plt.axis('equal')    \n",
    "plt.savefig('GoodApplicantsGenderDistribution.png', dpi=100, bbox_inches='tight')\n",
    "plt.show()"
   ]
  },
  {
   "cell_type": "markdown",
   "id": "e1da260e",
   "metadata": {},
   "source": [
    "### \"Good\" Applicants Realty Ownership"
   ]
  },
  {
   "cell_type": "code",
   "execution_count": 66,
   "id": "abe36969",
   "metadata": {},
   "outputs": [
    {
     "data": {
      "text/plain": [
       "OWNERS        5679\n",
       "NON_OWNERS    2665\n",
       "Name: OWN_REALTY, dtype: int64"
      ]
     },
     "execution_count": 66,
     "metadata": {},
     "output_type": "execute_result"
    }
   ],
   "source": [
    "good_applicants.rename(columns = {'FLAG_OWN_REALTY_Y':'OWN_REALTY'}, inplace = True)\n",
    "\n",
    "good_applicants[\"OWN_REALTY\"].replace({1:\"OWNERS\", 0:\"NON_OWNERS\"} , inplace= True )\n",
    "good_applicants['OWN_REALTY'].value_counts()"
   ]
  },
  {
   "cell_type": "code",
   "execution_count": 67,
   "id": "ba70999c",
   "metadata": {},
   "outputs": [
    {
     "data": {
      "image/png": "[encoded data removed]",
      "text/plain": [
       "<Figure size 1080x720 with 1 Axes>"
      ]
     },
     "metadata": {},
     "output_type": "display_data"
    }
   ],
   "source": [
    "plt.figure(figsize=(15,10))\n",
    "    \n",
    "plt.subplot(2, 2, 1)\n",
    "realty_ownership = pd.DataFrame(good_applicants['OWN_REALTY'].value_counts())\n",
    "colors = [\"lightgreen\",\"bisque\"]\n",
    "plt.title('Good Applicants Realty Ownership', fontsize = 15)\n",
    "plt.pie(realty_ownership['OWN_REALTY'].values, labels = realty_ownership.index.values, autopct='%1.2f%%', colors=colors, shadow=False, startangle=30)\n",
    "plt.axis('equal')    \n",
    "plt.savefig('GoodApplicantsRealtyOwnership.png', dpi=100, bbox_inches='tight')\n",
    "plt.show()"
   ]
  },
  {
   "cell_type": "markdown",
   "id": "d51f4852",
   "metadata": {},
   "source": [
    "### \"Good Applicants\" Distribution of Income Type"
   ]
  },
  {
   "cell_type": "code",
   "execution_count": 68,
   "id": "005aed9b",
   "metadata": {},
   "outputs": [],
   "source": [
    "# Renaming Income Type and Education Type columns\n",
    "good_applicants.rename(columns = {'NAME_INCOME_TYPE_Commercial associate':'CommAssociate', 'NAME_INCOME_TYPE_Pensioner':'Pensioner', 'NAME_INCOME_TYPE_State servant':'StateServant','NAME_INCOME_TYPE_Student':'Student', 'NAME_INCOME_TYPE_Working':'Working', 'NAME_EDUCATION_TYPE_Higher education':'HigherEducation','NAME_EDUCATION_TYPE_Incomplete higher':'IncompleteHigher', 'NAME_EDUCATION_TYPE_Lower secondary':'LowerSecondary', 'NAME_EDUCATION_TYPE_Secondary / secondary special':'SecondarySpecial'}, inplace = True)\n"
   ]
  },
  {
   "cell_type": "code",
   "execution_count": 69,
   "id": "8a4975d8",
   "metadata": {},
   "outputs": [
    {
     "data": {
      "text/plain": [
       "(1941, 1410, 698, 1, 4294)"
      ]
     },
     "execution_count": 69,
     "metadata": {},
     "output_type": "execute_result"
    }
   ],
   "source": [
    "CA = good_applicants[good_applicants['CommAssociate']==1].count()['CommAssociate']\n",
    "P = good_applicants[good_applicants['Pensioner']==1].count()['Pensioner']\n",
    "SS = good_applicants[good_applicants['StateServant']==1].count()['StateServant']\n",
    "STU = good_applicants[good_applicants['Student']==1].count()['Student']\n",
    "W = good_applicants[good_applicants['Working']==1].count()['Working']\n",
    "CA, P, SS, STU, W"
   ]
  },
  {
   "cell_type": "code",
   "execution_count": 70,
   "id": "e66fb4ab",
   "metadata": {},
   "outputs": [
    {
     "data": {
      "image/png": "[encoded data removed]",
      "text/plain": [
       "<Figure size 720x360 with 1 Axes>"
      ]
     },
     "metadata": {
      "needs_background": "light"
     },
     "output_type": "display_data"
    }
   ],
   "source": [
    "x = np.array([\"Comm Assoc.\", \"Pensioner\", \"State Servant\", \"Student\", \"Working\"])\n",
    "y = np.array([CA,P,SS,STU,W])\n",
    "plt.rcParams[\"figure.figsize\"] = (10,5)\n",
    "colors = [\"plum\",\"lime\",\"dodgerblue\", \"red\", \"magenta\"]\n",
    "plt.title('Good Applicants Income Type', fontsize = 15)\n",
    "plt.xlabel(\"Classification\")\n",
    "plt.ylabel(\"Population Size\")\n",
    "\n",
    "plt.bar(x,y, width=0.5, color = colors)\n",
    "plt.savefig('GoodApplicantsIncomeType.png', dpi=100, bbox_inches='tight')\n",
    "plt.show()"
   ]
  },
  {
   "cell_type": "markdown",
   "id": "e52f456c",
   "metadata": {},
   "source": [
    "### \"Good Applicants\" Distribution of Occupation Type"
   ]
  },
  {
   "cell_type": "code",
   "execution_count": 71,
   "id": "c8d6484f",
   "metadata": {},
   "outputs": [],
   "source": [
    "# Renaming Income Type and Education Type columns\n",
    "good_applicants.rename(columns = {'OCCUPATION_TYPE_Accountants': 'Accountants',\n",
    "                                      'OCCUPATION_TYPE_Cleaning staff': 'Cleaners',\n",
    "                                      'OCCUPATION_TYPE_Cooking staff': 'Cooks',\n",
    "                                      'OCCUPATION_TYPE_Core staff': 'Core',\n",
    "                                      'OCCUPATION_TYPE_Drivers': 'Drivers',\n",
    "                                      'OCCUPATION_TYPE_HR staff': 'HR',\n",
    "                                      'OCCUPATION_TYPE_High skill tech staff': 'Tech',\n",
    "                                      'OCCUPATION_TYPE_IT staff': 'IT',\n",
    "                                      'OCCUPATION_TYPE_Laborers': 'Laborers',\n",
    "                                      'OCCUPATION_TYPE_Low-skill Laborers': 'LSLaborers',\n",
    "                                      'OCCUPATION_TYPE_Managers': 'Managers',\n",
    "                                      'OCCUPATION_TYPE_Medicine staff': 'Medical',\n",
    "                                      'OCCUPATION_TYPE_No Occupation Type': 'None',\n",
    "                                      'OCCUPATION_TYPE_Private service staff': 'Pvt_Service',\n",
    "                                      'OCCUPATION_TYPE_Realty agents': 'Realtors',\n",
    "                                      'OCCUPATION_TYPE_Sales staff': 'Sales',\n",
    "                                      'OCCUPATION_TYPE_Secretaries': 'Secretaries',\n",
    "                                      'OCCUPATION_TYPE_Security staff': 'Security',\n",
    "                                      'OCCUPATION_TYPE_Waiters/barmen staff': 'Waiters_Barmen' }, inplace = True) \n",
    "                                  "
   ]
  },
  {
   "cell_type": "code",
   "execution_count": 72,
   "id": "2cc3b281",
   "metadata": {},
   "outputs": [],
   "source": [
    "#Assign short names to columns\n",
    "ACC = good_applicants[good_applicants['Accountants']==1].count()['Accountants']\n",
    "CL = good_applicants[good_applicants['Cleaners']==1].count()['Cleaners']\n",
    "CK = good_applicants[good_applicants['Cooks']==1].count()['Cooks']\n",
    "CE = good_applicants[good_applicants['Core']==1].count()['Core']\n",
    "DRV = good_applicants[good_applicants['Drivers']==1].count()['Drivers']\n",
    "HR = good_applicants[good_applicants['HR']==1].count()['HR']\n",
    "TC = good_applicants[good_applicants['Tech']==1].count()['Tech']\n",
    "IT = good_applicants[good_applicants['IT']==1].count()['IT']\n",
    "LBR = good_applicants[good_applicants['Laborers']==1].count()['Laborers']\n",
    "LSL = good_applicants[good_applicants['LSLaborers']==1].count()['LSLaborers']\n",
    "MGR = good_applicants[good_applicants['Managers']==1].count()['Managers']\n",
    "MED = good_applicants[good_applicants['Medical']==1].count()['Medical']\n",
    "PS = good_applicants[good_applicants['Pvt_Service']==1].count()['Pvt_Service']\n",
    "R = good_applicants[good_applicants['Realtors']==1].count()['Realtors']\n",
    "S = good_applicants[good_applicants['Sales']==1].count()['Sales']\n",
    "SEC = good_applicants[good_applicants['Secretaries']==1].count()['Secretaries']\n",
    "SY = good_applicants[good_applicants['Security']==1].count()['Security']\n",
    "WB = good_applicants[good_applicants['Waiters_Barmen']==1].count()['Waiters_Barmen']\n",
    "N = good_applicants[good_applicants['None']==1].count()['None']\n"
   ]
  },
  {
   "cell_type": "code",
   "execution_count": 73,
   "id": "1196dab1",
   "metadata": {},
   "outputs": [],
   "source": [
    "#Creating a DataFrame for Occupation Type\n",
    "x = ['Accountants', 'Cleaners', 'Cooks', 'Core', 'Drivers','HR','Tech','IT','Laborers','LSLaborers', 'Managers', 'Medical', 'Pvt_Service', 'Realtors','Sales','Secretaries','Security','Waiters/Barmen','None']\n",
    "y = [ACC, CL, CK, CE, DRV, HR, TC, IT, LBR, LSL, MGR, MED, PS, R, S, SEC, SY, WB, N]\n",
    "goccupation = pd.DataFrame(list(zip(x, y)))\n",
    "goccupation.sort_values(by=[1], inplace=True)"
   ]
  },
  {
   "cell_type": "code",
   "execution_count": 74,
   "id": "e9b9e062",
   "metadata": {},
   "outputs": [
    {
     "data": {
      "image/png": "[encoded data removed]",
      "text/plain": [
       "<Figure size 576x360 with 1 Axes>"
      ]
     },
     "metadata": {
      "needs_background": "light"
     },
     "output_type": "display_data"
    }
   ],
   "source": [
    "# Graph of Occupation type\n",
    "colors = [\"Cyan\"]\n",
    "goccupation.plot.bar(x=0,y=1, title=\"Good Applicants Occupation\", legend=None, figsize=(8,5), color = colors)\n",
    "plt.xlabel(\"Occupation\")\n",
    "plt.ylabel(\"Number of Applicants\")\n",
    "plt.savefig('GoodApplicantsOccupation.png', dpi=100, bbox_inches='tight')\n",
    "plt.show(block=True)   "
   ]
  },
  {
   "cell_type": "code",
   "execution_count": 75,
   "id": "51453460",
   "metadata": {},
   "outputs": [
    {
     "data": {
      "text/plain": [
       "0    6403\n",
       "1    1941\n",
       "Name: CommAssociate, dtype: int64"
      ]
     },
     "execution_count": 75,
     "metadata": {},
     "output_type": "execute_result"
    }
   ],
   "source": [
    "GA_CommAssociate = good_applicants.CommAssociate.value_counts()\n",
    "GA_CommAssociate"
   ]
  },
  {
   "cell_type": "code",
   "execution_count": 76,
   "id": "7d0cc73e",
   "metadata": {},
   "outputs": [
    {
     "data": {
      "text/plain": [
       "0    6934\n",
       "1    1410\n",
       "Name: Pensioner, dtype: int64"
      ]
     },
     "execution_count": 76,
     "metadata": {},
     "output_type": "execute_result"
    }
   ],
   "source": [
    "GA_Pensioner = good_applicants.Pensioner.value_counts()\n",
    "GA_Pensioner"
   ]
  },
  {
   "cell_type": "code",
   "execution_count": 77,
   "id": "38dce185",
   "metadata": {},
   "outputs": [
    {
     "data": {
      "text/plain": [
       "0    8343\n",
       "1       1\n",
       "Name: Student, dtype: int64"
      ]
     },
     "execution_count": 77,
     "metadata": {},
     "output_type": "execute_result"
    }
   ],
   "source": [
    "GA_Student = good_applicants.Student.value_counts()\n",
    "GA_Student"
   ]
  },
  {
   "cell_type": "code",
   "execution_count": 78,
   "id": "7c78aab6",
   "metadata": {},
   "outputs": [
    {
     "data": {
      "text/plain": [
       "0    7646\n",
       "1     698\n",
       "Name: StateServant, dtype: int64"
      ]
     },
     "execution_count": 78,
     "metadata": {},
     "output_type": "execute_result"
    }
   ],
   "source": [
    "GA_StateServant = good_applicants.StateServant.value_counts()\n",
    "GA_StateServant"
   ]
  },
  {
   "cell_type": "code",
   "execution_count": 79,
   "id": "229e3ed7",
   "metadata": {},
   "outputs": [
    {
     "data": {
      "text/plain": [
       "1    4294\n",
       "0    4050\n",
       "Name: Working, dtype: int64"
      ]
     },
     "execution_count": 79,
     "metadata": {},
     "output_type": "execute_result"
    }
   ],
   "source": [
    "GA_Working = good_applicants.Working.value_counts()\n",
    "GA_Working"
   ]
  },
  {
   "cell_type": "markdown",
   "id": "6a0eb371",
   "metadata": {},
   "source": [
    "x = np.array([\"Comm Assoc.\", \"Pensioner\", \"State Servant\", \"Student\", \"Working\"])\n",
    "y = np.array([GA_CommAssociate, GA_Pensioner, GA_StateServant, GA_Student, GA_Working])\n",
    "\n",
    "plt.rcParams[\"figure.figsize\"] = (10,5)\n",
    "colors = [\"Red\",\"Aqua\",\"Yellow\", \"Green\", \"Salmon\"]\n",
    "plt.title('Applicants Income Type', fontsize = 15)\n",
    "plt.xlabel(\"Classification\")\n",
    "plt.ylabel(\"Population Size\")\n",
    "\n",
    "plt.bar(x,y, width=0.5, color = colors)\n",
    "plt.show()"
   ]
  },
  {
   "cell_type": "markdown",
   "id": "e28f6668",
   "metadata": {},
   "source": [
    "## Machine Learning Models"
   ]
  },
  {
   "cell_type": "markdown",
   "id": "ed5471c3",
   "metadata": {},
   "source": [
    "### Split the Data into Training and Testing"
   ]
  },
  {
   "cell_type": "code",
   "execution_count": 80,
   "id": "298309ea",
   "metadata": {},
   "outputs": [],
   "source": [
    "# Create the features\n",
    "X = credit_application_df.drop(columns= \"STATUS_y\")\n",
    "                               \n",
    "# Create the target\n",
    "y = pd.DataFrame(credit_application_df[\"STATUS_y\"])    "
   ]
  },
  {
   "cell_type": "code",
   "execution_count": 81,
   "id": "acefee16",
   "metadata": {},
   "outputs": [
    {
     "data": {
      "text/plain": [
       "Counter({'STATUS_y': 1})"
      ]
     },
     "execution_count": 81,
     "metadata": {},
     "output_type": "execute_result"
    }
   ],
   "source": [
    "X_train, X_test, y_train, y_test = train_test_split(X, y, random_state=1)\n",
    "\n",
    "Counter(y_train)"
   ]
  },
  {
   "cell_type": "code",
   "execution_count": 82,
   "id": "d97e33f2",
   "metadata": {},
   "outputs": [
    {
     "name": "stdout",
     "output_type": "stream",
     "text": [
      "(27342, 51)\n",
      "(9115, 51)\n",
      "(27342, 1)\n",
      "(9115, 1)\n"
     ]
    }
   ],
   "source": [
    "# Determine the shape of our training and testing sets.\n",
    "print(X_train.shape)\n",
    "print(X_test.shape)\n",
    "print(y_train.shape)\n",
    "print(y_test.shape)"
   ]
  },
  {
   "cell_type": "markdown",
   "id": "8a13a765",
   "metadata": {},
   "source": [
    "## Scale the data"
   ]
  },
  {
   "cell_type": "code",
   "execution_count": 83,
   "id": "23b298dd",
   "metadata": {},
   "outputs": [],
   "source": [
    "# Creating a StandardScaler instance.\n",
    "scaler = StandardScaler()\n",
    "# Fitting the Standard Scaler with the training data.\n",
    "X_scaler = scaler.fit(X_train)\n",
    "\n",
    "# Scaling the data.\n",
    "X_train_scaled = X_scaler.transform(X_train)\n",
    "X_test_scaled = X_scaler.transform(X_test)"
   ]
  },
  {
   "cell_type": "markdown",
   "id": "e6ff4e80",
   "metadata": {},
   "source": [
    "### Class Imbalance\n",
    "\n",
    "#### The existing classes in the dataset are not equally represented. This is referred to as Class Imbalance and can cause the machine learning models to be biased toward the majority class. In this case, the machine learning models will be better at predicting applicants who have been denied a CCard. Hence, to counter this problem, Oversampling, Undersampling and Combination sampling techniques will be used.¶"
   ]
  },
  {
   "cell_type": "markdown",
   "id": "6472d4d5",
   "metadata": {},
   "source": [
    "## Random Oversampling"
   ]
  },
  {
   "cell_type": "code",
   "execution_count": 84,
   "id": "bacd1909",
   "metadata": {},
   "outputs": [
    {
     "data": {
      "text/plain": [
       "Counter({'STATUS_y': 1})"
      ]
     },
     "execution_count": 84,
     "metadata": {},
     "output_type": "execute_result"
    }
   ],
   "source": [
    "# Resample the training data with the RandomOversampler\n",
    "from imblearn.over_sampling import RandomOverSampler\n",
    "\n",
    "ros = RandomOverSampler()\n",
    "X_resampled, y_resampled = ros.fit_resample(X_train_scaled, y_train)\n",
    "\n",
    "Counter(y_resampled)"
   ]
  },
  {
   "cell_type": "markdown",
   "id": "08bbe76d",
   "metadata": {},
   "source": [
    "### Logistic Regression"
   ]
  },
  {
   "cell_type": "code",
   "execution_count": 85,
   "id": "4da9f124",
   "metadata": {},
   "outputs": [
    {
     "data": {
      "text/plain": [
       "LogisticRegression(random_state=1)"
      ]
     },
     "execution_count": 85,
     "metadata": {},
     "output_type": "execute_result"
    }
   ],
   "source": [
    "# Train the Logistic Regression model using the resampled data\n",
    "log_model = LogisticRegression(solver='lbfgs', random_state=1)\n",
    "log_model.fit(X_resampled, y_resampled)"
   ]
  },
  {
   "cell_type": "code",
   "execution_count": 86,
   "id": "92185e3b",
   "metadata": {},
   "outputs": [],
   "source": [
    "# Calculate the balanced accuracy score\n",
    "predictions = log_model.predict(X_test_scaled)\n",
    "acc_score = accuracy_score(y_test, predictions)"
   ]
  },
  {
   "cell_type": "code",
   "execution_count": 87,
   "id": "7fb102e2",
   "metadata": {},
   "outputs": [],
   "source": [
    "# Display the confusion matrix\n",
    "# Calculate the confusion matrix\n",
    "cmlr = confusion_matrix(y_test, predictions)\n",
    "\n",
    "# Create a DataFrame from the confusion matrix.\n",
    "cmlr_df = pd.DataFrame(\n",
    "    cmlr, index=[\"Actual 0\", \"Actual 1\"], columns=[\"Predicted 0\", \"Predicted 1\"])"
   ]
  },
  {
   "cell_type": "code",
   "execution_count": 88,
   "id": "6b8172b6",
   "metadata": {},
   "outputs": [
    {
     "name": "stdout",
     "output_type": "stream",
     "text": [
      "Confusion Matrix\n"
     ]
    },
    {
     "data": {
      "text/html": [
       "<div>\n",
       "<style scoped>\n",
       "    .dataframe tbody tr th:only-of-type {\n",
       "        vertical-align: middle;\n",
       "    }\n",
       "\n",
       "    .dataframe tbody tr th {\n",
       "        vertical-align: top;\n",
       "    }\n",
       "\n",
       "    .dataframe thead th {\n",
       "        text-align: right;\n",
       "    }\n",
       "</style>\n",
       "<table border=\"1\" class=\"dataframe\">\n",
       "  <thead>\n",
       "    <tr style=\"text-align: right;\">\n",
       "      <th></th>\n",
       "      <th>Predicted 0</th>\n",
       "      <th>Predicted 1</th>\n",
       "    </tr>\n",
       "  </thead>\n",
       "  <tbody>\n",
       "    <tr>\n",
       "      <th>Actual 0</th>\n",
       "      <td>3749</td>\n",
       "      <td>3330</td>\n",
       "    </tr>\n",
       "    <tr>\n",
       "      <th>Actual 1</th>\n",
       "      <td>1030</td>\n",
       "      <td>1006</td>\n",
       "    </tr>\n",
       "  </tbody>\n",
       "</table>\n",
       "</div>"
      ],
      "text/plain": [
       "          Predicted 0  Predicted 1\n",
       "Actual 0         3749         3330\n",
       "Actual 1         1030         1006"
      ]
     },
     "metadata": {},
     "output_type": "display_data"
    },
    {
     "name": "stdout",
     "output_type": "stream",
     "text": [
      "Accuracy Score : 0.521667580910587\n",
      "Classification Report\n",
      "              precision    recall  f1-score   support\n",
      "\n",
      "           0       0.78      0.53      0.63      7079\n",
      "           1       0.23      0.49      0.32      2036\n",
      "\n",
      "    accuracy                           0.52      9115\n",
      "   macro avg       0.51      0.51      0.47      9115\n",
      "weighted avg       0.66      0.52      0.56      9115\n",
      "\n"
     ]
    }
   ],
   "source": [
    "# Display the results\n",
    "print(\"Confusion Matrix\")\n",
    "display(cmlr_df)\n",
    "print(f\"Accuracy Score : {acc_score}\")\n",
    "print(\"Classification Report\")\n",
    "print(classification_report(y_test, predictions))"
   ]
  },
  {
   "cell_type": "code",
   "execution_count": 89,
   "id": "3b7b915e",
   "metadata": {
    "scrolled": true
   },
   "outputs": [
    {
     "data": {
      "text/plain": [
       "<AxesSubplot:>"
      ]
     },
     "execution_count": 89,
     "metadata": {},
     "output_type": "execute_result"
    },
    {
     "data": {
      "image/png": "[encoded data removed]",
      "text/plain": [
       "<Figure size 720x360 with 2 Axes>"
      ]
     },
     "metadata": {
      "needs_background": "light"
     },
     "output_type": "display_data"
    }
   ],
   "source": [
    "labels = ['True Neg','False Pos','False Neg','True Pos']\n",
    "labels = np.asarray(labels).reshape(2,2)\n",
    "sns.heatmap(cmlr, annot=labels, fmt='', cmap='Greens')"
   ]
  },
  {
   "cell_type": "code",
   "execution_count": 90,
   "id": "b6ef5fba",
   "metadata": {},
   "outputs": [
    {
     "data": {
      "text/plain": [
       "<AxesSubplot:>"
      ]
     },
     "execution_count": 90,
     "metadata": {},
     "output_type": "execute_result"
    },
    {
     "data": {
      "image/png": "[encoded data removed]",
      "text/plain": [
       "<Figure size 720x360 with 2 Axes>"
      ]
     },
     "metadata": {
      "needs_background": "light"
     },
     "output_type": "display_data"
    }
   ],
   "source": [
    "sns.heatmap(cmlr/np.sum(cmlr), annot=True, \n",
    "            fmt='.2%', cmap='Blues')"
   ]
  },
  {
   "cell_type": "code",
   "execution_count": 91,
   "id": "ae4a7e3d",
   "metadata": {},
   "outputs": [
    {
     "data": {
      "text/plain": [
       "<AxesSubplot:>"
      ]
     },
     "execution_count": 91,
     "metadata": {},
     "output_type": "execute_result"
    },
    {
     "data": {
      "image/png": "[encoded data removed]",
      "text/plain": [
       "<Figure size 720x360 with 2 Axes>"
      ]
     },
     "metadata": {
      "needs_background": "light"
     },
     "output_type": "display_data"
    }
   ],
   "source": [
    "sns.heatmap(cmlr, annot=True, fmt=\".0f\", cmap=\"mako_r\")"
   ]
  },
  {
   "cell_type": "code",
   "execution_count": 92,
   "id": "3f280cca",
   "metadata": {},
   "outputs": [
    {
     "data": {
      "image/png": "[encoded data removed]",
      "text/plain": [
       "<Figure size 720x360 with 2 Axes>"
      ]
     },
     "metadata": {
      "needs_background": "light"
     },
     "output_type": "display_data"
    }
   ],
   "source": [
    "group_names = ['True Neg','False Pos','False Neg','True Pos']\n",
    "group_counts = [\"{0:0.0f}\".format(value) for value in cmlr.flatten()]\n",
    "group_percentages = [\"{0:.2%}\".format(value) for value in cmlr.flatten()/np.sum(cmlr)]\n",
    "labels = [f\"{v1}\\n{v2}\\n{v3}\" for v1, v2, v3 in zip(group_names,group_counts,group_percentages)]\n",
    "labels = np.asarray(labels).reshape(2,2)\n",
    "sns.heatmap(cmlr, annot=labels, fmt='', cmap='Accent')\n",
    "\n",
    "plt.title(f\"{'Random Oversampling Logistic Regression'}\\n{'Confusion Matrix'}\", fontsize = 15)\n",
    "plt.xlabel('Prediction', fontsize = 15)\n",
    "plt.ylabel('Actual', fontsize = 15)\n",
    "plt.savefig('RdmOverSLogRegCM.png', dpi=100, bbox_inches='tight')\n",
    "plt.show()"
   ]
  },
  {
   "cell_type": "markdown",
   "id": "dee287fe",
   "metadata": {},
   "source": [
    "### Decision Tree"
   ]
  },
  {
   "cell_type": "code",
   "execution_count": 93,
   "id": "b8e8b1d1",
   "metadata": {},
   "outputs": [
    {
     "data": {
      "text/plain": [
       "DecisionTreeClassifier()"
      ]
     },
     "execution_count": 93,
     "metadata": {},
     "output_type": "execute_result"
    }
   ],
   "source": [
    "# Create the decision tree classifier instance.\n",
    "tree_model = tree.DecisionTreeClassifier()\n",
    "# Fit the model.\n",
    "tree_model.fit(X_resampled, y_resampled)"
   ]
  },
  {
   "cell_type": "code",
   "execution_count": 94,
   "id": "b22cc423",
   "metadata": {},
   "outputs": [],
   "source": [
    "predictions = tree_model.predict(X_test_scaled)\n",
    "acc_score = accuracy_score(y_test, predictions)"
   ]
  },
  {
   "cell_type": "code",
   "execution_count": 95,
   "id": "e050a9e6",
   "metadata": {},
   "outputs": [],
   "source": [
    "# Display the confusion matrix\n",
    "# Calculate the confusion matrix\n",
    "cmdt = confusion_matrix(y_test, predictions)\n",
    "\n",
    "# Create a DataFrame from the confusion matrix.\n",
    "cmdt_df = pd.DataFrame(\n",
    "    cmdt, index=[\"Actual 0\", \"Actual 1\"], columns=[\"Predicted 0\", \"Predicted 1\"])"
   ]
  },
  {
   "cell_type": "code",
   "execution_count": 96,
   "id": "e8a72901",
   "metadata": {},
   "outputs": [
    {
     "name": "stdout",
     "output_type": "stream",
     "text": [
      "Confusion Matrix\n"
     ]
    },
    {
     "data": {
      "text/html": [
       "<div>\n",
       "<style scoped>\n",
       "    .dataframe tbody tr th:only-of-type {\n",
       "        vertical-align: middle;\n",
       "    }\n",
       "\n",
       "    .dataframe tbody tr th {\n",
       "        vertical-align: top;\n",
       "    }\n",
       "\n",
       "    .dataframe thead th {\n",
       "        text-align: right;\n",
       "    }\n",
       "</style>\n",
       "<table border=\"1\" class=\"dataframe\">\n",
       "  <thead>\n",
       "    <tr style=\"text-align: right;\">\n",
       "      <th></th>\n",
       "      <th>Predicted 0</th>\n",
       "      <th>Predicted 1</th>\n",
       "    </tr>\n",
       "  </thead>\n",
       "  <tbody>\n",
       "    <tr>\n",
       "      <th>Actual 0</th>\n",
       "      <td>5292</td>\n",
       "      <td>1787</td>\n",
       "    </tr>\n",
       "    <tr>\n",
       "      <th>Actual 1</th>\n",
       "      <td>764</td>\n",
       "      <td>1272</td>\n",
       "    </tr>\n",
       "  </tbody>\n",
       "</table>\n",
       "</div>"
      ],
      "text/plain": [
       "          Predicted 0  Predicted 1\n",
       "Actual 0         5292         1787\n",
       "Actual 1          764         1272"
      ]
     },
     "metadata": {},
     "output_type": "display_data"
    },
    {
     "name": "stdout",
     "output_type": "stream",
     "text": [
      "Accuracy Score : 0.72013165112452\n",
      "Classification Report\n",
      "              precision    recall  f1-score   support\n",
      "\n",
      "           0       0.87      0.75      0.81      7079\n",
      "           1       0.42      0.62      0.50      2036\n",
      "\n",
      "    accuracy                           0.72      9115\n",
      "   macro avg       0.64      0.69      0.65      9115\n",
      "weighted avg       0.77      0.72      0.74      9115\n",
      "\n"
     ]
    }
   ],
   "source": [
    "# Display the results\n",
    "print(\"Confusion Matrix\")\n",
    "display(cmdt_df)\n",
    "print(f\"Accuracy Score : {acc_score}\")\n",
    "print(\"Classification Report\")\n",
    "print(classification_report(y_test, predictions))"
   ]
  },
  {
   "cell_type": "code",
   "execution_count": 97,
   "id": "fbd8e131",
   "metadata": {},
   "outputs": [
    {
     "data": {
      "image/png": "[encoded data removed]",
      "text/plain": [
       "<Figure size 720x360 with 2 Axes>"
      ]
     },
     "metadata": {
      "needs_background": "light"
     },
     "output_type": "display_data"
    }
   ],
   "source": [
    "group_names = ['True Neg','False Pos','False Neg','True Pos']\n",
    "group_counts = [\"{0:0.0f}\".format(value) for value in cmdt.flatten()]\n",
    "group_percentages = [\"{0:.2%}\".format(value) for value in cmdt.flatten()/np.sum(cmdt)]\n",
    "labels = [f\"{v1}\\n{v2}\\n{v3}\" for v1, v2, v3 in zip(group_names,group_counts,group_percentages)]\n",
    "labels = np.asarray(labels).reshape(2,2)\n",
    "sns.heatmap(cmdt, annot=labels, fmt='', cmap='OrRd')\n",
    "\n",
    "plt.title(f\"{'Random Oversampling Decision Tree'}\\n{'Confusion Matrix'}\", fontsize = 15)\n",
    "plt.xlabel('Prediction', fontsize = 15)\n",
    "plt.ylabel('Actual', fontsize = 15)\n",
    "plt.savefig('RdmOverSDecTCM.png', dpi=100, bbox_inches='tight')\n",
    "plt.show()"
   ]
  },
  {
   "cell_type": "markdown",
   "id": "b3d25d3a",
   "metadata": {},
   "source": [
    "### Random Forest"
   ]
  },
  {
   "cell_type": "code",
   "execution_count": 98,
   "id": "c8dc00a0",
   "metadata": {},
   "outputs": [],
   "source": [
    "# Create a random forest classifier.\n",
    "rf_model = RandomForestClassifier(n_estimators=128)"
   ]
  },
  {
   "cell_type": "code",
   "execution_count": 99,
   "id": "5f4ba933",
   "metadata": {},
   "outputs": [],
   "source": [
    "# Fit the model\n",
    "rf_model = rf_model.fit(X_resampled, y_resampled)"
   ]
  },
  {
   "cell_type": "code",
   "execution_count": 100,
   "id": "e8b2fe3f",
   "metadata": {},
   "outputs": [],
   "source": [
    "# Make predictions using the testing data.\n",
    "predictions = rf_model.predict(X_test_scaled)"
   ]
  },
  {
   "cell_type": "code",
   "execution_count": 101,
   "id": "3690a7b5",
   "metadata": {},
   "outputs": [
    {
     "data": {
      "text/html": [
       "<div>\n",
       "<style scoped>\n",
       "    .dataframe tbody tr th:only-of-type {\n",
       "        vertical-align: middle;\n",
       "    }\n",
       "\n",
       "    .dataframe tbody tr th {\n",
       "        vertical-align: top;\n",
       "    }\n",
       "\n",
       "    .dataframe thead th {\n",
       "        text-align: right;\n",
       "    }\n",
       "</style>\n",
       "<table border=\"1\" class=\"dataframe\">\n",
       "  <thead>\n",
       "    <tr style=\"text-align: right;\">\n",
       "      <th></th>\n",
       "      <th>Predicted 0</th>\n",
       "      <th>Predicted 1</th>\n",
       "    </tr>\n",
       "  </thead>\n",
       "  <tbody>\n",
       "    <tr>\n",
       "      <th>Actual 0</th>\n",
       "      <td>5380</td>\n",
       "      <td>1699</td>\n",
       "    </tr>\n",
       "    <tr>\n",
       "      <th>Actual 1</th>\n",
       "      <td>778</td>\n",
       "      <td>1258</td>\n",
       "    </tr>\n",
       "  </tbody>\n",
       "</table>\n",
       "</div>"
      ],
      "text/plain": [
       "          Predicted 0  Predicted 1\n",
       "Actual 0         5380         1699\n",
       "Actual 1          778         1258"
      ]
     },
     "execution_count": 101,
     "metadata": {},
     "output_type": "execute_result"
    }
   ],
   "source": [
    "# Calculate the confusion matrix.\n",
    "cmrf = confusion_matrix(y_test, predictions)\n",
    "\n",
    "# Create a DataFrame from the confusion matrix.\n",
    "cmrf_df = pd.DataFrame(\n",
    "    cmrf, index=[\"Actual 0\", \"Actual 1\"], columns=[\"Predicted 0\", \"Predicted 1\"])\n",
    "\n",
    "cmrf_df"
   ]
  },
  {
   "cell_type": "code",
   "execution_count": 102,
   "id": "6bb5b0f0",
   "metadata": {},
   "outputs": [],
   "source": [
    "# Calculate the accuracy score.\n",
    "acc_score = accuracy_score(y_test, predictions)"
   ]
  },
  {
   "cell_type": "code",
   "execution_count": 103,
   "id": "da2e5f15",
   "metadata": {},
   "outputs": [
    {
     "name": "stdout",
     "output_type": "stream",
     "text": [
      "Confusion Matrix\n"
     ]
    },
    {
     "data": {
      "text/html": [
       "<div>\n",
       "<style scoped>\n",
       "    .dataframe tbody tr th:only-of-type {\n",
       "        vertical-align: middle;\n",
       "    }\n",
       "\n",
       "    .dataframe tbody tr th {\n",
       "        vertical-align: top;\n",
       "    }\n",
       "\n",
       "    .dataframe thead th {\n",
       "        text-align: right;\n",
       "    }\n",
       "</style>\n",
       "<table border=\"1\" class=\"dataframe\">\n",
       "  <thead>\n",
       "    <tr style=\"text-align: right;\">\n",
       "      <th></th>\n",
       "      <th>Predicted 0</th>\n",
       "      <th>Predicted 1</th>\n",
       "    </tr>\n",
       "  </thead>\n",
       "  <tbody>\n",
       "    <tr>\n",
       "      <th>Actual 0</th>\n",
       "      <td>5380</td>\n",
       "      <td>1699</td>\n",
       "    </tr>\n",
       "    <tr>\n",
       "      <th>Actual 1</th>\n",
       "      <td>778</td>\n",
       "      <td>1258</td>\n",
       "    </tr>\n",
       "  </tbody>\n",
       "</table>\n",
       "</div>"
      ],
      "text/plain": [
       "          Predicted 0  Predicted 1\n",
       "Actual 0         5380         1699\n",
       "Actual 1          778         1258"
      ]
     },
     "metadata": {},
     "output_type": "display_data"
    },
    {
     "name": "stdout",
     "output_type": "stream",
     "text": [
      "Accuracy Score : 0.728250137136588\n",
      "Classification Report\n",
      "              precision    recall  f1-score   support\n",
      "\n",
      "           0       0.87      0.76      0.81      7079\n",
      "           1       0.43      0.62      0.50      2036\n",
      "\n",
      "    accuracy                           0.73      9115\n",
      "   macro avg       0.65      0.69      0.66      9115\n",
      "weighted avg       0.77      0.73      0.74      9115\n",
      "\n"
     ]
    }
   ],
   "source": [
    "# Display the results\n",
    "print(\"Confusion Matrix\")\n",
    "display(cmrf_df)\n",
    "print(f\"Accuracy Score : {acc_score}\")\n",
    "print(\"Classification Report\")\n",
    "print(classification_report(y_test, predictions))"
   ]
  },
  {
   "cell_type": "code",
   "execution_count": 104,
   "id": "f87de0a8",
   "metadata": {},
   "outputs": [
    {
     "data": {
      "image/png": "[encoded data removed]",
      "text/plain": [
       "<Figure size 720x360 with 2 Axes>"
      ]
     },
     "metadata": {
      "needs_background": "light"
     },
     "output_type": "display_data"
    }
   ],
   "source": [
    "group_names = ['True Neg','False Pos','False Neg','True Pos']\n",
    "group_counts = [\"{0:0.0f}\".format(value) for value in cmrf.flatten()]\n",
    "group_percentages = [\"{0:.2%}\".format(value) for value in cmrf.flatten()/np.sum(cmrf)]\n",
    "labels = [f\"{v1}\\n{v2}\\n{v3}\" for v1, v2, v3 in zip(group_names,group_counts,group_percentages)]\n",
    "labels = np.asarray(labels).reshape(2,2)\n",
    "sns.heatmap(cmrf, annot=labels, fmt='', cmap='Blues')\n",
    "\n",
    "plt.title(f\"{'Random Oversampling Random Forest'}\\n{'Confusion Matrix'}\", fontsize = 15)\n",
    "plt.xlabel('Prediction', fontsize = 15)\n",
    "plt.ylabel('Actual', fontsize = 15)\n",
    "plt.savefig('RdmOverSRdmForCM.png', dpi=100, bbox_inches='tight')\n",
    "plt.show()"
   ]
  },
  {
   "cell_type": "code",
   "execution_count": 105,
   "id": "c9755c6b",
   "metadata": {},
   "outputs": [
    {
     "data": {
      "text/plain": [
       "[(0.25071133280807767, 'AGE'),\n",
       " (0.16552356246532915, 'AMT_INCOME_TOTAL'),\n",
       " (0.1615637160629143, 'EMPLOYMENT_PERIOD'),\n",
       " (0.03331524182783816, 'CNT_FAM_MEMBERS'),\n",
       " (0.026393406548598546, 'CNT_CHILDREN'),\n",
       " (0.01794492101006187, 'NAME_INCOME_TYPE_Working'),\n",
       " (0.017500965662474607, 'FLAG_OWN_REALTY_N'),\n",
       " (0.017236029357582713, 'FLAG_OWN_REALTY_Y'),\n",
       " (0.016179110146473212, 'NAME_INCOME_TYPE_Commercial associate'),\n",
       " (0.01555418652560261, 'NAME_EDUCATION_TYPE_Secondary / secondary special'),\n",
       " (0.01539510711422993, 'FLAG_OWN_CAR_Y'),\n",
       " (0.0151810835690258, 'FLAG_OWN_CAR_N'),\n",
       " (0.015130317421824397, 'NAME_EDUCATION_TYPE_Higher education'),\n",
       " (0.014613856438233477, 'CODE_GENDER_M'),\n",
       " (0.014332520415190694, 'CODE_GENDER_F'),\n",
       " (0.014167901099918659, 'OCCUPATION_TYPE_No Occupation Type'),\n",
       " (0.01404584943815235, 'OCCUPATION_TYPE_Laborers'),\n",
       " (0.013095272162847855, 'NAME_FAMILY_STATUS_Married'),\n",
       " (0.011905539283096686, 'OCCUPATION_TYPE_Core staff'),\n",
       " (0.010763362806353809, 'OCCUPATION_TYPE_Sales staff'),\n",
       " (0.01062890655643683, 'NAME_FAMILY_STATUS_Single / not married'),\n",
       " (0.010519554989724414, 'OCCUPATION_TYPE_Managers'),\n",
       " (0.009616056054181032, 'NAME_FAMILY_STATUS_Civil marriage'),\n",
       " (0.009496301790715273, 'NAME_INCOME_TYPE_State servant'),\n",
       " (0.00887162647737853, 'NAME_HOUSING_TYPE_House / apartment'),\n",
       " (0.007698038514366162, 'NAME_FAMILY_STATUS_Separated'),\n",
       " (0.0073499351188981606, 'OCCUPATION_TYPE_High skill tech staff'),\n",
       " (0.007198721354683206, 'OCCUPATION_TYPE_Drivers'),\n",
       " (0.006425649907260314, 'NAME_EDUCATION_TYPE_Incomplete higher'),\n",
       " (0.005671177686322205, 'OCCUPATION_TYPE_Accountants'),\n",
       " (0.005544735008541797, 'NAME_HOUSING_TYPE_With parents'),\n",
       " (0.005093820561798567, 'NAME_HOUSING_TYPE_Municipal apartment'),\n",
       " (0.004785135879094801, 'NAME_FAMILY_STATUS_Widow'),\n",
       " (0.004678472466430858, 'OCCUPATION_TYPE_Cooking staff'),\n",
       " (0.004497511991595861, 'OCCUPATION_TYPE_Medicine staff'),\n",
       " (0.003911141787928985, 'OCCUPATION_TYPE_Security staff'),\n",
       " (0.003300298685649955, 'NAME_INCOME_TYPE_Pensioner'),\n",
       " (0.0031915086056194357, 'OCCUPATION_TYPE_Cleaning staff'),\n",
       " (0.0031341596216777506, 'OCCUPATION_TYPE_Private service staff'),\n",
       " (0.0028044255457614505, 'NAME_HOUSING_TYPE_Rented apartment'),\n",
       " (0.0023788065373445974, 'NAME_EDUCATION_TYPE_Lower secondary'),\n",
       " (0.00229405455003134, 'NAME_HOUSING_TYPE_Co-op apartment'),\n",
       " (0.0021570872819325054, 'OCCUPATION_TYPE_Waiters/barmen staff'),\n",
       " (0.001816775063046087, 'NAME_HOUSING_TYPE_Office apartment'),\n",
       " (0.0015984026849833407, 'OCCUPATION_TYPE_Low-skill Laborers'),\n",
       " (0.0014027272882708999, 'OCCUPATION_TYPE_Secretaries'),\n",
       " (0.001123648985820512, 'OCCUPATION_TYPE_Realty agents'),\n",
       " (0.0008583416551050926, 'OCCUPATION_TYPE_HR staff'),\n",
       " (0.0007092233831826584, 'OCCUPATION_TYPE_IT staff'),\n",
       " (0.000623123269386165, 'NAME_EDUCATION_TYPE_Academic degree'),\n",
       " (6.734853300477708e-05, 'NAME_INCOME_TYPE_Student')]"
      ]
     },
     "execution_count": 105,
     "metadata": {},
     "output_type": "execute_result"
    }
   ],
   "source": [
    "# Sort the features by their importance.\n",
    "sorted(zip(rf_model.feature_importances_, X.columns), reverse=True)"
   ]
  },
  {
   "cell_type": "code",
   "execution_count": 106,
   "id": "6198370a",
   "metadata": {},
   "outputs": [
    {
     "data": {
      "image/png": "[encoded data removed]",
      "text/plain": [
       "<Figure size 864x720 with 1 Axes>"
      ]
     },
     "metadata": {
      "needs_background": "light"
     },
     "output_type": "display_data"
    },
    {
     "data": {
      "text/plain": [
       "<Figure size 21600x7200 with 0 Axes>"
      ]
     },
     "metadata": {},
     "output_type": "display_data"
    }
   ],
   "source": [
    "# Plotting features by importance\n",
    "features = credit_application_df.columns\n",
    "importances = rf_model.feature_importances_\n",
    "indices = np.argsort(importances)\n",
    "\n",
    "plt.figure(figsize=(12,10))\n",
    "plt.title('Feature Importances')\n",
    "plt.barh(range(len(indices)), importances[indices], color='tomato', align='center')\n",
    "plt.yticks(range(len(indices)), [features[i] for i in indices])\n",
    "plt.xlabel('Relative Importance')\n",
    "plt.show()\n",
    "plt.figure(figsize=(300,100)) \n",
    "plt.savefig('ROSRFFeatures.jpg', bbox_inches='tight') ##not saing figure blank\n",
    "\n"
   ]
  },
  {
   "cell_type": "markdown",
   "id": "053881f4",
   "metadata": {},
   "source": [
    "### Gradient Boosted Tree"
   ]
  },
  {
   "cell_type": "code",
   "execution_count": 107,
   "id": "87d63389",
   "metadata": {},
   "outputs": [
    {
     "name": "stdout",
     "output_type": "stream",
     "text": [
      "Learning rate:  0.05\n",
      "Accuracy score (training): 0.535\n",
      "Accuracy score (validation): 0.528\n",
      "Learning rate:  0.1\n",
      "Accuracy score (training): 0.531\n",
      "Accuracy score (validation): 0.518\n",
      "Learning rate:  0.25\n",
      "Accuracy score (training): 0.543\n",
      "Accuracy score (validation): 0.524\n",
      "Learning rate:  0.5\n",
      "Accuracy score (training): 0.546\n",
      "Accuracy score (validation): 0.532\n",
      "Learning rate:  0.75\n",
      "Accuracy score (training): 0.555\n",
      "Accuracy score (validation): 0.530\n",
      "Learning rate:  1\n",
      "Accuracy score (training): 0.578\n",
      "Accuracy score (validation): 0.544\n"
     ]
    }
   ],
   "source": [
    "learning_rates = [0.05, 0.1, 0.25, 0.5, 0.75, 1]\n",
    "for learning_rate in learning_rates:\n",
    "   classifier = GradientBoostingClassifier(n_estimators=20,\n",
    "   learning_rate=learning_rate,\n",
    "   max_features=5,\n",
    "   max_depth=3,\n",
    "   random_state=0)\n",
    "   classifier.fit(X_resampled, y_resampled)\n",
    "   print(\"Learning rate: \", learning_rate)\n",
    "   print(\"Accuracy score (training): {0:.3f}\".format(\n",
    "       classifier.score(\n",
    "           X_train_scaled,\n",
    "           y_train)))\n",
    "   print(\"Accuracy score (validation): {0:.3f}\".format(\n",
    "       classifier.score(\n",
    "           X_test_scaled,\n",
    "           y_test)))"
   ]
  },
  {
   "cell_type": "code",
   "execution_count": 108,
   "id": "9e338958",
   "metadata": {},
   "outputs": [],
   "source": [
    "GB_classifier = GradientBoostingClassifier(n_estimators=20,\n",
    "   learning_rate=1, max_features=5, max_depth=3, random_state=0)\n",
    "\n",
    "GB_classifier.fit(X_resampled, y_resampled)\n",
    "predictions = GB_classifier.predict(X_test_scaled)"
   ]
  },
  {
   "cell_type": "code",
   "execution_count": 109,
   "id": "55863ab7",
   "metadata": {},
   "outputs": [],
   "source": [
    "cmgb = confusion_matrix(y_test, predictions)\n",
    "cmgb_df = pd.DataFrame(\n",
    "   cmgb, index=[\"Actual 0\", \"Actual 1\"],\n",
    "   columns=[\"Predicted 0\", \"Predicted 1\"]\n",
    ")\n",
    "acc_score = accuracy_score(y_test, predictions)"
   ]
  },
  {
   "cell_type": "code",
   "execution_count": 110,
   "id": "01e391fd",
   "metadata": {},
   "outputs": [
    {
     "name": "stdout",
     "output_type": "stream",
     "text": [
      "Confusion Matrix\n"
     ]
    },
    {
     "data": {
      "text/html": [
       "<div>\n",
       "<style scoped>\n",
       "    .dataframe tbody tr th:only-of-type {\n",
       "        vertical-align: middle;\n",
       "    }\n",
       "\n",
       "    .dataframe tbody tr th {\n",
       "        vertical-align: top;\n",
       "    }\n",
       "\n",
       "    .dataframe thead th {\n",
       "        text-align: right;\n",
       "    }\n",
       "</style>\n",
       "<table border=\"1\" class=\"dataframe\">\n",
       "  <thead>\n",
       "    <tr style=\"text-align: right;\">\n",
       "      <th></th>\n",
       "      <th>Predicted 0</th>\n",
       "      <th>Predicted 1</th>\n",
       "    </tr>\n",
       "  </thead>\n",
       "  <tbody>\n",
       "    <tr>\n",
       "      <th>Actual 0</th>\n",
       "      <td>3945</td>\n",
       "      <td>3134</td>\n",
       "    </tr>\n",
       "    <tr>\n",
       "      <th>Actual 1</th>\n",
       "      <td>1026</td>\n",
       "      <td>1010</td>\n",
       "    </tr>\n",
       "  </tbody>\n",
       "</table>\n",
       "</div>"
      ],
      "text/plain": [
       "          Predicted 0  Predicted 1\n",
       "Actual 0         3945         3134\n",
       "Actual 1         1026         1010"
      ]
     },
     "metadata": {},
     "output_type": "display_data"
    },
    {
     "name": "stdout",
     "output_type": "stream",
     "text": [
      "Accuracy Score : 0.5436094349972572\n",
      "Classification Report\n",
      "              precision    recall  f1-score   support\n",
      "\n",
      "           0       0.79      0.56      0.65      7079\n",
      "           1       0.24      0.50      0.33      2036\n",
      "\n",
      "    accuracy                           0.54      9115\n",
      "   macro avg       0.52      0.53      0.49      9115\n",
      "weighted avg       0.67      0.54      0.58      9115\n",
      "\n"
     ]
    }
   ],
   "source": [
    "# Display results\n",
    "print(\"Confusion Matrix\")\n",
    "display(cmgb_df)\n",
    "print(f\"Accuracy Score : {acc_score}\")\n",
    "print(\"Classification Report\")\n",
    "print(classification_report(y_test, predictions))"
   ]
  },
  {
   "cell_type": "code",
   "execution_count": 111,
   "id": "cad45165",
   "metadata": {},
   "outputs": [
    {
     "data": {
      "image/png": "[encoded data removed]",
      "text/plain": [
       "<Figure size 720x360 with 2 Axes>"
      ]
     },
     "metadata": {
      "needs_background": "light"
     },
     "output_type": "display_data"
    }
   ],
   "source": [
    "group_names = ['True Neg','False Pos','False Neg','True Pos']\n",
    "group_counts = [\"{0:0.0f}\".format(value) for value in cmgb.flatten()]\n",
    "group_percentages = [\"{0:.2%}\".format(value) for value in cmgb.flatten()/np.sum(cmgb)]\n",
    "labels = [f\"{v1}\\n{v2}\\n{v3}\" for v1, v2, v3 in zip(group_names,group_counts,group_percentages)]\n",
    "labels = np.asarray(labels).reshape(2,2)\n",
    "sns.heatmap(cmgb, annot=labels, fmt='', cmap='Greens_r')\n",
    "\n",
    "plt.title(f\"{'Random Oversampling Gradient Boosted Tree'}\\n{'Confusion Matrix'}\", fontsize = 15)\n",
    "plt.xlabel('Prediction', fontsize = 15)\n",
    "plt.ylabel('Actual', fontsize = 15)\n",
    "plt.savefig('ROSGBTCM.png', dpi=100, bbox_inches='tight')\n",
    "plt.show()"
   ]
  },
  {
   "cell_type": "markdown",
   "id": "3ac4a707",
   "metadata": {},
   "source": [
    "## SMOTE OVERSAMPLING"
   ]
  },
  {
   "cell_type": "code",
   "execution_count": 112,
   "id": "b5b76c12",
   "metadata": {},
   "outputs": [
    {
     "data": {
      "text/plain": [
       "Counter({'STATUS_y': 1})"
      ]
     },
     "execution_count": 112,
     "metadata": {},
     "output_type": "execute_result"
    }
   ],
   "source": [
    "# Resample the training data with SMOTE\n",
    "from imblearn.over_sampling import SMOTE\n",
    "\n",
    "X_resampled, y_resampled = SMOTE(random_state=1, sampling_strategy='auto').fit_resample(X_train_scaled, y_train)\n",
    "Counter(y_resampled)"
   ]
  },
  {
   "cell_type": "markdown",
   "id": "480e4c34",
   "metadata": {},
   "source": [
    "### Logistic Regression"
   ]
  },
  {
   "cell_type": "code",
   "execution_count": 113,
   "id": "75218950",
   "metadata": {},
   "outputs": [
    {
     "data": {
      "text/plain": [
       "LogisticRegression(random_state=1)"
      ]
     },
     "execution_count": 113,
     "metadata": {},
     "output_type": "execute_result"
    }
   ],
   "source": [
    "# Train the Logistic Regression model using the resampled data\n",
    "log_model = LogisticRegression(solver='lbfgs', random_state=1)\n",
    "log_model.fit(X_resampled, y_resampled)"
   ]
  },
  {
   "cell_type": "code",
   "execution_count": 114,
   "id": "092546d1",
   "metadata": {},
   "outputs": [],
   "source": [
    "# Calculate the balanced accuracy score\n",
    "predictions = log_model.predict(X_test_scaled)\n",
    "acc_score = accuracy_score(y_test, predictions)"
   ]
  },
  {
   "cell_type": "code",
   "execution_count": 115,
   "id": "c4cc639f",
   "metadata": {},
   "outputs": [],
   "source": [
    "# Display the confusion matrix\n",
    "# Calculate the confusion matrix\n",
    "cmso = confusion_matrix(y_test, predictions)\n",
    "\n",
    "# Create a DataFrame from the confusion matrix.\n",
    "cmso_df = pd.DataFrame(\n",
    "    cmso, index=[\"Actual 0\", \"Actual 1\"], columns=[\"Predicted 0\", \"Predicted 1\"])"
   ]
  },
  {
   "cell_type": "code",
   "execution_count": 116,
   "id": "82ee2e54",
   "metadata": {},
   "outputs": [
    {
     "name": "stdout",
     "output_type": "stream",
     "text": [
      "Confusion Matrix\n"
     ]
    },
    {
     "data": {
      "text/html": [
       "<div>\n",
       "<style scoped>\n",
       "    .dataframe tbody tr th:only-of-type {\n",
       "        vertical-align: middle;\n",
       "    }\n",
       "\n",
       "    .dataframe tbody tr th {\n",
       "        vertical-align: top;\n",
       "    }\n",
       "\n",
       "    .dataframe thead th {\n",
       "        text-align: right;\n",
       "    }\n",
       "</style>\n",
       "<table border=\"1\" class=\"dataframe\">\n",
       "  <thead>\n",
       "    <tr style=\"text-align: right;\">\n",
       "      <th></th>\n",
       "      <th>Predicted 0</th>\n",
       "      <th>Predicted 1</th>\n",
       "    </tr>\n",
       "  </thead>\n",
       "  <tbody>\n",
       "    <tr>\n",
       "      <th>Actual 0</th>\n",
       "      <td>3673</td>\n",
       "      <td>3406</td>\n",
       "    </tr>\n",
       "    <tr>\n",
       "      <th>Actual 1</th>\n",
       "      <td>1006</td>\n",
       "      <td>1030</td>\n",
       "    </tr>\n",
       "  </tbody>\n",
       "</table>\n",
       "</div>"
      ],
      "text/plain": [
       "          Predicted 0  Predicted 1\n",
       "Actual 0         3673         3406\n",
       "Actual 1         1006         1030"
      ]
     },
     "metadata": {},
     "output_type": "display_data"
    },
    {
     "name": "stdout",
     "output_type": "stream",
     "text": [
      "Accuracy Score : 0.5159626988480527\n",
      "Classification Report\n",
      "              precision    recall  f1-score   support\n",
      "\n",
      "           0       0.78      0.52      0.62      7079\n",
      "           1       0.23      0.51      0.32      2036\n",
      "\n",
      "    accuracy                           0.52      9115\n",
      "   macro avg       0.51      0.51      0.47      9115\n",
      "weighted avg       0.66      0.52      0.56      9115\n",
      "\n"
     ]
    }
   ],
   "source": [
    "# Display results\n",
    "print(\"Confusion Matrix\")\n",
    "display(cmso_df)\n",
    "print(f\"Accuracy Score : {acc_score}\")\n",
    "print(\"Classification Report\")\n",
    "print(classification_report(y_test, predictions))"
   ]
  },
  {
   "cell_type": "code",
   "execution_count": 117,
   "id": "9bddb17c",
   "metadata": {},
   "outputs": [
    {
     "data": {
      "image/png": "[encoded data removed]",
      "text/plain": [
       "<Figure size 720x360 with 2 Axes>"
      ]
     },
     "metadata": {
      "needs_background": "light"
     },
     "output_type": "display_data"
    }
   ],
   "source": [
    "group_names = ['True Neg','False Pos','False Neg','True Pos']\n",
    "group_counts = [\"{0:0.0f}\".format(value) for value in cmso.flatten()]\n",
    "group_percentages = [\"{0:.2%}\".format(value) for value in cmso.flatten()/np.sum(cmso)]\n",
    "labels = [f\"{v1}\\n{v2}\\n{v3}\" for v1, v2, v3 in zip(group_names,group_counts,group_percentages)]\n",
    "labels = np.asarray(labels).reshape(2,2)\n",
    "sns.heatmap(cmso, annot=labels, fmt='', cmap='icefire')\n",
    "\n",
    "plt.title(f\"{'SMOTE Oversampling Logistic Regression'}\\n{'Confusion Matrix'}\", fontsize = 15)\n",
    "plt.xlabel('Prediction', fontsize = 15)\n",
    "plt.ylabel('Actual', fontsize = 15)\n",
    "plt.savefig('SOSLRCM.png', dpi=100, bbox_inches='tight')\n",
    "plt.show()"
   ]
  },
  {
   "cell_type": "markdown",
   "id": "c9455f59",
   "metadata": {},
   "source": [
    "### Decision Tree"
   ]
  },
  {
   "cell_type": "code",
   "execution_count": 118,
   "id": "c77c62f0",
   "metadata": {},
   "outputs": [
    {
     "data": {
      "text/plain": [
       "DecisionTreeClassifier()"
      ]
     },
     "execution_count": 118,
     "metadata": {},
     "output_type": "execute_result"
    }
   ],
   "source": [
    "# Create the decision tree classifier instance.\n",
    "tree_model = tree.DecisionTreeClassifier()\n",
    "# Fit the model.\n",
    "tree_model.fit(X_resampled, y_resampled)"
   ]
  },
  {
   "cell_type": "code",
   "execution_count": 119,
   "id": "942713e3",
   "metadata": {},
   "outputs": [],
   "source": [
    "predictions = tree_model.predict(X_test_scaled)\n",
    "acc_score = accuracy_score(y_test, predictions)"
   ]
  },
  {
   "cell_type": "code",
   "execution_count": 120,
   "id": "f2f4688a",
   "metadata": {},
   "outputs": [
    {
     "name": "stdout",
     "output_type": "stream",
     "text": [
      "Confusion Matrix\n"
     ]
    },
    {
     "data": {
      "text/html": [
       "<div>\n",
       "<style scoped>\n",
       "    .dataframe tbody tr th:only-of-type {\n",
       "        vertical-align: middle;\n",
       "    }\n",
       "\n",
       "    .dataframe tbody tr th {\n",
       "        vertical-align: top;\n",
       "    }\n",
       "\n",
       "    .dataframe thead th {\n",
       "        text-align: right;\n",
       "    }\n",
       "</style>\n",
       "<table border=\"1\" class=\"dataframe\">\n",
       "  <thead>\n",
       "    <tr style=\"text-align: right;\">\n",
       "      <th></th>\n",
       "      <th>Predicted 0</th>\n",
       "      <th>Predicted 1</th>\n",
       "    </tr>\n",
       "  </thead>\n",
       "  <tbody>\n",
       "    <tr>\n",
       "      <th>Actual 0</th>\n",
       "      <td>5919</td>\n",
       "      <td>1160</td>\n",
       "    </tr>\n",
       "    <tr>\n",
       "      <th>Actual 1</th>\n",
       "      <td>994</td>\n",
       "      <td>1042</td>\n",
       "    </tr>\n",
       "  </tbody>\n",
       "</table>\n",
       "</div>"
      ],
      "text/plain": [
       "          Predicted 0  Predicted 1\n",
       "Actual 0         5919         1160\n",
       "Actual 1          994         1042"
      ]
     },
     "metadata": {},
     "output_type": "display_data"
    },
    {
     "name": "stdout",
     "output_type": "stream",
     "text": [
      "Accuracy Score : 0.7636862314865606\n",
      "Classification Report\n",
      "              precision    recall  f1-score   support\n",
      "\n",
      "           0       0.86      0.84      0.85      7079\n",
      "           1       0.47      0.51      0.49      2036\n",
      "\n",
      "    accuracy                           0.76      9115\n",
      "   macro avg       0.66      0.67      0.67      9115\n",
      "weighted avg       0.77      0.76      0.77      9115\n",
      "\n"
     ]
    }
   ],
   "source": [
    "# Display the confusion matrix\n",
    "# Calculate the confusion matrix\n",
    "cmsodt = confusion_matrix(y_test, predictions)\n",
    "\n",
    "# Create a DataFrame from the confusion matrix.\n",
    "cmsodt_df = pd.DataFrame(\n",
    "    cmsodt, index=[\"Actual 0\", \"Actual 1\"], columns=[\"Predicted 0\", \"Predicted 1\"])\n",
    "# Display the results\n",
    "print(\"Confusion Matrix\")\n",
    "display(cmsodt_df)\n",
    "print(f\"Accuracy Score : {acc_score}\")\n",
    "print(\"Classification Report\")\n",
    "print(classification_report(y_test, predictions))"
   ]
  },
  {
   "cell_type": "code",
   "execution_count": 121,
   "id": "4075e111",
   "metadata": {},
   "outputs": [
    {
     "data": {
      "image/png": "[encoded data removed]",
      "text/plain": [
       "<Figure size 720x360 with 2 Axes>"
      ]
     },
     "metadata": {
      "needs_background": "light"
     },
     "output_type": "display_data"
    }
   ],
   "source": [
    "group_names = ['True Neg','False Pos','False Neg','True Pos']\n",
    "group_counts = [\"{0:0.0f}\".format(value) for value in cmsodt.flatten()]\n",
    "group_percentages = [\"{0:.2%}\".format(value) for value in cmsodt.flatten()/np.sum(cmsodt)]\n",
    "labels = [f\"{v1}\\n{v2}\\n{v3}\" for v1, v2, v3 in zip(group_names,group_counts,group_percentages)]\n",
    "labels = np.asarray(labels).reshape(2,2)\n",
    "sns.heatmap(cmsodt, annot=labels, fmt='', cmap='Wistia')\n",
    "\n",
    "plt.title(f\"{'SMOTE Oversampling Decision Tree'}\\n{'Confusion Matrix'}\", fontsize = 15)\n",
    "plt.xlabel('Prediction', fontsize = 15)\n",
    "plt.ylabel('Actual', fontsize = 15)\n",
    "plt.savefig('SOSDTCM.png', dpi=100, bbox_inches='tight')\n",
    "plt.show()"
   ]
  },
  {
   "cell_type": "markdown",
   "id": "2c349c08",
   "metadata": {},
   "source": [
    "### Random Forest"
   ]
  },
  {
   "cell_type": "code",
   "execution_count": 122,
   "id": "b0183dbc",
   "metadata": {},
   "outputs": [],
   "source": [
    "# Create a random forest classifier.\n",
    "rf_model = RandomForestClassifier(n_estimators=128)"
   ]
  },
  {
   "cell_type": "code",
   "execution_count": 123,
   "id": "39b63a5e",
   "metadata": {},
   "outputs": [],
   "source": [
    "# Fit the model\n",
    "rf_model = rf_model.fit(X_resampled, y_resampled)\n",
    "# Make predictions using the test data.\n",
    "predictions = rf_model.predict(X_test_scaled)"
   ]
  },
  {
   "cell_type": "code",
   "execution_count": 124,
   "id": "0727b6e8",
   "metadata": {},
   "outputs": [],
   "source": [
    "# Calculate the confusion matrix.\n",
    "cmsorf = confusion_matrix(y_test, predictions)\n",
    "\n",
    "# Create a DataFrame from the confusion matrix.\n",
    "cmsorf_df = pd.DataFrame(\n",
    "    cmsorf, index=[\"Actual 0\", \"Actual 1\"], columns=[\"Predicted 0\", \"Predicted 1\"])\n",
    "\n",
    "# Calculate the accuracy score.\n",
    "acc_score = accuracy_score(y_test, predictions)"
   ]
  },
  {
   "cell_type": "code",
   "execution_count": 125,
   "id": "e182e6b8",
   "metadata": {},
   "outputs": [
    {
     "name": "stdout",
     "output_type": "stream",
     "text": [
      "Confusion Matrix\n"
     ]
    },
    {
     "data": {
      "text/html": [
       "<div>\n",
       "<style scoped>\n",
       "    .dataframe tbody tr th:only-of-type {\n",
       "        vertical-align: middle;\n",
       "    }\n",
       "\n",
       "    .dataframe tbody tr th {\n",
       "        vertical-align: top;\n",
       "    }\n",
       "\n",
       "    .dataframe thead th {\n",
       "        text-align: right;\n",
       "    }\n",
       "</style>\n",
       "<table border=\"1\" class=\"dataframe\">\n",
       "  <thead>\n",
       "    <tr style=\"text-align: right;\">\n",
       "      <th></th>\n",
       "      <th>Predicted 0</th>\n",
       "      <th>Predicted 1</th>\n",
       "    </tr>\n",
       "  </thead>\n",
       "  <tbody>\n",
       "    <tr>\n",
       "      <th>Actual 0</th>\n",
       "      <td>5974</td>\n",
       "      <td>1105</td>\n",
       "    </tr>\n",
       "    <tr>\n",
       "      <th>Actual 1</th>\n",
       "      <td>980</td>\n",
       "      <td>1056</td>\n",
       "    </tr>\n",
       "  </tbody>\n",
       "</table>\n",
       "</div>"
      ],
      "text/plain": [
       "          Predicted 0  Predicted 1\n",
       "Actual 0         5974         1105\n",
       "Actual 1          980         1056"
      ]
     },
     "metadata": {},
     "output_type": "display_data"
    },
    {
     "name": "stdout",
     "output_type": "stream",
     "text": [
      "Accuracy Score : 0.7712561711464618\n",
      "Classification Report\n",
      "              precision    recall  f1-score   support\n",
      "\n",
      "           0       0.86      0.84      0.85      7079\n",
      "           1       0.49      0.52      0.50      2036\n",
      "\n",
      "    accuracy                           0.77      9115\n",
      "   macro avg       0.67      0.68      0.68      9115\n",
      "weighted avg       0.78      0.77      0.77      9115\n",
      "\n"
     ]
    }
   ],
   "source": [
    "# Display the results\n",
    "print(\"Confusion Matrix\")\n",
    "display(cmsorf_df)\n",
    "print(f\"Accuracy Score : {acc_score}\")\n",
    "print(\"Classification Report\")\n",
    "print(classification_report(y_test, predictions))"
   ]
  },
  {
   "cell_type": "code",
   "execution_count": 126,
   "id": "d0eafa7b",
   "metadata": {},
   "outputs": [
    {
     "data": {
      "image/png": "[encoded data removed]",
      "text/plain": [
       "<Figure size 720x360 with 2 Axes>"
      ]
     },
     "metadata": {
      "needs_background": "light"
     },
     "output_type": "display_data"
    }
   ],
   "source": [
    "group_names = ['True Neg','False Pos','False Neg','True Pos']\n",
    "group_counts = [\"{0:0.0f}\".format(value) for value in cmsorf.flatten()]\n",
    "group_percentages = [\"{0:.2%}\".format(value) for value in cmsorf.flatten()/np.sum(cmsorf)]\n",
    "labels = [f\"{v1}\\n{v2}\\n{v3}\" for v1, v2, v3 in zip(group_names,group_counts,group_percentages)]\n",
    "labels = np.asarray(labels).reshape(2,2)\n",
    "sns.heatmap(cmsorf, annot=labels, fmt='', cmap='tab10')\n",
    "\n",
    "plt.title(f\"{'SMOTE Oversampling Random Forest'}\\n{'Confusion Matrix'}\", fontsize = 15)\n",
    "plt.xlabel('Prediction', fontsize = 15)\n",
    "plt.ylabel('Actual', fontsize = 15)\n",
    "plt.savefig('SOSRFCM.png', dpi=100, bbox_inches='tight')\n",
    "plt.show()"
   ]
  },
  {
   "cell_type": "code",
   "execution_count": 127,
   "id": "b260224f",
   "metadata": {},
   "outputs": [
    {
     "data": {
      "text/plain": [
       "[(0.23234937052676324, 'AGE'),\n",
       " (0.18460122269787393, 'AMT_INCOME_TOTAL'),\n",
       " (0.14560609829077367, 'EMPLOYMENT_PERIOD'),\n",
       " (0.03891330113824927, 'CNT_FAM_MEMBERS'),\n",
       " (0.03558505933180919, 'CNT_CHILDREN'),\n",
       " (0.017931739649185537, 'NAME_INCOME_TYPE_Working'),\n",
       " (0.017189991690309124, 'NAME_EDUCATION_TYPE_Secondary / secondary special'),\n",
       " (0.01702978469178712, 'FLAG_OWN_CAR_N'),\n",
       " (0.01683031033109742, 'NAME_INCOME_TYPE_Commercial associate'),\n",
       " (0.016221182012304054, 'FLAG_OWN_CAR_Y'),\n",
       " (0.016078137224241222, 'FLAG_OWN_REALTY_N'),\n",
       " (0.015714988496114614, 'NAME_EDUCATION_TYPE_Higher education'),\n",
       " (0.015590903007815736, 'FLAG_OWN_REALTY_Y'),\n",
       " (0.01531360807729431, 'CODE_GENDER_F'),\n",
       " (0.015166654741100623, 'OCCUPATION_TYPE_No Occupation Type'),\n",
       " (0.014928947676128875, 'CODE_GENDER_M'),\n",
       " (0.014392874237332159, 'NAME_FAMILY_STATUS_Married'),\n",
       " (0.01375699537659572, 'OCCUPATION_TYPE_Laborers'),\n",
       " (0.011765147888847437, 'OCCUPATION_TYPE_Sales staff'),\n",
       " (0.011425222596058241, 'OCCUPATION_TYPE_Core staff'),\n",
       " (0.010059537574540998, 'OCCUPATION_TYPE_Managers'),\n",
       " (0.009621434378799972, 'NAME_FAMILY_STATUS_Civil marriage'),\n",
       " (0.00961615435517781, 'NAME_FAMILY_STATUS_Single / not married'),\n",
       " (0.009377013195319797, 'NAME_HOUSING_TYPE_House / apartment'),\n",
       " (0.009267343079838591, 'NAME_INCOME_TYPE_State servant'),\n",
       " (0.007231049057778807, 'OCCUPATION_TYPE_Drivers'),\n",
       " (0.007225167782926502, 'OCCUPATION_TYPE_High skill tech staff'),\n",
       " (0.00703883584774015, 'NAME_FAMILY_STATUS_Separated'),\n",
       " (0.006104119890236301, 'OCCUPATION_TYPE_Accountants'),\n",
       " (0.005721699430543103, 'NAME_EDUCATION_TYPE_Incomplete higher'),\n",
       " (0.0054764924090634475, 'NAME_HOUSING_TYPE_With parents'),\n",
       " (0.005116328777839329, 'OCCUPATION_TYPE_Medicine staff'),\n",
       " (0.00493793452356697, 'NAME_HOUSING_TYPE_Municipal apartment'),\n",
       " (0.0044606346575070165, 'NAME_FAMILY_STATUS_Widow'),\n",
       " (0.004107938863253087, 'OCCUPATION_TYPE_Cooking staff'),\n",
       " (0.0033532974470207796, 'OCCUPATION_TYPE_Security staff'),\n",
       " (0.003023010325301793, 'NAME_INCOME_TYPE_Pensioner'),\n",
       " (0.0029979735797875306, 'NAME_HOUSING_TYPE_Rented apartment'),\n",
       " (0.002979396736156316, 'OCCUPATION_TYPE_Private service staff'),\n",
       " (0.0027091791352684635, 'OCCUPATION_TYPE_Cleaning staff'),\n",
       " (0.0023023808010028315, 'NAME_HOUSING_TYPE_Co-op apartment'),\n",
       " (0.002100788703202677, 'NAME_EDUCATION_TYPE_Lower secondary'),\n",
       " (0.0019248060002456267, 'OCCUPATION_TYPE_Waiters/barmen staff'),\n",
       " (0.001668385852316149, 'OCCUPATION_TYPE_Low-skill Laborers'),\n",
       " (0.001468091281080065, 'NAME_HOUSING_TYPE_Office apartment'),\n",
       " (0.0012328420998413347, 'OCCUPATION_TYPE_Secretaries'),\n",
       " (0.000814223439240023, 'OCCUPATION_TYPE_Realty agents'),\n",
       " (0.0006898027714251492, 'OCCUPATION_TYPE_HR staff'),\n",
       " (0.0004932905231953745, 'OCCUPATION_TYPE_IT staff'),\n",
       " (0.00042235475671080545, 'NAME_EDUCATION_TYPE_Academic degree'),\n",
       " (6.695304239171005e-05, 'NAME_INCOME_TYPE_Student')]"
      ]
     },
     "execution_count": 127,
     "metadata": {},
     "output_type": "execute_result"
    }
   ],
   "source": [
    "# Sort the features by their importance.\n",
    "sorted(zip(rf_model.feature_importances_, X.columns), reverse=True)"
   ]
  },
  {
   "cell_type": "code",
   "execution_count": 128,
   "id": "b8767a10",
   "metadata": {},
   "outputs": [
    {
     "data": {
      "image/png": "[encoded data removed]",
      "text/plain": [
       "<Figure size 864x720 with 1 Axes>"
      ]
     },
     "metadata": {
      "needs_background": "light"
     },
     "output_type": "display_data"
    },
    {
     "data": {
      "text/plain": [
       "<Figure size 21600x7200 with 0 Axes>"
      ]
     },
     "metadata": {},
     "output_type": "display_data"
    }
   ],
   "source": [
    "# Plotting features by importance\n",
    "features = credit_application_df.columns\n",
    "importances = rf_model.feature_importances_\n",
    "indices = np.argsort(importances)\n",
    "\n",
    "plt.figure(figsize=(12,10))\n",
    "plt.title('Feature Importances')\n",
    "plt.barh(range(len(indices)), importances[indices], color='aqua', align='center')\n",
    "plt.yticks(range(len(indices)), [features[i] for i in indices])\n",
    "plt.xlabel('Relative Importance')\n",
    "plt.show()\n",
    "plt.figure(figsize=(300,100))\n",
    "plt.savefig('SOSRFFeatures.jpg', bbox_inches='tight') ##not saing figure blank"
   ]
  },
  {
   "cell_type": "markdown",
   "id": "cde90418",
   "metadata": {},
   "source": [
    "### Gradient Boosted Tree"
   ]
  },
  {
   "cell_type": "code",
   "execution_count": 129,
   "id": "f7685726",
   "metadata": {},
   "outputs": [
    {
     "name": "stdout",
     "output_type": "stream",
     "text": [
      "Learning rate:  0.05\n",
      "Accuracy score (training): 0.580\n",
      "Accuracy score (validation): 0.560\n",
      "Learning rate:  0.1\n",
      "Accuracy score (training): 0.618\n",
      "Accuracy score (validation): 0.607\n",
      "Learning rate:  0.25\n",
      "Accuracy score (training): 0.611\n",
      "Accuracy score (validation): 0.594\n",
      "Learning rate:  0.5\n",
      "Accuracy score (training): 0.649\n",
      "Accuracy score (validation): 0.638\n",
      "Learning rate:  0.75\n",
      "Accuracy score (training): 0.596\n",
      "Accuracy score (validation): 0.577\n",
      "Learning rate:  1\n",
      "Accuracy score (training): 0.644\n",
      "Accuracy score (validation): 0.625\n"
     ]
    }
   ],
   "source": [
    "learning_rates = [0.05, 0.1, 0.25, 0.5, 0.75, 1]\n",
    "for learning_rate in learning_rates:\n",
    "   classifier = GradientBoostingClassifier(n_estimators=20,\n",
    "   learning_rate=learning_rate,\n",
    "   max_features=5,\n",
    "   max_depth=3,\n",
    "   random_state=0)\n",
    "   classifier.fit(X_resampled, y_resampled)\n",
    "   print(\"Learning rate: \", learning_rate)\n",
    "   print(\"Accuracy score (training): {0:.3f}\".format(\n",
    "       classifier.score(\n",
    "           X_train_scaled,\n",
    "           y_train)))\n",
    "   print(\"Accuracy score (validation): {0:.3f}\".format(\n",
    "       classifier.score(\n",
    "           X_test_scaled,\n",
    "           y_test)))"
   ]
  },
  {
   "cell_type": "code",
   "execution_count": 130,
   "id": "3c402f31",
   "metadata": {},
   "outputs": [],
   "source": [
    "GB_classifier = GradientBoostingClassifier(n_estimators=20,\n",
    "   learning_rate=0.75, max_features=5, max_depth=3, random_state=0)\n",
    "\n",
    "GB_classifier.fit(X_resampled, y_resampled)\n",
    "predictions = GB_classifier.predict(X_test_scaled)"
   ]
  },
  {
   "cell_type": "code",
   "execution_count": 131,
   "id": "7d7dac59",
   "metadata": {},
   "outputs": [
    {
     "name": "stdout",
     "output_type": "stream",
     "text": [
      "Confusion Matrix\n"
     ]
    },
    {
     "data": {
      "text/html": [
       "<div>\n",
       "<style scoped>\n",
       "    .dataframe tbody tr th:only-of-type {\n",
       "        vertical-align: middle;\n",
       "    }\n",
       "\n",
       "    .dataframe tbody tr th {\n",
       "        vertical-align: top;\n",
       "    }\n",
       "\n",
       "    .dataframe thead th {\n",
       "        text-align: right;\n",
       "    }\n",
       "</style>\n",
       "<table border=\"1\" class=\"dataframe\">\n",
       "  <thead>\n",
       "    <tr style=\"text-align: right;\">\n",
       "      <th></th>\n",
       "      <th>Predicted 0</th>\n",
       "      <th>Predicted 1</th>\n",
       "    </tr>\n",
       "  </thead>\n",
       "  <tbody>\n",
       "    <tr>\n",
       "      <th>Actual 0</th>\n",
       "      <td>4380</td>\n",
       "      <td>2699</td>\n",
       "    </tr>\n",
       "    <tr>\n",
       "      <th>Actual 1</th>\n",
       "      <td>1161</td>\n",
       "      <td>875</td>\n",
       "    </tr>\n",
       "  </tbody>\n",
       "</table>\n",
       "</div>"
      ],
      "text/plain": [
       "          Predicted 0  Predicted 1\n",
       "Actual 0         4380         2699\n",
       "Actual 1         1161          875"
      ]
     },
     "metadata": {},
     "output_type": "display_data"
    },
    {
     "name": "stdout",
     "output_type": "stream",
     "text": [
      "Accuracy Score : 0.5765222161272627\n",
      "Classification Report\n",
      "              precision    recall  f1-score   support\n",
      "\n",
      "           0       0.79      0.62      0.69      7079\n",
      "           1       0.24      0.43      0.31      2036\n",
      "\n",
      "    accuracy                           0.58      9115\n",
      "   macro avg       0.52      0.52      0.50      9115\n",
      "weighted avg       0.67      0.58      0.61      9115\n",
      "\n"
     ]
    }
   ],
   "source": [
    "cmsogb = confusion_matrix(y_test, predictions)\n",
    "cmsogb_df = pd.DataFrame(\n",
    "   cmsogb, index=[\"Actual 0\", \"Actual 1\"],\n",
    "   columns=[\"Predicted 0\", \"Predicted 1\"]\n",
    ")\n",
    "acc_score = accuracy_score(y_test, predictions)\n",
    "# Displaying results\n",
    "print(\"Confusion Matrix\")\n",
    "display(cmsogb_df)\n",
    "print(f\"Accuracy Score : {acc_score}\")\n",
    "print(\"Classification Report\")\n",
    "print(classification_report(y_test, predictions))"
   ]
  },
  {
   "cell_type": "code",
   "execution_count": 132,
   "id": "0bf05a4c",
   "metadata": {},
   "outputs": [
    {
     "data": {
      "image/png": "[encoded data removed]",
      "text/plain": [
       "<Figure size 720x360 with 2 Axes>"
      ]
     },
     "metadata": {
      "needs_background": "light"
     },
     "output_type": "display_data"
    }
   ],
   "source": [
    "group_names = ['True Neg','False Pos','False Neg','True Pos']\n",
    "group_counts = [\"{0:0.0f}\".format(value) for value in cmsogb.flatten()]\n",
    "group_percentages = [\"{0:.2%}\".format(value) for value in cmsogb.flatten()/np.sum(cmsogb)]\n",
    "labels = [f\"{v1}\\n{v2}\\n{v3}\" for v1, v2, v3 in zip(group_names,group_counts,group_percentages)]\n",
    "labels = np.asarray(labels).reshape(2,2)\n",
    "sns.heatmap(cmsogb, annot=labels, fmt='', cmap='Set2')\n",
    "\n",
    "plt.title(f\"{'SMOTE Oversampling Gradient Boosted Tree'}\\n{'Confusion Matrix'}\", fontsize = 15)\n",
    "plt.xlabel('Prediction', fontsize = 15)\n",
    "plt.ylabel('Actual', fontsize = 15)\n",
    "plt.savefig('SOSDGBTCM.png', dpi=100, bbox_inches='tight')\n",
    "plt.show()"
   ]
  },
  {
   "cell_type": "markdown",
   "id": "d011ef5a",
   "metadata": {},
   "source": [
    "## Undersampling"
   ]
  },
  {
   "cell_type": "markdown",
   "id": "b5a19db9",
   "metadata": {},
   "source": [
    "### Random Undersampling"
   ]
  },
  {
   "cell_type": "code",
   "execution_count": 133,
   "id": "17bd6997",
   "metadata": {},
   "outputs": [
    {
     "data": {
      "text/plain": [
       "Counter({'STATUS_y': 1})"
      ]
     },
     "execution_count": 133,
     "metadata": {},
     "output_type": "execute_result"
    }
   ],
   "source": [
    "# Undersample the data using `RandomUnderSampler`\n",
    "ros = RandomUnderSampler(random_state=1)\n",
    "X_resampled, y_resampled = ros.fit_resample(X_train_scaled, y_train)\n",
    "Counter(y_resampled)"
   ]
  },
  {
   "cell_type": "code",
   "execution_count": 134,
   "id": "25d208ae",
   "metadata": {},
   "outputs": [
    {
     "data": {
      "text/plain": [
       "LogisticRegression(random_state=1)"
      ]
     },
     "execution_count": 134,
     "metadata": {},
     "output_type": "execute_result"
    }
   ],
   "source": [
    "# Fit a Logistic regression model using random undersampled data\n",
    "model = LogisticRegression(solver='lbfgs', random_state=1)\n",
    "model.fit(X_resampled, y_resampled)"
   ]
  },
  {
   "cell_type": "code",
   "execution_count": 135,
   "id": "ea5b7010",
   "metadata": {},
   "outputs": [
    {
     "name": "stdout",
     "output_type": "stream",
     "text": [
      "Confusion Matrix\n"
     ]
    },
    {
     "data": {
      "text/html": [
       "<div>\n",
       "<style scoped>\n",
       "    .dataframe tbody tr th:only-of-type {\n",
       "        vertical-align: middle;\n",
       "    }\n",
       "\n",
       "    .dataframe tbody tr th {\n",
       "        vertical-align: top;\n",
       "    }\n",
       "\n",
       "    .dataframe thead th {\n",
       "        text-align: right;\n",
       "    }\n",
       "</style>\n",
       "<table border=\"1\" class=\"dataframe\">\n",
       "  <thead>\n",
       "    <tr style=\"text-align: right;\">\n",
       "      <th></th>\n",
       "      <th>Predicted 0</th>\n",
       "      <th>Predicted 1</th>\n",
       "    </tr>\n",
       "  </thead>\n",
       "  <tbody>\n",
       "    <tr>\n",
       "      <th>Actual 0</th>\n",
       "      <td>5918</td>\n",
       "      <td>1161</td>\n",
       "    </tr>\n",
       "    <tr>\n",
       "      <th>Actual 1</th>\n",
       "      <td>1703</td>\n",
       "      <td>333</td>\n",
       "    </tr>\n",
       "  </tbody>\n",
       "</table>\n",
       "</div>"
      ],
      "text/plain": [
       "          Predicted 0  Predicted 1\n",
       "Actual 0         5918         1161\n",
       "Actual 1         1703          333"
      ]
     },
     "metadata": {},
     "output_type": "display_data"
    },
    {
     "name": "stdout",
     "output_type": "stream",
     "text": [
      "Accuracy Score : 0.49977488828714167\n",
      "Classification Report\n",
      "              precision    recall  f1-score   support\n",
      "\n",
      "           0       0.78      0.84      0.81      7079\n",
      "           1       0.22      0.16      0.19      2036\n",
      "\n",
      "    accuracy                           0.69      9115\n",
      "   macro avg       0.50      0.50      0.50      9115\n",
      "weighted avg       0.65      0.69      0.67      9115\n",
      "\n"
     ]
    }
   ],
   "source": [
    "# Display the confusion matrix\n",
    "y_pred = model.predict(X_test)\n",
    "cmru=confusion_matrix(y_test, y_pred)\n",
    "\n",
    "cmru_df = pd.DataFrame(\n",
    "   cmru, index=[\"Actual 0\", \"Actual 1\"],\n",
    "   columns=[\"Predicted 0\", \"Predicted 1\"]\n",
    ")\n",
    "bal_acc_score = balanced_accuracy_score(y_test, y_pred)\n",
    "\n",
    "# Displaying results\n",
    "print(\"Confusion Matrix\")\n",
    "display(cmru_df)\n",
    "print(f\"Accuracy Score : {bal_acc_score}\")\n",
    "print(\"Classification Report\")\n",
    "print(classification_report(y_test, y_pred))"
   ]
  },
  {
   "cell_type": "code",
   "execution_count": 136,
   "id": "b470ad36",
   "metadata": {},
   "outputs": [
    {
     "data": {
      "image/png": "[encoded data removed]",
      "text/plain": [
       "<Figure size 720x360 with 2 Axes>"
      ]
     },
     "metadata": {
      "needs_background": "light"
     },
     "output_type": "display_data"
    }
   ],
   "source": [
    "group_names = ['True Neg','False Pos','False Neg','True Pos']\n",
    "group_counts = [\"{0:0.0f}\".format(value) for value in cmru.flatten()]\n",
    "group_percentages = [\"{0:.2%}\".format(value) for value in cmru.flatten()/np.sum(cmru)]\n",
    "labels = [f\"{v1}\\n{v2}\\n{v3}\" for v1, v2, v3 in zip(group_names,group_counts,group_percentages)]\n",
    "labels = np.asarray(labels).reshape(2,2)\n",
    "sns.heatmap(cmru, annot=labels, fmt='', cmap='PuBu')\n",
    "\n",
    "plt.title(f\"{'Random Undersampling'}\\n{'Confusion Matrix'}\", fontsize = 15)\n",
    "plt.xlabel('Prediction', fontsize = 15)\n",
    "plt.ylabel('Actual', fontsize = 15)\n",
    "plt.savefig('RUSLRCM.png', dpi=100, bbox_inches='tight')\n",
    "plt.show()"
   ]
  },
  {
   "cell_type": "markdown",
   "id": "479fbccd",
   "metadata": {},
   "source": [
    "### Undersampling using Cluster Centroids"
   ]
  },
  {
   "cell_type": "code",
   "execution_count": 137,
   "id": "48ee18fa",
   "metadata": {},
   "outputs": [
    {
     "data": {
      "text/plain": [
       "Counter({'STATUS_y': 1})"
      ]
     },
     "execution_count": 137,
     "metadata": {},
     "output_type": "execute_result"
    }
   ],
   "source": [
    "# Resample the data using the ClusterCentroids resampler\n",
    "cc = ClusterCentroids(random_state=1)\n",
    "X_resampled, y_resampled = cc.fit_resample(X_train_scaled, y_train)\n",
    "Counter(y_resampled)"
   ]
  },
  {
   "cell_type": "code",
   "execution_count": 138,
   "id": "6cb87add",
   "metadata": {},
   "outputs": [
    {
     "data": {
      "text/plain": [
       "LogisticRegression(random_state=1)"
      ]
     },
     "execution_count": 138,
     "metadata": {},
     "output_type": "execute_result"
    }
   ],
   "source": [
    "# Train the Logistic Regression model using the resampled data\n",
    "model = LogisticRegression(solver='lbfgs', random_state=1)\n",
    "model.fit(X_resampled, y_resampled)"
   ]
  },
  {
   "cell_type": "code",
   "execution_count": 139,
   "id": "bd6bb3fb",
   "metadata": {},
   "outputs": [
    {
     "name": "stdout",
     "output_type": "stream",
     "text": [
      "Confusion Matrix\n"
     ]
    },
    {
     "data": {
      "text/html": [
       "<div>\n",
       "<style scoped>\n",
       "    .dataframe tbody tr th:only-of-type {\n",
       "        vertical-align: middle;\n",
       "    }\n",
       "\n",
       "    .dataframe tbody tr th {\n",
       "        vertical-align: top;\n",
       "    }\n",
       "\n",
       "    .dataframe thead th {\n",
       "        text-align: right;\n",
       "    }\n",
       "</style>\n",
       "<table border=\"1\" class=\"dataframe\">\n",
       "  <thead>\n",
       "    <tr style=\"text-align: right;\">\n",
       "      <th></th>\n",
       "      <th>Predicted 0</th>\n",
       "      <th>Predicted 1</th>\n",
       "    </tr>\n",
       "  </thead>\n",
       "  <tbody>\n",
       "    <tr>\n",
       "      <th>Actual 0</th>\n",
       "      <td>5918</td>\n",
       "      <td>1161</td>\n",
       "    </tr>\n",
       "    <tr>\n",
       "      <th>Actual 1</th>\n",
       "      <td>1703</td>\n",
       "      <td>333</td>\n",
       "    </tr>\n",
       "  </tbody>\n",
       "</table>\n",
       "</div>"
      ],
      "text/plain": [
       "          Predicted 0  Predicted 1\n",
       "Actual 0         5918         1161\n",
       "Actual 1         1703          333"
      ]
     },
     "metadata": {},
     "output_type": "display_data"
    },
    {
     "name": "stdout",
     "output_type": "stream",
     "text": [
      "Accuracy Score : 0.49977488828714167\n",
      "Classification Report\n",
      "                   pre       rec       spe        f1       geo       iba       sup\n",
      "\n",
      "          0       0.78      0.84      0.16      0.81      0.37      0.15      7079\n",
      "          1       0.22      0.16      0.84      0.19      0.37      0.13      2036\n",
      "\n",
      "avg / total       0.65      0.69      0.31      0.67      0.37      0.14      9115\n",
      "\n"
     ]
    }
   ],
   "source": [
    "# Display the confusion matrix\n",
    "y_pred = model.predict(X_test)\n",
    "cmucc=confusion_matrix(y_test, y_pred)\n",
    "\n",
    "# Create a DataFrame from the confusion matrix.\n",
    "cmucc_df = pd.DataFrame(\n",
    "    cmucc, index=[\"Actual 0\", \"Actual 1\"], columns=[\"Predicted 0\", \"Predicted 1\"])\n",
    "cmucc_df\n",
    "\n",
    "# Calculated the accuracy score\n",
    "acc_score=balanced_accuracy_score(y_test, y_pred)\n",
    "\n",
    "# Displaying results\n",
    "print(\"Confusion Matrix\")\n",
    "display(cmru_df)\n",
    "print(f\"Accuracy Score : {acc_score}\")\n",
    "print(\"Classification Report\")\n",
    "print(classification_report_imbalanced(y_test, y_pred))\n"
   ]
  },
  {
   "cell_type": "code",
   "execution_count": 140,
   "id": "0ce6f796",
   "metadata": {},
   "outputs": [
    {
     "data": {
      "image/png": "[encoded data removed]",
      "text/plain": [
       "<Figure size 720x360 with 2 Axes>"
      ]
     },
     "metadata": {
      "needs_background": "light"
     },
     "output_type": "display_data"
    }
   ],
   "source": [
    "group_names = ['True Neg','False Pos','False Neg','True Pos']\n",
    "group_counts = [\"{0:0.0f}\".format(value) for value in cmucc.flatten()]\n",
    "group_percentages = [\"{0:.2%}\".format(value) for value in cmucc.flatten()/np.sum(cmucc)]\n",
    "labels = [f\"{v1}\\n{v2}\\n{v3}\" for v1, v2, v3 in zip(group_names,group_counts,group_percentages)]\n",
    "labels = np.asarray(labels).reshape(2,2)\n",
    "sns.heatmap(cmucc, annot=labels, fmt='', cmap='Pastel2')\n",
    "\n",
    "plt.title(f\"{'Undersampling Cluster Centroids'}\\n{'Confusion Matrix'}\", fontsize = 15)\n",
    "plt.xlabel('Prediction', fontsize = 15)\n",
    "plt.ylabel('Actual', fontsize = 15)\n",
    "plt.savefig('RUSCCCM.png', dpi=100, bbox_inches='tight')\n",
    "plt.show()"
   ]
  },
  {
   "cell_type": "markdown",
   "id": "7f921e3c",
   "metadata": {},
   "source": [
    "## Combination Sampling using SMOTEENN"
   ]
  },
  {
   "cell_type": "code",
   "execution_count": 141,
   "id": "979fc675",
   "metadata": {},
   "outputs": [
    {
     "data": {
      "text/plain": [
       "Counter({'STATUS_y': 1})"
      ]
     },
     "execution_count": 141,
     "metadata": {},
     "output_type": "execute_result"
    }
   ],
   "source": [
    "# Resample the training data with SMOTEENN\n",
    "\n",
    "smote_enn = SMOTEENN(random_state=0)\n",
    "X_resampled, y_resampled = smote_enn.fit_resample(X, y)\n",
    "Counter(y_resampled)"
   ]
  },
  {
   "cell_type": "code",
   "execution_count": 142,
   "id": "b4afbc08",
   "metadata": {},
   "outputs": [
    {
     "data": {
      "text/plain": [
       "LogisticRegression(random_state=78)"
      ]
     },
     "execution_count": 142,
     "metadata": {},
     "output_type": "execute_result"
    }
   ],
   "source": [
    "# Train the Logistic Regression model using the resampled data\n",
    "model = LogisticRegression(solver='lbfgs', random_state=78)\n",
    "model.fit(X_resampled, y_resampled)"
   ]
  },
  {
   "cell_type": "code",
   "execution_count": 143,
   "id": "41dd67a3",
   "metadata": {},
   "outputs": [
    {
     "data": {
      "text/plain": [
       "LogisticRegression(random_state=78)"
      ]
     },
     "execution_count": 143,
     "metadata": {},
     "output_type": "execute_result"
    }
   ],
   "source": [
    "# Train the Logistic Regression model using the resampled data\n",
    "model.fit(X_resampled, y_resampled)"
   ]
  },
  {
   "cell_type": "code",
   "execution_count": 144,
   "id": "6e8548fa",
   "metadata": {},
   "outputs": [
    {
     "data": {
      "text/plain": [
       "0.5104412772385519"
      ]
     },
     "execution_count": 144,
     "metadata": {},
     "output_type": "execute_result"
    }
   ],
   "source": [
    "# Calculated the balanced accuracy score\n",
    "y_pred = model.predict(X_test)\n",
    "balanced_accuracy_score(y_test, y_pred)"
   ]
  },
  {
   "cell_type": "code",
   "execution_count": 145,
   "id": "19b282fb",
   "metadata": {},
   "outputs": [
    {
     "data": {
      "text/html": [
       "<div>\n",
       "<style scoped>\n",
       "    .dataframe tbody tr th:only-of-type {\n",
       "        vertical-align: middle;\n",
       "    }\n",
       "\n",
       "    .dataframe tbody tr th {\n",
       "        vertical-align: top;\n",
       "    }\n",
       "\n",
       "    .dataframe thead th {\n",
       "        text-align: right;\n",
       "    }\n",
       "</style>\n",
       "<table border=\"1\" class=\"dataframe\">\n",
       "  <thead>\n",
       "    <tr style=\"text-align: right;\">\n",
       "      <th></th>\n",
       "      <th>Predicted 0</th>\n",
       "      <th>Predicted 1</th>\n",
       "    </tr>\n",
       "  </thead>\n",
       "  <tbody>\n",
       "    <tr>\n",
       "      <th>Actual 0</th>\n",
       "      <td>5770</td>\n",
       "      <td>1309</td>\n",
       "    </tr>\n",
       "    <tr>\n",
       "      <th>Actual 1</th>\n",
       "      <td>1617</td>\n",
       "      <td>419</td>\n",
       "    </tr>\n",
       "  </tbody>\n",
       "</table>\n",
       "</div>"
      ],
      "text/plain": [
       "          Predicted 0  Predicted 1\n",
       "Actual 0         5770         1309\n",
       "Actual 1         1617          419"
      ]
     },
     "execution_count": 145,
     "metadata": {},
     "output_type": "execute_result"
    }
   ],
   "source": [
    "# Display the confusion matrix\n",
    "\n",
    "# Calculate the confusion matrix\n",
    "cmcs = confusion_matrix(y_test, y_pred)\n",
    "\n",
    "# Create a DataFrame from the confusion matrix.\n",
    "cmcs_df = pd.DataFrame(\n",
    "    cmcs, index=[\"Actual 0\", \"Actual 1\"], columns=[\"Predicted 0\", \"Predicted 1\"])\n",
    "cmcs_df"
   ]
  },
  {
   "cell_type": "code",
   "execution_count": 146,
   "id": "d41c474e",
   "metadata": {},
   "outputs": [
    {
     "name": "stdout",
     "output_type": "stream",
     "text": [
      "                   pre       rec       spe        f1       geo       iba       sup\n",
      "\n",
      "          0       0.78      0.82      0.21      0.80      0.41      0.18      7079\n",
      "          1       0.24      0.21      0.82      0.22      0.41      0.16      2036\n",
      "\n",
      "avg / total       0.66      0.68      0.34      0.67      0.41      0.17      9115\n",
      "\n"
     ]
    }
   ],
   "source": [
    "# Print the imbalanced classification report\n",
    "print(classification_report_imbalanced(y_test, y_pred))"
   ]
  },
  {
   "cell_type": "code",
   "execution_count": 147,
   "id": "d571e27e",
   "metadata": {},
   "outputs": [
    {
     "data": {
      "image/png": "[encoded data removed]",
      "text/plain": [
       "<Figure size 720x360 with 2 Axes>"
      ]
     },
     "metadata": {
      "needs_background": "light"
     },
     "output_type": "display_data"
    }
   ],
   "source": [
    "group_names = ['True Neg','False Pos','False Neg','True Pos']\n",
    "group_counts = [\"{0:0.0f}\".format(value) for value in cmcs.flatten()]\n",
    "group_percentages = [\"{0:.2%}\".format(value) for value in cmcs.flatten()/np.sum(cmucc)]\n",
    "labels = [f\"{v1}\\n{v2}\\n{v3}\" for v1, v2, v3 in zip(group_names,group_counts,group_percentages)]\n",
    "labels = np.asarray(labels).reshape(2,2)\n",
    "sns.heatmap(cmcs, annot=labels, fmt='', cmap='Purples')\n",
    "\n",
    "plt.title(f\"{'SMOTEENN Combination Sampling'}\\n{'Confusion Matrix'}\", fontsize = 15)\n",
    "plt.xlabel('Prediction', fontsize = 15)\n",
    "plt.ylabel('Actual', fontsize = 15)\n",
    "plt.savefig('SCSCM.png', dpi=100, bbox_inches='tight')\n",
    "plt.show()"
   ]
  }
 ],
 "metadata": {
  "kernelspec": {
   "display_name": "mlenv",
   "language": "python",
   "name": "mlenv"
  },
  "language_info": {
   "codemirror_mode": {
    "name": "ipython",
    "version": 3
   },
   "file_extension": ".py",
   "mimetype": "text/x-python",
   "name": "python",
   "nbconvert_exporter": "python",
   "pygments_lexer": "ipython3",
   "version": "3.7.10"
  }
 },
 "nbformat": 4,
 "nbformat_minor": 5
}
