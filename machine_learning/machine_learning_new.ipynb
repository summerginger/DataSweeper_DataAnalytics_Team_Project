{
 "cells": [
  {
   "cell_type": "markdown",
   "source": [
    "# Importing Ml_credit_application table from PostgreSQL database\r\n"
   ],
   "metadata": {}
  },
  {
   "cell_type": "code",
   "execution_count": 1,
   "source": [
    "# Python SQL toolkit and Object Relational Mapper\r\n",
    "import pandas as pd\r\n",
    "import sqlalchemy\r\n",
    "from sqlalchemy.ext.automap import automap_base\r\n",
    "from sqlalchemy.orm import Session\r\n",
    "from sqlalchemy import create_engine, func\r\n",
    "import config as creds\r\n",
    "from collections import Counter\r\n",
    "import warnings\r\n",
    "warnings.filterwarnings('ignore')"
   ],
   "outputs": [],
   "metadata": {}
  },
  {
   "cell_type": "code",
   "execution_count": 2,
   "source": [
    "get_ipython().run_line_magic('load_ext', 'sql')"
   ],
   "outputs": [],
   "metadata": {}
  },
  {
   "cell_type": "code",
   "execution_count": 3,
   "source": [
    "# Create connection with PostgreSQL databse\r\n",
    "get_ipython().run_line_magic('sql', 'postgresql://postgres:{creds.password}@{creds.path}:5432/postgres')"
   ],
   "outputs": [],
   "metadata": {}
  },
  {
   "cell_type": "code",
   "execution_count": 4,
   "source": [
    "# reflect an existing database into a new model\r\n",
    "engine = create_engine(f\"postgresql://postgres:{creds.password}@{creds.path}:5432/postgres\")\r\n",
    "Base = automap_base()\r\n",
    "# reflect the tables\r\n",
    "Base.prepare(engine, reflect=True)"
   ],
   "outputs": [],
   "metadata": {}
  },
  {
   "cell_type": "code",
   "execution_count": 5,
   "source": [
    "# We can view all of the classes that automap found\r\n",
    "Base.classes.keys()"
   ],
   "outputs": [
    {
     "output_type": "execute_result",
     "data": {
      "text/plain": [
       "['application_record', 'visual_creditapp']"
      ]
     },
     "metadata": {},
     "execution_count": 5
    }
   ],
   "metadata": {}
  },
  {
   "cell_type": "code",
   "execution_count": 6,
   "source": [
    "application = Base.classes.application_record\r\n",
    "session = Session(engine)\r\n",
    "results = []\r\n",
    "results = session.query(application)"
   ],
   "outputs": [],
   "metadata": {}
  },
  {
   "cell_type": "markdown",
   "source": [
    "# Machine Learning"
   ],
   "metadata": {}
  },
  {
   "cell_type": "code",
   "execution_count": 7,
   "source": [
    "# Initial imports.\r\n",
    "from path import Path\r\n",
    "from sklearn.preprocessing import StandardScaler\r\n",
    "from sklearn.model_selection import train_test_split\r\n",
    "from sklearn.metrics import confusion_matrix, accuracy_score, classification_report\r\n",
    "from sklearn.linear_model import LogisticRegression\r\n",
    "from sklearn import tree\r\n",
    "from sklearn.ensemble import RandomForestClassifier\r\n",
    "from sklearn.ensemble import GradientBoostingClassifier"
   ],
   "outputs": [],
   "metadata": {}
  },
  {
   "cell_type": "markdown",
   "source": [
    "## Feature selection"
   ],
   "metadata": {}
  },
  {
   "cell_type": "code",
   "execution_count": 8,
   "source": [
    "credit_application_df = pd.read_csv(\"../Resources/datasets/ML_credit_application.csv\")\r\n",
    "credit_application_df.drop(['ID'], axis=1, inplace=True)\r\n",
    "# Create our features\r\n",
    "X = credit_application_df.drop(columns=\"STATUS_y\")\r\n",
    "\r\n",
    "# Create our target\r\n",
    "y = pd.DataFrame(credit_application_df[\"STATUS_y\"])\r\n",
    "\r\n"
   ],
   "outputs": [],
   "metadata": {}
  },
  {
   "cell_type": "markdown",
   "source": [
    "## Split the Data into Training and Testing\r\n"
   ],
   "metadata": {}
  },
  {
   "cell_type": "code",
   "execution_count": 9,
   "source": [
    "X_train, X_test, y_train, y_test = train_test_split(X, y, random_state=1)\r\n",
    "\r\n",
    "Counter(y_train)\r\n"
   ],
   "outputs": [
    {
     "output_type": "execute_result",
     "data": {
      "text/plain": [
       "Counter({'STATUS_y': 1})"
      ]
     },
     "metadata": {},
     "execution_count": 9
    }
   ],
   "metadata": {}
  },
  {
   "cell_type": "code",
   "execution_count": 10,
   "source": [
    "# Determine the shape of our training and testing sets.\r\n",
    "print(X_train.shape)\r\n",
    "print(X_test.shape)\r\n",
    "print(y_train.shape)\r\n",
    "print(y_test.shape)"
   ],
   "outputs": [
    {
     "output_type": "stream",
     "name": "stdout",
     "text": [
      "(27342, 43)\n",
      "(9115, 43)\n",
      "(27342, 1)\n",
      "(9115, 1)\n"
     ]
    }
   ],
   "metadata": {}
  },
  {
   "cell_type": "markdown",
   "source": [
    "## Scaling Dataset"
   ],
   "metadata": {}
  },
  {
   "cell_type": "code",
   "execution_count": 11,
   "source": [
    "# Creating a StandardScaler instance.\r\n",
    "scaler = StandardScaler()\r\n",
    "# Fitting the Standard Scaler with the training data.\r\n",
    "X_scaler = scaler.fit(X_train)\r\n",
    "\r\n",
    "# Scaling the data.\r\n",
    "X_train_scaled = X_scaler.transform(X_train)\r\n",
    "X_test_scaled = X_scaler.transform(X_test)\r\n",
    "\r\n"
   ],
   "outputs": [],
   "metadata": {}
  },
  {
   "cell_type": "markdown",
   "source": [
    "# Class Imbalance\r\n",
    "### The existing classes in the dataset is not equally represented. This is referred to as Class Imbalance and can cause the machine learning models to be biased toward the majority class. In this case, the machine learning models will be better at predicting not approved applicants. Hence, to counter this problem, we will be using Oversampling, Undersampling and Combination sampling techniques.\r\n"
   ],
   "metadata": {}
  },
  {
   "cell_type": "markdown",
   "source": [
    "## First Oversampling technique: Random Oversampling"
   ],
   "metadata": {}
  },
  {
   "cell_type": "code",
   "execution_count": 12,
   "source": [
    "# Resample the training data with the RandomOversampler\r\n",
    "from imblearn.over_sampling import RandomOverSampler\r\n",
    "\r\n",
    "ros = RandomOverSampler()\r\n",
    "X_resampled, y_resampled = ros.fit_resample(X_train_scaled, y_train)\r\n",
    "\r\n",
    "Counter(y_resampled)\r\n"
   ],
   "outputs": [
    {
     "output_type": "execute_result",
     "data": {
      "text/plain": [
       "Counter({'STATUS_y': 1})"
      ]
     },
     "metadata": {},
     "execution_count": 12
    }
   ],
   "metadata": {}
  },
  {
   "cell_type": "markdown",
   "source": [
    "## Logistic Regression Model"
   ],
   "metadata": {}
  },
  {
   "cell_type": "code",
   "execution_count": 13,
   "source": [
    "# Train the Logistic Regression model using the resampled data\r\n",
    "log_model = LogisticRegression(solver='lbfgs', random_state=1)\r\n",
    "log_model.fit(X_resampled, y_resampled)"
   ],
   "outputs": [
    {
     "output_type": "execute_result",
     "data": {
      "text/plain": [
       "LogisticRegression(random_state=1)"
      ]
     },
     "metadata": {},
     "execution_count": 13
    }
   ],
   "metadata": {}
  },
  {
   "cell_type": "code",
   "execution_count": 14,
   "source": [
    "# Making predictions using the testing data.\r\n",
    "predictions = log_model.predict(X_test_scaled)\r\n",
    "\r\n",
    "# Calculated the accuracy score\r\n",
    "acc_score = accuracy_score(y_test, predictions)\r\n",
    "\r\n",
    "# Calculating the confusion matrix\r\n",
    "cm = confusion_matrix(y_test, predictions)\r\n",
    "\r\n",
    "# Create a DataFrame from the confusion matrix.\r\n",
    "cm_df = pd.DataFrame(\r\n",
    "    cm, index=[\"Actual 0\", \"Actual 1\"], columns=[\"Predicted 0\", \"Predicted 1\"])\r\n",
    "\r\n",
    "# Displaying results\r\n",
    "print(\"Confusion Matrix\")\r\n",
    "display(cm_df)\r\n",
    "print(f\"Accuracy Score : {acc_score}\")\r\n",
    "print(\"Classification Report\")\r\n",
    "print(classification_report(y_test, predictions))\r\n"
   ],
   "outputs": [
    {
     "output_type": "stream",
     "name": "stdout",
     "text": [
      "Confusion Matrix\n"
     ]
    },
    {
     "output_type": "display_data",
     "data": {
      "text/html": [
       "<div>\n",
       "<style scoped>\n",
       "    .dataframe tbody tr th:only-of-type {\n",
       "        vertical-align: middle;\n",
       "    }\n",
       "\n",
       "    .dataframe tbody tr th {\n",
       "        vertical-align: top;\n",
       "    }\n",
       "\n",
       "    .dataframe thead th {\n",
       "        text-align: right;\n",
       "    }\n",
       "</style>\n",
       "<table border=\"1\" class=\"dataframe\">\n",
       "  <thead>\n",
       "    <tr style=\"text-align: right;\">\n",
       "      <th></th>\n",
       "      <th>Predicted 0</th>\n",
       "      <th>Predicted 1</th>\n",
       "    </tr>\n",
       "  </thead>\n",
       "  <tbody>\n",
       "    <tr>\n",
       "      <th>Actual 0</th>\n",
       "      <td>3774</td>\n",
       "      <td>3305</td>\n",
       "    </tr>\n",
       "    <tr>\n",
       "      <th>Actual 1</th>\n",
       "      <td>1002</td>\n",
       "      <td>1034</td>\n",
       "    </tr>\n",
       "  </tbody>\n",
       "</table>\n",
       "</div>"
      ],
      "text/plain": [
       "          Predicted 0  Predicted 1\n",
       "Actual 0         3774         3305\n",
       "Actual 1         1002         1034"
      ]
     },
     "metadata": {}
    },
    {
     "output_type": "stream",
     "name": "stdout",
     "text": [
      "Accuracy Score : 0.5274821722435545\n",
      "Classification Report\n",
      "              precision    recall  f1-score   support\n",
      "\n",
      "           0       0.79      0.53      0.64      7079\n",
      "           1       0.24      0.51      0.32      2036\n",
      "\n",
      "    accuracy                           0.53      9115\n",
      "   macro avg       0.51      0.52      0.48      9115\n",
      "weighted avg       0.67      0.53      0.57      9115\n",
      "\n"
     ]
    }
   ],
   "metadata": {}
  },
  {
   "cell_type": "markdown",
   "source": [
    "## Decision Tree Model"
   ],
   "metadata": {}
  },
  {
   "cell_type": "code",
   "execution_count": 15,
   "source": [
    "# Creating the decision tree classifier instance.\r\n",
    "tree_model = tree.DecisionTreeClassifier()\r\n",
    "# Fitting the model.\r\n",
    "tree_model.fit(X_resampled, y_resampled)\r\n",
    "\r\n",
    "# Making predictions using the testing data.\r\n",
    "predictions = tree_model.predict(X_test_scaled)\r\n",
    "\r\n",
    "# Calculated the accuracy score\r\n",
    "acc_score = accuracy_score(y_test, predictions)\r\n",
    "\r\n",
    "# Calculating the confusion matrix\r\n",
    "cm = confusion_matrix(y_test, predictions)\r\n",
    "\r\n",
    "# Create a DataFrame from the confusion matrix.\r\n",
    "cm_df = pd.DataFrame(\r\n",
    "    cm, index=[\"Actual 0\", \"Actual 1\"], columns=[\"Predicted 0\", \"Predicted 1\"])\r\n",
    "\r\n",
    "# Displaying results\r\n",
    "print(\"Confusion Matrix\")\r\n",
    "display(cm_df)\r\n",
    "print(f\"Accuracy Score : {acc_score}\")\r\n",
    "print(\"Classification Report\")\r\n",
    "print(classification_report(y_test, predictions))"
   ],
   "outputs": [
    {
     "output_type": "stream",
     "name": "stdout",
     "text": [
      "Confusion Matrix\n"
     ]
    },
    {
     "output_type": "display_data",
     "data": {
      "text/html": [
       "<div>\n",
       "<style scoped>\n",
       "    .dataframe tbody tr th:only-of-type {\n",
       "        vertical-align: middle;\n",
       "    }\n",
       "\n",
       "    .dataframe tbody tr th {\n",
       "        vertical-align: top;\n",
       "    }\n",
       "\n",
       "    .dataframe thead th {\n",
       "        text-align: right;\n",
       "    }\n",
       "</style>\n",
       "<table border=\"1\" class=\"dataframe\">\n",
       "  <thead>\n",
       "    <tr style=\"text-align: right;\">\n",
       "      <th></th>\n",
       "      <th>Predicted 0</th>\n",
       "      <th>Predicted 1</th>\n",
       "    </tr>\n",
       "  </thead>\n",
       "  <tbody>\n",
       "    <tr>\n",
       "      <th>Actual 0</th>\n",
       "      <td>5357</td>\n",
       "      <td>1722</td>\n",
       "    </tr>\n",
       "    <tr>\n",
       "      <th>Actual 1</th>\n",
       "      <td>778</td>\n",
       "      <td>1258</td>\n",
       "    </tr>\n",
       "  </tbody>\n",
       "</table>\n",
       "</div>"
      ],
      "text/plain": [
       "          Predicted 0  Predicted 1\n",
       "Actual 0         5357         1722\n",
       "Actual 1          778         1258"
      ]
     },
     "metadata": {}
    },
    {
     "output_type": "stream",
     "name": "stdout",
     "text": [
      "Accuracy Score : 0.7257268239166209\n",
      "Classification Report\n",
      "              precision    recall  f1-score   support\n",
      "\n",
      "           0       0.87      0.76      0.81      7079\n",
      "           1       0.42      0.62      0.50      2036\n",
      "\n",
      "    accuracy                           0.73      9115\n",
      "   macro avg       0.65      0.69      0.66      9115\n",
      "weighted avg       0.77      0.73      0.74      9115\n",
      "\n"
     ]
    }
   ],
   "metadata": {}
  },
  {
   "cell_type": "markdown",
   "source": [
    "## Random Forest Model"
   ],
   "metadata": {}
  },
  {
   "cell_type": "code",
   "execution_count": 16,
   "source": [
    "# Create a random forest classifier.\r\n",
    "rf_model = RandomForestClassifier(n_estimators=128) \r\n",
    "# Fitting the model\r\n",
    "rf_model = rf_model.fit(X_resampled, y_resampled)\r\n",
    "\r\n",
    "# Making predictions using the testing data.\r\n",
    "predictions = rf_model.predict(X_test_scaled)\r\n",
    "\r\n",
    "# Calculating the accuracy score.\r\n",
    "acc_score = accuracy_score(y_test, predictions)\r\n",
    "\r\n",
    "# Calculating the confusion matrix.\r\n",
    "cm = confusion_matrix(y_test, predictions)\r\n",
    "\r\n",
    "# Create a DataFrame from the confusion matrix.\r\n",
    "cm_df = pd.DataFrame(\r\n",
    "    cm, index=[\"Actual 0\", \"Actual 1\"], columns=[\"Predicted 0\", \"Predicted 1\"])\r\n",
    "\r\n",
    "# Displaying results\r\n",
    "print(\"Confusion Matrix\")\r\n",
    "display(cm_df)\r\n",
    "print(f\"Accuracy Score : {acc_score}\")\r\n",
    "print(\"Classification Report\")\r\n",
    "print(classification_report(y_test, predictions))"
   ],
   "outputs": [
    {
     "output_type": "stream",
     "name": "stdout",
     "text": [
      "Confusion Matrix\n"
     ]
    },
    {
     "output_type": "display_data",
     "data": {
      "text/html": [
       "<div>\n",
       "<style scoped>\n",
       "    .dataframe tbody tr th:only-of-type {\n",
       "        vertical-align: middle;\n",
       "    }\n",
       "\n",
       "    .dataframe tbody tr th {\n",
       "        vertical-align: top;\n",
       "    }\n",
       "\n",
       "    .dataframe thead th {\n",
       "        text-align: right;\n",
       "    }\n",
       "</style>\n",
       "<table border=\"1\" class=\"dataframe\">\n",
       "  <thead>\n",
       "    <tr style=\"text-align: right;\">\n",
       "      <th></th>\n",
       "      <th>Predicted 0</th>\n",
       "      <th>Predicted 1</th>\n",
       "    </tr>\n",
       "  </thead>\n",
       "  <tbody>\n",
       "    <tr>\n",
       "      <th>Actual 0</th>\n",
       "      <td>5411</td>\n",
       "      <td>1668</td>\n",
       "    </tr>\n",
       "    <tr>\n",
       "      <th>Actual 1</th>\n",
       "      <td>781</td>\n",
       "      <td>1255</td>\n",
       "    </tr>\n",
       "  </tbody>\n",
       "</table>\n",
       "</div>"
      ],
      "text/plain": [
       "          Predicted 0  Predicted 1\n",
       "Actual 0         5411         1668\n",
       "Actual 1          781         1255"
      ]
     },
     "metadata": {}
    },
    {
     "output_type": "stream",
     "name": "stdout",
     "text": [
      "Accuracy Score : 0.7313219967087219\n",
      "Classification Report\n",
      "              precision    recall  f1-score   support\n",
      "\n",
      "           0       0.87      0.76      0.82      7079\n",
      "           1       0.43      0.62      0.51      2036\n",
      "\n",
      "    accuracy                           0.73      9115\n",
      "   macro avg       0.65      0.69      0.66      9115\n",
      "weighted avg       0.77      0.73      0.75      9115\n",
      "\n"
     ]
    }
   ],
   "metadata": {}
  },
  {
   "cell_type": "code",
   "execution_count": 17,
   "source": [
    "# We can sort the features by their importance.\r\n",
    "sorted(zip(rf_model.feature_importances_, X.columns), reverse=True)\r\n"
   ],
   "outputs": [
    {
     "output_type": "execute_result",
     "data": {
      "text/plain": [
       "[(0.2644402337732209, 'AGE'),\n",
       " (0.17930321617725453, 'AMT_INCOME_TOTAL'),\n",
       " (0.17608245489915794, 'EMPLOYMENT_PERIOD'),\n",
       " (0.03318701149819786, 'CNT_FAM_MEMBERS'),\n",
       " (0.027623446674924713, 'FLAG_OWN_REALTY_Y'),\n",
       " (0.026687582649528835, 'CNT_CHILDREN'),\n",
       " (0.02510243027376391, 'NAME_INCOME_TYPE_Working'),\n",
       " (0.024362424284928016, 'CODE_GENDER_M'),\n",
       " (0.024265001584654375, 'FLAG_OWN_CAR_Y'),\n",
       " (0.014657715931111582, 'OCCUPATION_TYPE_No Occupation Type'),\n",
       " (0.014546113877179755, 'NAME_FAMILY_STATUS_Married'),\n",
       " (0.014060493322981139, 'NAME_EDUCATION_TYPE_Secondary / secondary special'),\n",
       " (0.013638445096537688, 'OCCUPATION_TYPE_Laborers'),\n",
       " (0.01312496463491489, 'NAME_EDUCATION_TYPE_Higher education'),\n",
       " (0.012464410297654256, 'OCCUPATION_TYPE_Core staff'),\n",
       " (0.011303186081648238, 'OCCUPATION_TYPE_Sales staff'),\n",
       " (0.01053817477520548, 'NAME_INCOME_TYPE_State servant'),\n",
       " (0.00989954367011294, 'NAME_FAMILY_STATUS_Single / not married'),\n",
       " (0.009891587066023066, 'OCCUPATION_TYPE_Managers'),\n",
       " (0.008921569234465031, 'NAME_HOUSING_TYPE_House / apartment'),\n",
       " (0.007973682273988918, 'OCCUPATION_TYPE_Drivers'),\n",
       " (0.007355331836264165, 'NAME_FAMILY_STATUS_Separated'),\n",
       " (0.007226906493861687, 'OCCUPATION_TYPE_High skill tech staff'),\n",
       " (0.006329770854326209, 'NAME_EDUCATION_TYPE_Incomplete higher'),\n",
       " (0.005556757533181616, 'NAME_HOUSING_TYPE_With parents'),\n",
       " (0.0053026235671780626, 'OCCUPATION_TYPE_Medicine staff'),\n",
       " (0.005046594002551983, 'NAME_HOUSING_TYPE_Municipal apartment'),\n",
       " (0.004813842866138909, 'NAME_FAMILY_STATUS_Widow'),\n",
       " (0.004592072171133132, 'OCCUPATION_TYPE_Cooking staff'),\n",
       " (0.004154687271954784, 'OCCUPATION_TYPE_Security staff'),\n",
       " (0.004004412886512524, 'NAME_INCOME_TYPE_Pensioner'),\n",
       " (0.0033500704257391567, 'OCCUPATION_TYPE_Private service staff'),\n",
       " (0.0032378888558040973, 'OCCUPATION_TYPE_Cleaning staff'),\n",
       " (0.0030911264500954752, 'NAME_HOUSING_TYPE_Rented apartment'),\n",
       " (0.0026914783065499224, 'NAME_EDUCATION_TYPE_Lower secondary'),\n",
       " (0.002435972192807497, 'OCCUPATION_TYPE_Waiters/barmen staff'),\n",
       " (0.0020032769246362122, 'NAME_HOUSING_TYPE_Office apartment'),\n",
       " (0.0018755522109159303, 'OCCUPATION_TYPE_Low-skill Laborers'),\n",
       " (0.0017368005437726252, 'OCCUPATION_TYPE_Secretaries'),\n",
       " (0.0012776590651888812, 'OCCUPATION_TYPE_Realty agents'),\n",
       " (0.0009092028837241143, 'OCCUPATION_TYPE_HR staff'),\n",
       " (0.0008340237806556156, 'OCCUPATION_TYPE_IT staff'),\n",
       " (0.0001002607995535129, 'NAME_INCOME_TYPE_Student')]"
      ]
     },
     "metadata": {},
     "execution_count": 17
    }
   ],
   "metadata": {}
  },
  {
   "cell_type": "markdown",
   "source": [
    "## Gradient Boosted Tree Model"
   ],
   "metadata": {}
  },
  {
   "cell_type": "code",
   "execution_count": 18,
   "source": [
    "learning_rates = [0.05, 0.1, 0.25, 0.5, 0.75, 1]\r\n",
    "for learning_rate in learning_rates:\r\n",
    "   classifier = GradientBoostingClassifier(n_estimators=20,\r\n",
    "   learning_rate=learning_rate,\r\n",
    "   max_features=5,\r\n",
    "   max_depth=3,\r\n",
    "   random_state=0)\r\n",
    "   classifier.fit(X_resampled, y_resampled)\r\n",
    "   print(\"Learning rate: \", learning_rate)\r\n",
    "   print(\"Accuracy score (training): {0:.3f}\".format(\r\n",
    "       classifier.score(\r\n",
    "           X_train_scaled,\r\n",
    "           y_train)))\r\n",
    "   print(\"Accuracy score (validation): {0:.3f}\".format(\r\n",
    "       classifier.score(\r\n",
    "           X_test_scaled,\r\n",
    "           y_test)))\r\n"
   ],
   "outputs": [
    {
     "output_type": "stream",
     "name": "stdout",
     "text": [
      "Learning rate:  0.05\n",
      "Accuracy score (training): 0.541\n",
      "Accuracy score (validation): 0.524\n",
      "Learning rate:  0.1\n",
      "Accuracy score (training): 0.547\n",
      "Accuracy score (validation): 0.531\n",
      "Learning rate:  0.25\n",
      "Accuracy score (training): 0.558\n",
      "Accuracy score (validation): 0.539\n",
      "Learning rate:  0.5\n",
      "Accuracy score (training): 0.574\n",
      "Accuracy score (validation): 0.556\n",
      "Learning rate:  0.75\n",
      "Accuracy score (training): 0.573\n",
      "Accuracy score (validation): 0.550\n",
      "Learning rate:  1\n",
      "Accuracy score (training): 0.593\n",
      "Accuracy score (validation): 0.576\n"
     ]
    }
   ],
   "metadata": {}
  },
  {
   "cell_type": "code",
   "execution_count": 19,
   "source": [
    "GB_classifier = GradientBoostingClassifier(n_estimators=20,\r\n",
    "   learning_rate=1, max_features=5, max_depth=3, random_state=0)\r\n",
    "\r\n",
    "GB_classifier.fit(X_resampled, y_resampled)\r\n",
    "predictions = GB_classifier.predict(X_test_scaled)\r\n",
    "\r\n",
    "cm = confusion_matrix(y_test, predictions)\r\n",
    "cm_df = pd.DataFrame(\r\n",
    "   cm, index=[\"Actual 0\", \"Actual 1\"],\r\n",
    "   columns=[\"Predicted 0\", \"Predicted 1\"]\r\n",
    ")\r\n",
    "acc_score = accuracy_score(y_test, predictions)\r\n",
    "\r\n",
    "# Displaying results\r\n",
    "print(\"Confusion Matrix\")\r\n",
    "display(cm_df)\r\n",
    "print(f\"Accuracy Score : {acc_score}\")\r\n",
    "print(\"Classification Report\")\r\n",
    "print(classification_report(y_test, predictions))\r\n"
   ],
   "outputs": [
    {
     "output_type": "stream",
     "name": "stdout",
     "text": [
      "Confusion Matrix\n"
     ]
    },
    {
     "output_type": "display_data",
     "data": {
      "text/html": [
       "<div>\n",
       "<style scoped>\n",
       "    .dataframe tbody tr th:only-of-type {\n",
       "        vertical-align: middle;\n",
       "    }\n",
       "\n",
       "    .dataframe tbody tr th {\n",
       "        vertical-align: top;\n",
       "    }\n",
       "\n",
       "    .dataframe thead th {\n",
       "        text-align: right;\n",
       "    }\n",
       "</style>\n",
       "<table border=\"1\" class=\"dataframe\">\n",
       "  <thead>\n",
       "    <tr style=\"text-align: right;\">\n",
       "      <th></th>\n",
       "      <th>Predicted 0</th>\n",
       "      <th>Predicted 1</th>\n",
       "    </tr>\n",
       "  </thead>\n",
       "  <tbody>\n",
       "    <tr>\n",
       "      <th>Actual 0</th>\n",
       "      <td>4261</td>\n",
       "      <td>2818</td>\n",
       "    </tr>\n",
       "    <tr>\n",
       "      <th>Actual 1</th>\n",
       "      <td>1046</td>\n",
       "      <td>990</td>\n",
       "    </tr>\n",
       "  </tbody>\n",
       "</table>\n",
       "</div>"
      ],
      "text/plain": [
       "          Predicted 0  Predicted 1\n",
       "Actual 0         4261         2818\n",
       "Actual 1         1046          990"
      ]
     },
     "metadata": {}
    },
    {
     "output_type": "stream",
     "name": "stdout",
     "text": [
      "Accuracy Score : 0.5760833790455293\n",
      "Classification Report\n",
      "              precision    recall  f1-score   support\n",
      "\n",
      "           0       0.80      0.60      0.69      7079\n",
      "           1       0.26      0.49      0.34      2036\n",
      "\n",
      "    accuracy                           0.58      9115\n",
      "   macro avg       0.53      0.54      0.51      9115\n",
      "weighted avg       0.68      0.58      0.61      9115\n",
      "\n"
     ]
    }
   ],
   "metadata": {}
  },
  {
   "cell_type": "markdown",
   "source": [
    "## Second Oversampling Technique: SMOTE"
   ],
   "metadata": {}
  },
  {
   "cell_type": "code",
   "execution_count": 20,
   "source": [
    "# Resample the training data with SMOTE\r\n",
    "from imblearn.over_sampling import SMOTE\r\n",
    "\r\n",
    "X_resampled, y_resampled = SMOTE(random_state=1, sampling_strategy='auto').fit_resample(X_train_scaled, y_train)\r\n",
    "Counter(y_resampled)\r\n"
   ],
   "outputs": [
    {
     "output_type": "execute_result",
     "data": {
      "text/plain": [
       "Counter({'STATUS_y': 1})"
      ]
     },
     "metadata": {},
     "execution_count": 20
    }
   ],
   "metadata": {}
  },
  {
   "cell_type": "markdown",
   "source": [
    "## Logistic Regression"
   ],
   "metadata": {}
  },
  {
   "cell_type": "code",
   "execution_count": 21,
   "source": [
    "# Train the Logistic Regression model using the resampled data\r\n",
    "log_model = LogisticRegression(solver='lbfgs', random_state=1)\r\n",
    "log_model.fit(X_resampled, y_resampled)"
   ],
   "outputs": [
    {
     "output_type": "execute_result",
     "data": {
      "text/plain": [
       "LogisticRegression(random_state=1)"
      ]
     },
     "metadata": {},
     "execution_count": 21
    }
   ],
   "metadata": {}
  },
  {
   "cell_type": "code",
   "execution_count": 22,
   "source": [
    "# Making predictions using the testing data.\r\n",
    "predictions = log_model.predict(X_test_scaled)\r\n",
    "\r\n",
    "# Calculated the accuracy score\r\n",
    "acc_score = accuracy_score(y_test, predictions)\r\n",
    "\r\n",
    "# Calculating the confusion matrix\r\n",
    "cm = confusion_matrix(y_test, predictions)\r\n",
    "\r\n",
    "# Create a DataFrame from the confusion matrix.\r\n",
    "cm_df = pd.DataFrame(\r\n",
    "    cm, index=[\"Actual 0\", \"Actual 1\"], columns=[\"Predicted 0\", \"Predicted 1\"])\r\n",
    "\r\n",
    "# Displaying results\r\n",
    "print(\"Confusion Matrix\")\r\n",
    "display(cm_df)\r\n",
    "print(f\"Accuracy Score : {acc_score}\")\r\n",
    "print(\"Classification Report\")\r\n",
    "print(classification_report(y_test, predictions))\r\n"
   ],
   "outputs": [
    {
     "output_type": "stream",
     "name": "stdout",
     "text": [
      "Confusion Matrix\n"
     ]
    },
    {
     "output_type": "display_data",
     "data": {
      "text/html": [
       "<div>\n",
       "<style scoped>\n",
       "    .dataframe tbody tr th:only-of-type {\n",
       "        vertical-align: middle;\n",
       "    }\n",
       "\n",
       "    .dataframe tbody tr th {\n",
       "        vertical-align: top;\n",
       "    }\n",
       "\n",
       "    .dataframe thead th {\n",
       "        text-align: right;\n",
       "    }\n",
       "</style>\n",
       "<table border=\"1\" class=\"dataframe\">\n",
       "  <thead>\n",
       "    <tr style=\"text-align: right;\">\n",
       "      <th></th>\n",
       "      <th>Predicted 0</th>\n",
       "      <th>Predicted 1</th>\n",
       "    </tr>\n",
       "  </thead>\n",
       "  <tbody>\n",
       "    <tr>\n",
       "      <th>Actual 0</th>\n",
       "      <td>3683</td>\n",
       "      <td>3396</td>\n",
       "    </tr>\n",
       "    <tr>\n",
       "      <th>Actual 1</th>\n",
       "      <td>1009</td>\n",
       "      <td>1027</td>\n",
       "    </tr>\n",
       "  </tbody>\n",
       "</table>\n",
       "</div>"
      ],
      "text/plain": [
       "          Predicted 0  Predicted 1\n",
       "Actual 0         3683         3396\n",
       "Actual 1         1009         1027"
      ]
     },
     "metadata": {}
    },
    {
     "output_type": "stream",
     "name": "stdout",
     "text": [
      "Accuracy Score : 0.5167306637410861\n",
      "Classification Report\n",
      "              precision    recall  f1-score   support\n",
      "\n",
      "           0       0.78      0.52      0.63      7079\n",
      "           1       0.23      0.50      0.32      2036\n",
      "\n",
      "    accuracy                           0.52      9115\n",
      "   macro avg       0.51      0.51      0.47      9115\n",
      "weighted avg       0.66      0.52      0.56      9115\n",
      "\n"
     ]
    }
   ],
   "metadata": {}
  },
  {
   "cell_type": "markdown",
   "source": [
    "## Decision Tree"
   ],
   "metadata": {}
  },
  {
   "cell_type": "code",
   "execution_count": 23,
   "source": [
    "# Creating the decision tree classifier instance.\r\n",
    "tree_model = tree.DecisionTreeClassifier()\r\n",
    "# Fitting the model.\r\n",
    "tree_model.fit(X_resampled, y_resampled)\r\n",
    "\r\n",
    "predictions = tree_model.predict(X_test_scaled)\r\n",
    "acc_score = accuracy_score(y_test, predictions)\r\n",
    "\r\n",
    "# Calculating the confusion matrix\r\n",
    "cm = confusion_matrix(y_test, predictions)\r\n",
    "\r\n",
    "# Create a DataFrame from the confusion matrix.\r\n",
    "cm_df = pd.DataFrame(\r\n",
    "    cm, index=[\"Actual 0\", \"Actual 1\"], columns=[\"Predicted 0\", \"Predicted 1\"])\r\n",
    "# Displaying results\r\n",
    "print(\"Confusion Matrix\")\r\n",
    "display(cm_df)\r\n",
    "print(f\"Accuracy Score : {acc_score}\")\r\n",
    "print(\"Classification Report\")\r\n",
    "print(classification_report(y_test, predictions))\r\n"
   ],
   "outputs": [
    {
     "output_type": "stream",
     "name": "stdout",
     "text": [
      "Confusion Matrix\n"
     ]
    },
    {
     "output_type": "display_data",
     "data": {
      "text/html": [
       "<div>\n",
       "<style scoped>\n",
       "    .dataframe tbody tr th:only-of-type {\n",
       "        vertical-align: middle;\n",
       "    }\n",
       "\n",
       "    .dataframe tbody tr th {\n",
       "        vertical-align: top;\n",
       "    }\n",
       "\n",
       "    .dataframe thead th {\n",
       "        text-align: right;\n",
       "    }\n",
       "</style>\n",
       "<table border=\"1\" class=\"dataframe\">\n",
       "  <thead>\n",
       "    <tr style=\"text-align: right;\">\n",
       "      <th></th>\n",
       "      <th>Predicted 0</th>\n",
       "      <th>Predicted 1</th>\n",
       "    </tr>\n",
       "  </thead>\n",
       "  <tbody>\n",
       "    <tr>\n",
       "      <th>Actual 0</th>\n",
       "      <td>5932</td>\n",
       "      <td>1147</td>\n",
       "    </tr>\n",
       "    <tr>\n",
       "      <th>Actual 1</th>\n",
       "      <td>995</td>\n",
       "      <td>1041</td>\n",
       "    </tr>\n",
       "  </tbody>\n",
       "</table>\n",
       "</div>"
      ],
      "text/plain": [
       "          Predicted 0  Predicted 1\n",
       "Actual 0         5932         1147\n",
       "Actual 1          995         1041"
      ]
     },
     "metadata": {}
    },
    {
     "output_type": "stream",
     "name": "stdout",
     "text": [
      "Accuracy Score : 0.7650027427317608\n",
      "Classification Report\n",
      "              precision    recall  f1-score   support\n",
      "\n",
      "           0       0.86      0.84      0.85      7079\n",
      "           1       0.48      0.51      0.49      2036\n",
      "\n",
      "    accuracy                           0.77      9115\n",
      "   macro avg       0.67      0.67      0.67      9115\n",
      "weighted avg       0.77      0.77      0.77      9115\n",
      "\n"
     ]
    }
   ],
   "metadata": {}
  },
  {
   "cell_type": "markdown",
   "source": [
    "## Random Forest Model"
   ],
   "metadata": {}
  },
  {
   "cell_type": "code",
   "execution_count": 24,
   "source": [
    "## Random Forest\r\n",
    "# Create a random forest classifier.\r\n",
    "rf_model = RandomForestClassifier(n_estimators=128) \r\n",
    "# Fitting the model\r\n",
    "rf_model = rf_model.fit(X_resampled, y_resampled)\r\n",
    "\r\n",
    "# Making predictions using the testing data.\r\n",
    "predictions = rf_model.predict(X_test_scaled)\r\n",
    "\r\n",
    "# Calculating the accuracy score.\r\n",
    "acc_score = accuracy_score(y_test, predictions)\r\n",
    "\r\n",
    "# Calculating the confusion matrix.\r\n",
    "cm = confusion_matrix(y_test, predictions)\r\n",
    "\r\n",
    "# Create a DataFrame from the confusion matrix.\r\n",
    "cm_df = pd.DataFrame(\r\n",
    "    cm, index=[\"Actual 0\", \"Actual 1\"], columns=[\"Predicted 0\", \"Predicted 1\"])\r\n",
    "\r\n",
    "\r\n",
    "# Displaying results\r\n",
    "print(\"Confusion Matrix\")\r\n",
    "display(cm_df)\r\n",
    "print(f\"Accuracy Score : {acc_score}\")\r\n",
    "print(\"Classification Report\")\r\n",
    "print(classification_report(y_test, predictions))\r\n",
    "\r\n",
    "\r\n",
    "# We can sort the features by their importance.\r\n",
    "sorted(zip(rf_model.feature_importances_, X.columns), reverse=True)\r\n"
   ],
   "outputs": [
    {
     "output_type": "stream",
     "name": "stdout",
     "text": [
      "Confusion Matrix\n"
     ]
    },
    {
     "output_type": "display_data",
     "data": {
      "text/html": [
       "<div>\n",
       "<style scoped>\n",
       "    .dataframe tbody tr th:only-of-type {\n",
       "        vertical-align: middle;\n",
       "    }\n",
       "\n",
       "    .dataframe tbody tr th {\n",
       "        vertical-align: top;\n",
       "    }\n",
       "\n",
       "    .dataframe thead th {\n",
       "        text-align: right;\n",
       "    }\n",
       "</style>\n",
       "<table border=\"1\" class=\"dataframe\">\n",
       "  <thead>\n",
       "    <tr style=\"text-align: right;\">\n",
       "      <th></th>\n",
       "      <th>Predicted 0</th>\n",
       "      <th>Predicted 1</th>\n",
       "    </tr>\n",
       "  </thead>\n",
       "  <tbody>\n",
       "    <tr>\n",
       "      <th>Actual 0</th>\n",
       "      <td>5981</td>\n",
       "      <td>1098</td>\n",
       "    </tr>\n",
       "    <tr>\n",
       "      <th>Actual 1</th>\n",
       "      <td>973</td>\n",
       "      <td>1063</td>\n",
       "    </tr>\n",
       "  </tbody>\n",
       "</table>\n",
       "</div>"
      ],
      "text/plain": [
       "          Predicted 0  Predicted 1\n",
       "Actual 0         5981         1098\n",
       "Actual 1          973         1063"
      ]
     },
     "metadata": {}
    },
    {
     "output_type": "stream",
     "name": "stdout",
     "text": [
      "Accuracy Score : 0.7727921009325288\n",
      "Classification Report\n",
      "              precision    recall  f1-score   support\n",
      "\n",
      "           0       0.86      0.84      0.85      7079\n",
      "           1       0.49      0.52      0.51      2036\n",
      "\n",
      "    accuracy                           0.77      9115\n",
      "   macro avg       0.68      0.68      0.68      9115\n",
      "weighted avg       0.78      0.77      0.78      9115\n",
      "\n"
     ]
    },
    {
     "output_type": "execute_result",
     "data": {
      "text/plain": [
       "[(0.2414271305165444, 'AGE'),\n",
       " (0.19323825085000354, 'AMT_INCOME_TOTAL'),\n",
       " (0.15689303307759755, 'EMPLOYMENT_PERIOD'),\n",
       " (0.036181568642070304, 'CNT_FAM_MEMBERS'),\n",
       " (0.034838137769655414, 'CNT_CHILDREN'),\n",
       " (0.03101211615182868, 'FLAG_OWN_REALTY_Y'),\n",
       " (0.030763565386238305, 'FLAG_OWN_CAR_Y'),\n",
       " (0.0291536367012491, 'NAME_INCOME_TYPE_Working'),\n",
       " (0.026184563490192995, 'CODE_GENDER_M'),\n",
       " (0.0202196821934919, 'NAME_FAMILY_STATUS_Married'),\n",
       " (0.01577692672344784, 'NAME_EDUCATION_TYPE_Secondary / secondary special'),\n",
       " (0.014924307790380129, 'NAME_EDUCATION_TYPE_Higher education'),\n",
       " (0.014878845339820685, 'OCCUPATION_TYPE_No Occupation Type'),\n",
       " (0.013655826349676476, 'OCCUPATION_TYPE_Laborers'),\n",
       " (0.011831049845456711, 'OCCUPATION_TYPE_Core staff'),\n",
       " (0.011723546660751096, 'OCCUPATION_TYPE_Sales staff'),\n",
       " (0.009796947865996912, 'NAME_HOUSING_TYPE_House / apartment'),\n",
       " (0.009771116330248358, 'NAME_FAMILY_STATUS_Single / not married'),\n",
       " (0.009767209884515777, 'OCCUPATION_TYPE_Managers'),\n",
       " (0.00954731468678385, 'NAME_INCOME_TYPE_State servant'),\n",
       " (0.0075987519792596265, 'OCCUPATION_TYPE_Drivers'),\n",
       " (0.0070142913791007774, 'OCCUPATION_TYPE_High skill tech staff'),\n",
       " (0.006968132498467087, 'NAME_FAMILY_STATUS_Separated'),\n",
       " (0.005869834752855007, 'NAME_EDUCATION_TYPE_Incomplete higher'),\n",
       " (0.005190196371418393, 'NAME_HOUSING_TYPE_With parents'),\n",
       " (0.00513934047183055, 'OCCUPATION_TYPE_Medicine staff'),\n",
       " (0.004720943366542682, 'NAME_HOUSING_TYPE_Municipal apartment'),\n",
       " (0.0043664474372460335, 'NAME_FAMILY_STATUS_Widow'),\n",
       " (0.004269049475884723, 'OCCUPATION_TYPE_Cooking staff'),\n",
       " (0.003574303353992072, 'OCCUPATION_TYPE_Security staff'),\n",
       " (0.0033974621402598324, 'NAME_INCOME_TYPE_Pensioner'),\n",
       " (0.0031948972573124894, 'OCCUPATION_TYPE_Private service staff'),\n",
       " (0.0030241247597932, 'OCCUPATION_TYPE_Cleaning staff'),\n",
       " (0.0028827220024177373, 'NAME_HOUSING_TYPE_Rented apartment'),\n",
       " (0.0022939155055265335, 'NAME_EDUCATION_TYPE_Lower secondary'),\n",
       " (0.002113855997082041, 'OCCUPATION_TYPE_Waiters/barmen staff'),\n",
       " (0.001709772349823421, 'OCCUPATION_TYPE_Low-skill Laborers'),\n",
       " (0.0015510276478222303, 'NAME_HOUSING_TYPE_Office apartment'),\n",
       " (0.001335516583656542, 'OCCUPATION_TYPE_Secretaries'),\n",
       " (0.0008067803014029113, 'OCCUPATION_TYPE_HR staff'),\n",
       " (0.0008027349023536271, 'OCCUPATION_TYPE_Realty agents'),\n",
       " (0.0005310884933017958, 'OCCUPATION_TYPE_IT staff'),\n",
       " (6.003471670076545e-05, 'NAME_INCOME_TYPE_Student')]"
      ]
     },
     "metadata": {},
     "execution_count": 24
    }
   ],
   "metadata": {}
  },
  {
   "cell_type": "code",
   "execution_count": 25,
   "source": [
    "# # Import pickle library\r\n",
    "# import pickle\r\n",
    "\r\n",
    "# # save the model to disk\r\n",
    "# filename = 'randomForest_SMOTE.sav'\r\n",
    "# pickle.dump(rf_model, open(filename, 'wb'))\r\n"
   ],
   "outputs": [],
   "metadata": {}
  },
  {
   "cell_type": "markdown",
   "source": [
    "## Gradient Boost Tree"
   ],
   "metadata": {}
  },
  {
   "cell_type": "code",
   "execution_count": 26,
   "source": [
    "## Gradient Boot Tree\r\n",
    "learning_rates = [0.05, 0.1, 0.25, 0.5, 0.75, 1]\r\n",
    "for learning_rate in learning_rates:\r\n",
    "   classifier = GradientBoostingClassifier(n_estimators=20,\r\n",
    "   learning_rate=learning_rate,\r\n",
    "   max_features=5,\r\n",
    "   max_depth=3,\r\n",
    "   random_state=0)\r\n",
    "   classifier.fit(X_resampled, y_resampled)\r\n",
    "   print(\"Learning rate: \", learning_rate)\r\n",
    "   print(\"Accuracy score (training): {0:.3f}\".format(\r\n",
    "       classifier.score(\r\n",
    "           X_train_scaled,\r\n",
    "           y_train)))\r\n",
    "   print(\"Accuracy score (validation): {0:.3f}\".format(\r\n",
    "       classifier.score(\r\n",
    "           X_test_scaled,\r\n",
    "           y_test)))"
   ],
   "outputs": [
    {
     "output_type": "stream",
     "name": "stdout",
     "text": [
      "Learning rate:  0.05\n",
      "Accuracy score (training): 0.576\n",
      "Accuracy score (validation): 0.564\n",
      "Learning rate:  0.1\n",
      "Accuracy score (training): 0.572\n",
      "Accuracy score (validation): 0.552\n",
      "Learning rate:  0.25\n",
      "Accuracy score (training): 0.598\n",
      "Accuracy score (validation): 0.578\n",
      "Learning rate:  0.5\n",
      "Accuracy score (training): 0.605\n",
      "Accuracy score (validation): 0.581\n",
      "Learning rate:  0.75\n",
      "Accuracy score (training): 0.612\n",
      "Accuracy score (validation): 0.584\n",
      "Learning rate:  1\n",
      "Accuracy score (training): 0.619\n",
      "Accuracy score (validation): 0.598\n"
     ]
    }
   ],
   "metadata": {}
  },
  {
   "cell_type": "code",
   "execution_count": 27,
   "source": [
    "GB_classifier = GradientBoostingClassifier(n_estimators=20,\r\n",
    "   learning_rate=0.75, max_features=5, max_depth=3, random_state=0)\r\n",
    "\r\n",
    "GB_classifier.fit(X_resampled, y_resampled)\r\n",
    "predictions = GB_classifier.predict(X_test_scaled)\r\n",
    "cm = confusion_matrix(y_test, predictions)\r\n",
    "cm_df = pd.DataFrame(\r\n",
    "   cm, index=[\"Actual 0\", \"Actual 1\"],\r\n",
    "   columns=[\"Predicted 0\", \"Predicted 1\"]\r\n",
    ")\r\n",
    "acc_score = accuracy_score(y_test, predictions)\r\n",
    "# Displaying results\r\n",
    "print(\"Confusion Matrix\")\r\n",
    "display(cm_df)\r\n",
    "print(f\"Accuracy Score : {acc_score}\")\r\n",
    "print(\"Classification Report\")\r\n",
    "print(classification_report(y_test, predictions))\r\n"
   ],
   "outputs": [
    {
     "output_type": "stream",
     "name": "stdout",
     "text": [
      "Confusion Matrix\n"
     ]
    },
    {
     "output_type": "display_data",
     "data": {
      "text/html": [
       "<div>\n",
       "<style scoped>\n",
       "    .dataframe tbody tr th:only-of-type {\n",
       "        vertical-align: middle;\n",
       "    }\n",
       "\n",
       "    .dataframe tbody tr th {\n",
       "        vertical-align: top;\n",
       "    }\n",
       "\n",
       "    .dataframe thead th {\n",
       "        text-align: right;\n",
       "    }\n",
       "</style>\n",
       "<table border=\"1\" class=\"dataframe\">\n",
       "  <thead>\n",
       "    <tr style=\"text-align: right;\">\n",
       "      <th></th>\n",
       "      <th>Predicted 0</th>\n",
       "      <th>Predicted 1</th>\n",
       "    </tr>\n",
       "  </thead>\n",
       "  <tbody>\n",
       "    <tr>\n",
       "      <th>Actual 0</th>\n",
       "      <td>4490</td>\n",
       "      <td>2589</td>\n",
       "    </tr>\n",
       "    <tr>\n",
       "      <th>Actual 1</th>\n",
       "      <td>1199</td>\n",
       "      <td>837</td>\n",
       "    </tr>\n",
       "  </tbody>\n",
       "</table>\n",
       "</div>"
      ],
      "text/plain": [
       "          Predicted 0  Predicted 1\n",
       "Actual 0         4490         2589\n",
       "Actual 1         1199          837"
      ]
     },
     "metadata": {}
    },
    {
     "output_type": "stream",
     "name": "stdout",
     "text": [
      "Accuracy Score : 0.5844212835984641\n",
      "Classification Report\n",
      "              precision    recall  f1-score   support\n",
      "\n",
      "           0       0.79      0.63      0.70      7079\n",
      "           1       0.24      0.41      0.31      2036\n",
      "\n",
      "    accuracy                           0.58      9115\n",
      "   macro avg       0.52      0.52      0.50      9115\n",
      "weighted avg       0.67      0.58      0.61      9115\n",
      "\n"
     ]
    }
   ],
   "metadata": {}
  },
  {
   "cell_type": "markdown",
   "source": [
    "## First Undersampling Technique: ClusterCentroids"
   ],
   "metadata": {}
  },
  {
   "cell_type": "code",
   "execution_count": 28,
   "source": [
    "# Resample the data using the ClusterCentroids resampler\r\n",
    "from imblearn.under_sampling import ClusterCentroids\r\n",
    "cc = ClusterCentroids(random_state=1)\r\n",
    "X_resampled, y_resampled = cc.fit_resample(X_train_scaled, y_train)\r\n",
    "Counter(y_resampled)"
   ],
   "outputs": [
    {
     "output_type": "execute_result",
     "data": {
      "text/plain": [
       "Counter({'STATUS_y': 1})"
      ]
     },
     "metadata": {},
     "execution_count": 28
    }
   ],
   "metadata": {}
  },
  {
   "cell_type": "markdown",
   "source": [
    "## Logistic Regression Model"
   ],
   "metadata": {}
  },
  {
   "cell_type": "code",
   "execution_count": 29,
   "source": [
    "# Train the Logistic Regression model using the resampled data\r\n",
    "model_under = LogisticRegression(solver='lbfgs', random_state=1)\r\n",
    "model_under.fit(X_resampled, y_resampled)\r\n"
   ],
   "outputs": [
    {
     "output_type": "execute_result",
     "data": {
      "text/plain": [
       "LogisticRegression(random_state=1)"
      ]
     },
     "metadata": {},
     "execution_count": 29
    }
   ],
   "metadata": {}
  },
  {
   "cell_type": "code",
   "execution_count": 30,
   "source": [
    "# Making predictions using the testing data.\r\n",
    "y_pred = model_under.predict(X_test_scaled)\r\n",
    "\r\n",
    "# Calculated the accuracy score\r\n",
    "acc_score = accuracy_score(y_test, y_pred)\r\n",
    "\r\n",
    "# Display the confusion matrix\r\n",
    "cm = confusion_matrix(y_test, y_pred)\r\n",
    "\r\n",
    "# Create df for confusion matrix\r\n",
    "cm_df = pd.DataFrame(\r\n",
    "    cm, index=[\"Actual High Risk\", \"Actual Low Risk\"], columns=[\"Predicted High Risk\", \"Predicted Low Risk\"])\r\n",
    "\r\n",
    "# Displaying results\r\n",
    "print(\"Undersampling\")\r\n",
    "display(cm_df)\r\n",
    "print(f\"Accuracy Score : {acc_score}\")\r\n",
    "print(classification_report(y_test, y_pred))"
   ],
   "outputs": [
    {
     "output_type": "stream",
     "name": "stdout",
     "text": [
      "Undersampling\n"
     ]
    },
    {
     "output_type": "display_data",
     "data": {
      "text/html": [
       "<div>\n",
       "<style scoped>\n",
       "    .dataframe tbody tr th:only-of-type {\n",
       "        vertical-align: middle;\n",
       "    }\n",
       "\n",
       "    .dataframe tbody tr th {\n",
       "        vertical-align: top;\n",
       "    }\n",
       "\n",
       "    .dataframe thead th {\n",
       "        text-align: right;\n",
       "    }\n",
       "</style>\n",
       "<table border=\"1\" class=\"dataframe\">\n",
       "  <thead>\n",
       "    <tr style=\"text-align: right;\">\n",
       "      <th></th>\n",
       "      <th>Predicted High Risk</th>\n",
       "      <th>Predicted Low Risk</th>\n",
       "    </tr>\n",
       "  </thead>\n",
       "  <tbody>\n",
       "    <tr>\n",
       "      <th>Actual High Risk</th>\n",
       "      <td>3654</td>\n",
       "      <td>3425</td>\n",
       "    </tr>\n",
       "    <tr>\n",
       "      <th>Actual Low Risk</th>\n",
       "      <td>1014</td>\n",
       "      <td>1022</td>\n",
       "    </tr>\n",
       "  </tbody>\n",
       "</table>\n",
       "</div>"
      ],
      "text/plain": [
       "                  Predicted High Risk  Predicted Low Risk\n",
       "Actual High Risk                 3654                3425\n",
       "Actual Low Risk                  1014                1022"
      ]
     },
     "metadata": {}
    },
    {
     "output_type": "stream",
     "name": "stdout",
     "text": [
      "Accuracy Score : 0.5130005485463521\n",
      "              precision    recall  f1-score   support\n",
      "\n",
      "           0       0.78      0.52      0.62      7079\n",
      "           1       0.23      0.50      0.32      2036\n",
      "\n",
      "    accuracy                           0.51      9115\n",
      "   macro avg       0.51      0.51      0.47      9115\n",
      "weighted avg       0.66      0.51      0.55      9115\n",
      "\n"
     ]
    }
   ],
   "metadata": {}
  },
  {
   "cell_type": "markdown",
   "source": [
    "## Decision Tree Model"
   ],
   "metadata": {}
  },
  {
   "cell_type": "code",
   "execution_count": 31,
   "source": [
    "## Decision Tree\r\n",
    "# Creating the decision tree classifier instance.\r\n",
    "tree_model = tree.DecisionTreeClassifier()\r\n",
    "# Fitting the model.\r\n",
    "tree_model.fit(X_resampled, y_resampled)\r\n",
    "\r\n",
    "predictions = tree_model.predict(X_test_scaled)\r\n",
    "acc_score = accuracy_score(y_test, predictions)\r\n",
    "\r\n",
    "# Display the confusion matrix\r\n",
    "# Calculating the confusion matrix\r\n",
    "cm = confusion_matrix(y_test, predictions)\r\n",
    "\r\n",
    "# Create a DataFrame from the confusion matrix.\r\n",
    "cm_df = pd.DataFrame(\r\n",
    "    cm, index=[\"Actual 0\", \"Actual 1\"], columns=[\"Predicted 0\", \"Predicted 1\"])\r\n",
    "# Displaying results\r\n",
    "print(\"Confusion Matrix\")\r\n",
    "display(cm_df)\r\n",
    "print(f\"Accuracy Score : {acc_score}\")\r\n",
    "print(\"Classification Report\")\r\n",
    "print(classification_report(y_test, predictions))"
   ],
   "outputs": [
    {
     "output_type": "stream",
     "name": "stdout",
     "text": [
      "Confusion Matrix\n"
     ]
    },
    {
     "output_type": "display_data",
     "data": {
      "text/html": [
       "<div>\n",
       "<style scoped>\n",
       "    .dataframe tbody tr th:only-of-type {\n",
       "        vertical-align: middle;\n",
       "    }\n",
       "\n",
       "    .dataframe tbody tr th {\n",
       "        vertical-align: top;\n",
       "    }\n",
       "\n",
       "    .dataframe thead th {\n",
       "        text-align: right;\n",
       "    }\n",
       "</style>\n",
       "<table border=\"1\" class=\"dataframe\">\n",
       "  <thead>\n",
       "    <tr style=\"text-align: right;\">\n",
       "      <th></th>\n",
       "      <th>Predicted 0</th>\n",
       "      <th>Predicted 1</th>\n",
       "    </tr>\n",
       "  </thead>\n",
       "  <tbody>\n",
       "    <tr>\n",
       "      <th>Actual 0</th>\n",
       "      <td>4810</td>\n",
       "      <td>2269</td>\n",
       "    </tr>\n",
       "    <tr>\n",
       "      <th>Actual 1</th>\n",
       "      <td>699</td>\n",
       "      <td>1337</td>\n",
       "    </tr>\n",
       "  </tbody>\n",
       "</table>\n",
       "</div>"
      ],
      "text/plain": [
       "          Predicted 0  Predicted 1\n",
       "Actual 0         4810         2269\n",
       "Actual 1          699         1337"
      ]
     },
     "metadata": {}
    },
    {
     "output_type": "stream",
     "name": "stdout",
     "text": [
      "Accuracy Score : 0.6743828853538124\n",
      "Classification Report\n",
      "              precision    recall  f1-score   support\n",
      "\n",
      "           0       0.87      0.68      0.76      7079\n",
      "           1       0.37      0.66      0.47      2036\n",
      "\n",
      "    accuracy                           0.67      9115\n",
      "   macro avg       0.62      0.67      0.62      9115\n",
      "weighted avg       0.76      0.67      0.70      9115\n",
      "\n"
     ]
    }
   ],
   "metadata": {}
  },
  {
   "cell_type": "markdown",
   "source": [
    "## Random Forest Model"
   ],
   "metadata": {}
  },
  {
   "cell_type": "code",
   "execution_count": 32,
   "source": [
    "## Random Forest\r\n",
    "# Create a random forest classifier.\r\n",
    "rf_model = RandomForestClassifier(n_estimators=128) \r\n",
    "# Fitting the model\r\n",
    "rf_model = rf_model.fit(X_resampled, y_resampled)\r\n",
    "\r\n",
    "# Making predictions using the testing data.\r\n",
    "predictions = rf_model.predict(X_test_scaled)\r\n",
    "\r\n",
    "# Calculating the confusion matrix.\r\n",
    "cm = confusion_matrix(y_test, predictions)\r\n",
    "\r\n",
    "# Create a DataFrame from the confusion matrix.\r\n",
    "cm_df = pd.DataFrame(\r\n",
    "    cm, index=[\"Actual 0\", \"Actual 1\"], columns=[\"Predicted 0\", \"Predicted 1\"])\r\n",
    "\r\n",
    "# Calculating the accuracy score.\r\n",
    "acc_score = accuracy_score(y_test, predictions)\r\n",
    "# Displaying results\r\n",
    "print(\"Confusion Matrix\")\r\n",
    "display(cm_df)\r\n",
    "print(f\"Accuracy Score : {acc_score}\")\r\n",
    "print(\"Classification Report\")\r\n",
    "print(classification_report(y_test, predictions))\r\n",
    "\r\n",
    "# We can sort the features by their importance.\r\n",
    "sorted(zip(rf_model.feature_importances_, X.columns), reverse=True)\r\n",
    "\r\n"
   ],
   "outputs": [
    {
     "output_type": "stream",
     "name": "stdout",
     "text": [
      "Confusion Matrix\n"
     ]
    },
    {
     "output_type": "display_data",
     "data": {
      "text/html": [
       "<div>\n",
       "<style scoped>\n",
       "    .dataframe tbody tr th:only-of-type {\n",
       "        vertical-align: middle;\n",
       "    }\n",
       "\n",
       "    .dataframe tbody tr th {\n",
       "        vertical-align: top;\n",
       "    }\n",
       "\n",
       "    .dataframe thead th {\n",
       "        text-align: right;\n",
       "    }\n",
       "</style>\n",
       "<table border=\"1\" class=\"dataframe\">\n",
       "  <thead>\n",
       "    <tr style=\"text-align: right;\">\n",
       "      <th></th>\n",
       "      <th>Predicted 0</th>\n",
       "      <th>Predicted 1</th>\n",
       "    </tr>\n",
       "  </thead>\n",
       "  <tbody>\n",
       "    <tr>\n",
       "      <th>Actual 0</th>\n",
       "      <td>4810</td>\n",
       "      <td>2269</td>\n",
       "    </tr>\n",
       "    <tr>\n",
       "      <th>Actual 1</th>\n",
       "      <td>690</td>\n",
       "      <td>1346</td>\n",
       "    </tr>\n",
       "  </tbody>\n",
       "</table>\n",
       "</div>"
      ],
      "text/plain": [
       "          Predicted 0  Predicted 1\n",
       "Actual 0         4810         2269\n",
       "Actual 1          690         1346"
      ]
     },
     "metadata": {}
    },
    {
     "output_type": "stream",
     "name": "stdout",
     "text": [
      "Accuracy Score : 0.6753702687877126\n",
      "Classification Report\n",
      "              precision    recall  f1-score   support\n",
      "\n",
      "           0       0.87      0.68      0.76      7079\n",
      "           1       0.37      0.66      0.48      2036\n",
      "\n",
      "    accuracy                           0.68      9115\n",
      "   macro avg       0.62      0.67      0.62      9115\n",
      "weighted avg       0.76      0.68      0.70      9115\n",
      "\n"
     ]
    },
    {
     "output_type": "execute_result",
     "data": {
      "text/plain": [
       "[(0.23686407625280734, 'AGE'),\n",
       " (0.18525961429438353, 'AMT_INCOME_TOTAL'),\n",
       " (0.18399300657100465, 'EMPLOYMENT_PERIOD'),\n",
       " (0.03415894625022409, 'CNT_FAM_MEMBERS'),\n",
       " (0.028913915709783022, 'FLAG_OWN_CAR_Y'),\n",
       " (0.027111531871883674, 'CNT_CHILDREN'),\n",
       " (0.02440135195035264, 'CODE_GENDER_M'),\n",
       " (0.023478460513502514, 'FLAG_OWN_REALTY_Y'),\n",
       " (0.020645934114714395, 'NAME_INCOME_TYPE_Working'),\n",
       " (0.01822471108253514, 'NAME_FAMILY_STATUS_Married'),\n",
       " (0.01585358490086493, 'NAME_EDUCATION_TYPE_Secondary / secondary special'),\n",
       " (0.015434831168523677, 'NAME_EDUCATION_TYPE_Higher education'),\n",
       " (0.013240038732775334, 'OCCUPATION_TYPE_No Occupation Type'),\n",
       " (0.012876199531768818, 'OCCUPATION_TYPE_Laborers'),\n",
       " (0.012648192854890746, 'NAME_HOUSING_TYPE_House / apartment'),\n",
       " (0.011690703080955557, 'OCCUPATION_TYPE_Core staff'),\n",
       " (0.011147706270873307, 'NAME_INCOME_TYPE_State servant'),\n",
       " (0.010714098716313783, 'NAME_FAMILY_STATUS_Single / not married'),\n",
       " (0.01024500473870663, 'OCCUPATION_TYPE_Sales staff'),\n",
       " (0.009526957930563263, 'OCCUPATION_TYPE_Managers'),\n",
       " (0.008242167684226372, 'NAME_FAMILY_STATUS_Separated'),\n",
       " (0.0069818208020487, 'OCCUPATION_TYPE_Drivers'),\n",
       " (0.006958221554311442, 'NAME_EDUCATION_TYPE_Incomplete higher'),\n",
       " (0.006931211501094158, 'NAME_HOUSING_TYPE_With parents'),\n",
       " (0.006852346456545021, 'OCCUPATION_TYPE_High skill tech staff'),\n",
       " (0.006302035097380201, 'NAME_HOUSING_TYPE_Municipal apartment'),\n",
       " (0.006282400136944036, 'NAME_INCOME_TYPE_Pensioner'),\n",
       " (0.005314121297893863, 'OCCUPATION_TYPE_Medicine staff'),\n",
       " (0.005156103572431616, 'NAME_FAMILY_STATUS_Widow'),\n",
       " (0.004615895547631309, 'OCCUPATION_TYPE_Cooking staff'),\n",
       " (0.0043680314018245976, 'NAME_HOUSING_TYPE_Rented apartment'),\n",
       " (0.0036758782088853995, 'OCCUPATION_TYPE_Security staff'),\n",
       " (0.0034950879332232656, 'OCCUPATION_TYPE_Cleaning staff'),\n",
       " (0.0033587608442111616, 'OCCUPATION_TYPE_Private service staff'),\n",
       " (0.003155165820312995, 'NAME_EDUCATION_TYPE_Lower secondary'),\n",
       " (0.0023789844971387666, 'OCCUPATION_TYPE_Waiters/barmen staff'),\n",
       " (0.0023240158058718276, 'NAME_HOUSING_TYPE_Office apartment'),\n",
       " (0.0022454592778655778, 'OCCUPATION_TYPE_Low-skill Laborers'),\n",
       " (0.0017880896285644371, 'OCCUPATION_TYPE_Secretaries'),\n",
       " (0.001154468727516088, 'OCCUPATION_TYPE_HR staff'),\n",
       " (0.0010609758364440798, 'OCCUPATION_TYPE_Realty agents'),\n",
       " (0.0008346391825264612, 'OCCUPATION_TYPE_IT staff'),\n",
       " (9.525264768158266e-05, 'NAME_INCOME_TYPE_Student')]"
      ]
     },
     "metadata": {},
     "execution_count": 32
    }
   ],
   "metadata": {}
  },
  {
   "cell_type": "markdown",
   "source": [
    "## First Combination (Over and Under) Sampling Technique: SMOTEENN"
   ],
   "metadata": {}
  },
  {
   "cell_type": "markdown",
   "source": [
    "# Resample the training data with SMOTEENN\r\n",
    "from imblearn.combine import SMOTEENN\r\n",
    "\r\n",
    "smote_enn = SMOTEENN(random_state=1)\r\n",
    "X_resampled, y_resampled = smote_enn.fit_resample(X_train_scaled,y_train)\r\n",
    "Counter(y_resampled)"
   ],
   "metadata": {}
  },
  {
   "cell_type": "markdown",
   "source": [
    "## Logistic Regression Model"
   ],
   "metadata": {}
  },
  {
   "cell_type": "code",
   "execution_count": 33,
   "source": [
    "# Train the Logistic Regression model using the resampled data\r\n",
    "model_comb = LogisticRegression(solver='lbfgs', random_state=1)\r\n",
    "model_comb.fit(X_resampled, y_resampled)\r\n",
    "\r\n",
    "y_pred = model_comb.predict(X_test_scaled)\r\n",
    "\r\n",
    "acc_score = accuracy_score(y_test, y_pred)\r\n",
    "\r\n",
    "# Display the confusion matrix\r\n",
    "cm = confusion_matrix(y_test, y_pred)\r\n",
    "\r\n",
    "# Create df for confusion matrix\r\n",
    "cm_df = pd.DataFrame(\r\n",
    "    cm, index=[\"Actual High Risk\", \"Actual Low Risk\"], columns=[\"Predicted High Risk\", \"Predicted Low Risk\"])\r\n",
    "\r\n",
    "# Print the imbalanced classification report\r\n",
    "print(\"Combination (Over and Under) Sampling\")\r\n",
    "display(cm_df)\r\n",
    "print(f\"Accuracy Score : {acc_score}\")\r\n",
    "print(classification_report(y_test, y_pred))\r\n"
   ],
   "outputs": [
    {
     "output_type": "stream",
     "name": "stdout",
     "text": [
      "Combination (Over and Under) Sampling\n"
     ]
    },
    {
     "output_type": "display_data",
     "data": {
      "text/html": [
       "<div>\n",
       "<style scoped>\n",
       "    .dataframe tbody tr th:only-of-type {\n",
       "        vertical-align: middle;\n",
       "    }\n",
       "\n",
       "    .dataframe tbody tr th {\n",
       "        vertical-align: top;\n",
       "    }\n",
       "\n",
       "    .dataframe thead th {\n",
       "        text-align: right;\n",
       "    }\n",
       "</style>\n",
       "<table border=\"1\" class=\"dataframe\">\n",
       "  <thead>\n",
       "    <tr style=\"text-align: right;\">\n",
       "      <th></th>\n",
       "      <th>Predicted High Risk</th>\n",
       "      <th>Predicted Low Risk</th>\n",
       "    </tr>\n",
       "  </thead>\n",
       "  <tbody>\n",
       "    <tr>\n",
       "      <th>Actual High Risk</th>\n",
       "      <td>3654</td>\n",
       "      <td>3425</td>\n",
       "    </tr>\n",
       "    <tr>\n",
       "      <th>Actual Low Risk</th>\n",
       "      <td>1014</td>\n",
       "      <td>1022</td>\n",
       "    </tr>\n",
       "  </tbody>\n",
       "</table>\n",
       "</div>"
      ],
      "text/plain": [
       "                  Predicted High Risk  Predicted Low Risk\n",
       "Actual High Risk                 3654                3425\n",
       "Actual Low Risk                  1014                1022"
      ]
     },
     "metadata": {}
    },
    {
     "output_type": "stream",
     "name": "stdout",
     "text": [
      "Accuracy Score : 0.5130005485463521\n",
      "              precision    recall  f1-score   support\n",
      "\n",
      "           0       0.78      0.52      0.62      7079\n",
      "           1       0.23      0.50      0.32      2036\n",
      "\n",
      "    accuracy                           0.51      9115\n",
      "   macro avg       0.51      0.51      0.47      9115\n",
      "weighted avg       0.66      0.51      0.55      9115\n",
      "\n"
     ]
    }
   ],
   "metadata": {}
  }
 ],
 "metadata": {
  "orig_nbformat": 4,
  "language_info": {
   "name": "python",
   "version": "3.7.10",
   "mimetype": "text/x-python",
   "codemirror_mode": {
    "name": "ipython",
    "version": 3
   },
   "pygments_lexer": "ipython3",
   "nbconvert_exporter": "python",
   "file_extension": ".py"
  },
  "kernelspec": {
   "name": "python3",
   "display_name": "Python 3.7.10 64-bit ('mlenv': conda)"
  },
  "interpreter": {
   "hash": "d3d69a7e49531545e4a045ccba3269a9ab79e5c7d2e2c2f2e1b5eb667026ccb9"
  }
 },
 "nbformat": 4,
 "nbformat_minor": 2
}