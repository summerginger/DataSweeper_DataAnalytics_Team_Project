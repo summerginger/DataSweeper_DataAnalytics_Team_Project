{
 "cells": [
  {
   "cell_type": "code",
   "execution_count": 1,
   "source": [
    "import pandas as pd\r\n",
    "from collections import Counter\r\n",
    "import warnings\r\n",
    "from sklearn.preprocessing import StandardScaler\r\n",
    "from sklearn.model_selection import train_test_split\r\n",
    "from sklearn.metrics import confusion_matrix, accuracy_score, classification_report\r\n",
    "warnings.filterwarnings('ignore')\r\n",
    "\r\n",
    "credit_application_df = pd.read_csv(\"../../Resources/datasets/ML_credit_application.csv\")\r\n",
    "credit_application_df.drop(['ID'], axis=1, inplace=True)\r\n",
    "# Create our features\r\n",
    "X = credit_application_df.drop(columns=\"STATUS_y\")\r\n",
    "\r\n",
    "# Create our target\r\n",
    "y = pd.DataFrame(credit_application_df[\"STATUS_y\"])\r\n",
    "\r\n",
    "X_train, X_test, y_train, y_test = train_test_split(X, y, random_state=1)\r\n",
    "\r\n",
    "Counter(y_train)"
   ],
   "outputs": [
    {
     "output_type": "execute_result",
     "data": {
      "text/plain": [
       "Counter({'STATUS_y': 1})"
      ]
     },
     "metadata": {},
     "execution_count": 1
    }
   ],
   "metadata": {}
  },
  {
   "cell_type": "code",
   "execution_count": 2,
   "source": [
    "X_test.columns\r\n"
   ],
   "outputs": [
    {
     "output_type": "execute_result",
     "data": {
      "text/plain": [
       "Index(['CODE_GENDER', 'FLAG_OWN_CAR', 'FLAG_OWN_REALTY', 'CNT_CHILDREN',\n",
       "       'AMT_INCOME_TOTAL', 'NAME_INCOME_TYPE', 'NAME_EDUCATION_TYPE',\n",
       "       'NAME_FAMILY_STATUS', 'NAME_HOUSING_TYPE', 'OCCUPATION_TYPE',\n",
       "       'CNT_FAM_MEMBERS', 'AGE', 'EMPLOYMENT_PERIOD'],\n",
       "      dtype='object')"
      ]
     },
     "metadata": {},
     "execution_count": 2
    }
   ],
   "metadata": {}
  },
  {
   "cell_type": "code",
   "execution_count": 8,
   "source": [
    "# Creating a StandardScaler instance.\r\n",
    "scaler = StandardScaler()\r\n",
    "# Fitting the Standard Scaler with the training data.\r\n",
    "X_scaler = scaler.fit(X_train)\r\n",
    "\r\n",
    "# Scaling the data.\r\n",
    "X_train_scaled = X_scaler.transform(X_train)\r\n",
    "X_test_scaled = X_scaler.transform(X_test)\r\n"
   ],
   "outputs": [],
   "metadata": {}
  },
  {
   "cell_type": "code",
   "execution_count": 10,
   "source": [
    "# Import pickle library\r\n",
    "import pickle\r\n",
    "\r\n",
    "\r\n",
    "filename = 'randomForest_SMOTE_new.sav'\r\n",
    "loaded_model = pickle.load(open(filename, 'rb'))\r\n",
    "\r\n",
    "predictions = loaded_model.predict(X_test_scaled)\r\n",
    "\r\n",
    "# Calculated the accuracy score\r\n",
    "acc_score = accuracy_score(y_test, predictions)\r\n",
    "\r\n",
    "# Calculating the confusion matrix\r\n",
    "cm = confusion_matrix(y_test, predictions)\r\n",
    "\r\n",
    "# Create a DataFrame from the confusion matrix.\r\n",
    "cm_df = pd.DataFrame(\r\n",
    "    cm, index=[\"Actual 0\", \"Actual 1\"], columns=[\"Predicted 0\", \"Predicted 1\"])\r\n",
    "\r\n",
    "# Displaying results\r\n",
    "print(\"Confusion Matrix\")\r\n",
    "display(cm_df)\r\n",
    "print(f\"Accuracy Score : {acc_score}\")\r\n",
    "print(\"Classification Report\")\r\n",
    "print(classification_report(y_test, predictions))\r\n"
   ],
   "outputs": [
    {
     "output_type": "stream",
     "name": "stdout",
     "text": [
      "Confusion Matrix\n"
     ]
    },
    {
     "output_type": "display_data",
     "data": {
      "text/html": [
       "<div>\n",
       "<style scoped>\n",
       "    .dataframe tbody tr th:only-of-type {\n",
       "        vertical-align: middle;\n",
       "    }\n",
       "\n",
       "    .dataframe tbody tr th {\n",
       "        vertical-align: top;\n",
       "    }\n",
       "\n",
       "    .dataframe thead th {\n",
       "        text-align: right;\n",
       "    }\n",
       "</style>\n",
       "<table border=\"1\" class=\"dataframe\">\n",
       "  <thead>\n",
       "    <tr style=\"text-align: right;\">\n",
       "      <th></th>\n",
       "      <th>Predicted 0</th>\n",
       "      <th>Predicted 1</th>\n",
       "    </tr>\n",
       "  </thead>\n",
       "  <tbody>\n",
       "    <tr>\n",
       "      <th>Actual 0</th>\n",
       "      <td>5977</td>\n",
       "      <td>1102</td>\n",
       "    </tr>\n",
       "    <tr>\n",
       "      <th>Actual 1</th>\n",
       "      <td>972</td>\n",
       "      <td>1064</td>\n",
       "    </tr>\n",
       "  </tbody>\n",
       "</table>\n",
       "</div>"
      ],
      "text/plain": [
       "          Predicted 0  Predicted 1\n",
       "Actual 0         5977         1102\n",
       "Actual 1          972         1064"
      ]
     },
     "metadata": {}
    },
    {
     "output_type": "stream",
     "name": "stdout",
     "text": [
      "Accuracy Score : 0.7724629731212287\n",
      "Classification Report\n",
      "              precision    recall  f1-score   support\n",
      "\n",
      "           0       0.86      0.84      0.85      7079\n",
      "           1       0.49      0.52      0.51      2036\n",
      "\n",
      "    accuracy                           0.77      9115\n",
      "   macro avg       0.68      0.68      0.68      9115\n",
      "weighted avg       0.78      0.77      0.77      9115\n",
      "\n"
     ]
    }
   ],
   "metadata": {}
  },
  {
   "cell_type": "code",
   "execution_count": 11,
   "source": [
    "X_test_scaled[0]"
   ],
   "outputs": [
    {
     "output_type": "execute_result",
     "data": {
      "text/plain": [
       "array([ 0.7012958 ,  1.28000983, -1.42912371,  0.76966762, -0.06355992,\n",
       "       -0.23060404,  0.67308338, -0.38997147,  1.00795629, -1.44703241,\n",
       "        0.8826216 ,  0.37066706,  0.44598657])"
      ]
     },
     "metadata": {},
     "execution_count": 11
    }
   ],
   "metadata": {}
  },
  {
   "cell_type": "code",
   "execution_count": 6,
   "source": [
    "predictions"
   ],
   "outputs": [
    {
     "output_type": "execute_result",
     "data": {
      "text/plain": [
       "array([0, 0, 0, ..., 1, 1, 0], dtype=int64)"
      ]
     },
     "metadata": {},
     "execution_count": 6
    }
   ],
   "metadata": {}
  }
 ],
 "metadata": {
  "orig_nbformat": 4,
  "language_info": {
   "name": "python",
   "version": "3.7.10",
   "mimetype": "text/x-python",
   "codemirror_mode": {
    "name": "ipython",
    "version": 3
   },
   "pygments_lexer": "ipython3",
   "nbconvert_exporter": "python",
   "file_extension": ".py"
  },
  "kernelspec": {
   "name": "python3",
   "display_name": "Python 3.7.10 64-bit ('mlenv': conda)"
  },
  "interpreter": {
   "hash": "d3d69a7e49531545e4a045ccba3269a9ab79e5c7d2e2c2f2e1b5eb667026ccb9"
  }
 },
 "nbformat": 4,
 "nbformat_minor": 2
}