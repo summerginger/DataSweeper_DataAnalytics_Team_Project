{
 "cells": [
  {
   "cell_type": "code",
   "execution_count": 1,
   "source": [
    "import pandas as pd\r\n",
    "from collections import Counter\r\n",
    "import warnings\r\n",
    "from sklearn.preprocessing import StandardScaler\r\n",
    "from sklearn.model_selection import train_test_split\r\n",
    "from sklearn.metrics import confusion_matrix, accuracy_score, classification_report\r\n",
    "warnings.filterwarnings('ignore')\r\n",
    "\r\n",
    "credit_application_df = pd.read_csv(\"../../Resources/datasets/ML_credit_application.csv\")\r\n",
    "credit_application_df.drop(['ID'], axis=1, inplace=True)\r\n",
    "# Create our features\r\n",
    "X = credit_application_df.drop(columns=\"STATUS_y\")\r\n",
    "\r\n",
    "# Create our target\r\n",
    "y = pd.DataFrame(credit_application_df[\"STATUS_y\"])\r\n",
    "\r\n",
    "X_train, X_test, y_train, y_test = train_test_split(X, y, random_state=1)\r\n",
    "\r\n",
    "Counter(y_train)"
   ],
   "outputs": [
    {
     "output_type": "execute_result",
     "data": {
      "text/plain": [
       "Counter({'STATUS_y': 1})"
      ]
     },
     "metadata": {},
     "execution_count": 1
    }
   ],
   "metadata": {}
  },
  {
   "cell_type": "code",
   "execution_count": 8,
   "source": [
    "X_train.columns\r\n"
   ],
   "outputs": [
    {
     "output_type": "execute_result",
     "data": {
      "text/plain": [
       "Index(['CNT_CHILDREN', 'AMT_INCOME_TOTAL', 'CNT_FAM_MEMBERS', 'CODE_GENDER_M',\n",
       "       'FLAG_OWN_CAR_Y', 'FLAG_OWN_REALTY_Y', 'NAME_INCOME_TYPE_Pensioner',\n",
       "       'NAME_INCOME_TYPE_State servant', 'NAME_INCOME_TYPE_Student',\n",
       "       'NAME_INCOME_TYPE_Working', 'NAME_EDUCATION_TYPE_Higher education',\n",
       "       'NAME_EDUCATION_TYPE_Incomplete higher',\n",
       "       'NAME_EDUCATION_TYPE_Lower secondary',\n",
       "       'NAME_EDUCATION_TYPE_Secondary / secondary special',\n",
       "       'NAME_FAMILY_STATUS_Married', 'NAME_FAMILY_STATUS_Separated',\n",
       "       'NAME_FAMILY_STATUS_Single / not married', 'NAME_FAMILY_STATUS_Widow',\n",
       "       'NAME_HOUSING_TYPE_House / apartment',\n",
       "       'NAME_HOUSING_TYPE_Municipal apartment',\n",
       "       'NAME_HOUSING_TYPE_Office apartment',\n",
       "       'NAME_HOUSING_TYPE_Rented apartment', 'NAME_HOUSING_TYPE_With parents',\n",
       "       'OCCUPATION_TYPE_Cleaning staff', 'OCCUPATION_TYPE_Cooking staff',\n",
       "       'OCCUPATION_TYPE_Core staff', 'OCCUPATION_TYPE_Drivers',\n",
       "       'OCCUPATION_TYPE_HR staff', 'OCCUPATION_TYPE_High skill tech staff',\n",
       "       'OCCUPATION_TYPE_IT staff', 'OCCUPATION_TYPE_Laborers',\n",
       "       'OCCUPATION_TYPE_Low-skill Laborers', 'OCCUPATION_TYPE_Managers',\n",
       "       'OCCUPATION_TYPE_Medicine staff', 'OCCUPATION_TYPE_No Occupation Type',\n",
       "       'OCCUPATION_TYPE_Private service staff',\n",
       "       'OCCUPATION_TYPE_Realty agents', 'OCCUPATION_TYPE_Sales staff',\n",
       "       'OCCUPATION_TYPE_Secretaries', 'OCCUPATION_TYPE_Security staff',\n",
       "       'OCCUPATION_TYPE_Waiters/barmen staff', 'AGE', 'EMPLOYMENT_PERIOD'],\n",
       "      dtype='object')"
      ]
     },
     "metadata": {},
     "execution_count": 8
    }
   ],
   "metadata": {}
  },
  {
   "cell_type": "code",
   "execution_count": 3,
   "source": [
    "# Creating a StandardScaler instance.\r\n",
    "scaler = StandardScaler()\r\n",
    "# Fitting the Standard Scaler with the training data.\r\n",
    "X_scaler = scaler.fit(X_train)\r\n",
    "\r\n",
    "# Scaling the data.\r\n",
    "X_train_scaled = X_scaler.transform(X_train)\r\n",
    "X_test_scaled = X_scaler.transform(X_test)\r\n"
   ],
   "outputs": [],
   "metadata": {}
  },
  {
   "cell_type": "code",
   "execution_count": 4,
   "source": [
    "# Import pickle library\r\n",
    "import pickle\r\n",
    "\r\n",
    "\r\n",
    "filename = 'randomForest_SMOTE.sav'\r\n",
    "loaded_model = pickle.load(open(filename, 'rb'))\r\n",
    "\r\n",
    "predictions = loaded_model.predict(X_test_scaled)\r\n",
    "\r\n",
    "# Calculated the accuracy score\r\n",
    "acc_score = accuracy_score(y_test, predictions)\r\n",
    "\r\n",
    "# Calculating the confusion matrix\r\n",
    "cm = confusion_matrix(y_test, predictions)\r\n",
    "\r\n",
    "# Create a DataFrame from the confusion matrix.\r\n",
    "cm_df = pd.DataFrame(\r\n",
    "    cm, index=[\"Actual 0\", \"Actual 1\"], columns=[\"Predicted 0\", \"Predicted 1\"])\r\n",
    "\r\n",
    "# Displaying results\r\n",
    "print(\"Confusion Matrix\")\r\n",
    "display(cm_df)\r\n",
    "print(f\"Accuracy Score : {acc_score}\")\r\n",
    "print(\"Classification Report\")\r\n",
    "print(classification_report(y_test, predictions))\r\n"
   ],
   "outputs": [
    {
     "output_type": "stream",
     "name": "stdout",
     "text": [
      "Confusion Matrix\n"
     ]
    },
    {
     "output_type": "display_data",
     "data": {
      "text/html": [
       "<div>\n",
       "<style scoped>\n",
       "    .dataframe tbody tr th:only-of-type {\n",
       "        vertical-align: middle;\n",
       "    }\n",
       "\n",
       "    .dataframe tbody tr th {\n",
       "        vertical-align: top;\n",
       "    }\n",
       "\n",
       "    .dataframe thead th {\n",
       "        text-align: right;\n",
       "    }\n",
       "</style>\n",
       "<table border=\"1\" class=\"dataframe\">\n",
       "  <thead>\n",
       "    <tr style=\"text-align: right;\">\n",
       "      <th></th>\n",
       "      <th>Predicted 0</th>\n",
       "      <th>Predicted 1</th>\n",
       "    </tr>\n",
       "  </thead>\n",
       "  <tbody>\n",
       "    <tr>\n",
       "      <th>Actual 0</th>\n",
       "      <td>5994</td>\n",
       "      <td>1085</td>\n",
       "    </tr>\n",
       "    <tr>\n",
       "      <th>Actual 1</th>\n",
       "      <td>971</td>\n",
       "      <td>1065</td>\n",
       "    </tr>\n",
       "  </tbody>\n",
       "</table>\n",
       "</div>"
      ],
      "text/plain": [
       "          Predicted 0  Predicted 1\n",
       "Actual 0         5994         1085\n",
       "Actual 1          971         1065"
      ]
     },
     "metadata": {}
    },
    {
     "output_type": "stream",
     "name": "stdout",
     "text": [
      "Accuracy Score : 0.7744377399890291\n",
      "Classification Report\n",
      "              precision    recall  f1-score   support\n",
      "\n",
      "           0       0.86      0.85      0.85      7079\n",
      "           1       0.50      0.52      0.51      2036\n",
      "\n",
      "    accuracy                           0.77      9115\n",
      "   macro avg       0.68      0.68      0.68      9115\n",
      "weighted avg       0.78      0.77      0.78      9115\n",
      "\n"
     ]
    }
   ],
   "metadata": {}
  },
  {
   "cell_type": "code",
   "execution_count": 5,
   "source": [
    "X_test_scaled[0]"
   ],
   "outputs": [
    {
     "output_type": "execute_result",
     "data": {
      "text/plain": [
       "array([ 0.76966762, -0.06355992,  0.8826216 , -0.7012958 ,  1.28000983,\n",
       "       -1.42912371, -0.45314785,  3.34026994, -0.01710777, -1.03234191,\n",
       "       -0.60972453, -0.19904716, -0.10281376,  0.6866032 ,  0.67710661,\n",
       "       -0.24648365, -0.39231917, -0.21340851, -2.89034397,  5.55248007,\n",
       "       -0.08409413, -0.12520414, -0.22459683, -0.12550515, -0.13536625,\n",
       "        3.05441149, -0.24706748, -0.0453027 , -0.19685237, -0.03968815,\n",
       "       -0.45361681, -0.06885043, -0.3028447 , -0.18523113, -0.67567078,\n",
       "       -0.09892878, -0.04610627, -0.32334001, -0.06527353, -0.12729715,\n",
       "       -0.06965025,  0.37066706,  0.44598657])"
      ]
     },
     "metadata": {},
     "execution_count": 5
    }
   ],
   "metadata": {}
  },
  {
   "cell_type": "code",
   "execution_count": 6,
   "source": [
    "predictions"
   ],
   "outputs": [
    {
     "output_type": "execute_result",
     "data": {
      "text/plain": [
       "array([0, 0, 0, ..., 1, 1, 0], dtype=int64)"
      ]
     },
     "metadata": {},
     "execution_count": 6
    }
   ],
   "metadata": {}
  }
 ],
 "metadata": {
  "orig_nbformat": 4,
  "language_info": {
   "name": "python",
   "version": "3.7.10",
   "mimetype": "text/x-python",
   "codemirror_mode": {
    "name": "ipython",
    "version": 3
   },
   "pygments_lexer": "ipython3",
   "nbconvert_exporter": "python",
   "file_extension": ".py"
  },
  "kernelspec": {
   "name": "python3",
   "display_name": "Python 3.7.10 64-bit ('mlenv': conda)"
  },
  "interpreter": {
   "hash": "d3d69a7e49531545e4a045ccba3269a9ab79e5c7d2e2c2f2e1b5eb667026ccb9"
  }
 },
 "nbformat": 4,
 "nbformat_minor": 2
}